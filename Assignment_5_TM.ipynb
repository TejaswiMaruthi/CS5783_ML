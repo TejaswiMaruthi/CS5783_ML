{
 "cells": [
  {
   "cell_type": "markdown",
   "metadata": {},
   "source": [
    "## Importing libraries"
   ]
  },
  {
   "cell_type": "code",
   "execution_count": 12,
   "metadata": {},
   "outputs": [],
   "source": [
    "import numpy as np\n",
    "import matplotlib.image as img\n",
    "import matplotlib.pyplot as plt\n",
    "from scipy import misc\n",
    "import imageio"
   ]
  },
  {
   "cell_type": "markdown",
   "metadata": {},
   "source": [
    "## Function for Loading image"
   ]
  },
  {
   "cell_type": "code",
   "execution_count": 13,
   "metadata": {},
   "outputs": [],
   "source": [
    "def load_image():\n",
    "    image_input = imageio.imread('/content/drive/MyDrive/input.png') \n",
    "    image = image_input / 255 \n",
    "    return image"
   ]
  },
  {
   "cell_type": "markdown",
   "metadata": {},
   "source": [
    "## Function to initialize means"
   ]
  },
  {
   "cell_type": "markdown",
   "metadata": {},
   "source": [
    "#### reshaping, num_clusters = no. of clusters, means = centroids"
   ]
  },
  {
   "cell_type": "code",
   "execution_count": 21,
   "metadata": {},
   "outputs": [],
   "source": [
    "def init_means(image,num_clusters):\n",
    "    datapoints = np.reshape(image, (image.shape[0] * image.shape[1],\n",
    "                                             image.shape[2])) \n",
    "    m, n = datapoints.shape \n",
    "    means = np.zeros((num_clusters, n)) \n",
    "    for i in range(num_clusters):\n",
    "        rand_1 = int(np.random.random(1)*10)\n",
    "        rand_2 = int(np.random.random(1)*8)\n",
    "        means[i, 0] = datapoints[rand_1, 0]\n",
    "        means[i, 1] = datapoints[rand_2, 1]\n",
    "    return datapoints, means"
   ]
  },
  {
   "cell_type": "markdown",
   "metadata": {},
   "source": [
    "## Function for euclidean distance"
   ]
  },
  {
   "cell_type": "code",
   "execution_count": 22,
   "metadata": {},
   "outputs": [],
   "source": [
    "def euclidean_dist(x1, y1, x2, y2):   \n",
    "    dist = np.square(x1 - x2) + np.square(y1 - y2)\n",
    "    dist = np.sqrt(dist)\n",
    "    return dist"
   ]
  },
  {
   "cell_type": "markdown",
   "metadata": {},
   "source": [
    "## Function for k means"
   ]
  },
  {
   "cell_type": "code",
   "execution_count": 33,
   "metadata": {},
   "outputs": [],
   "source": [
    "def kmeans(datapoints, means, num_clusters):\n",
    "    n_iterations = 10\n",
    "    m, n = datapoints.shape\n",
    "    index = np.zeros(m) \n",
    "    #k-means\n",
    "    while(n_iterations > 0):\n",
    "        for j in range(len(datapoints)):  \n",
    "            # initialize mini value to 1000\n",
    "            minv = 1000\n",
    "            temp = None              \n",
    "            for k in range(num_clusters):                  \n",
    "                x1 = datapoints[j, 0]\n",
    "                y1 = datapoints[j, 1]\n",
    "                x2 = means[k, 0]\n",
    "                y2 = means[k, 1]                  \n",
    "                if(euclidean_dist(x1, y1, x2, y2) < minv):         \n",
    "                    minv = euclidean_dist(x1, y1, x2, y2)\n",
    "                    temp = k\n",
    "                    index[j] = k          \n",
    "        for k in range(num_clusters):             \n",
    "            sum_x = 0\n",
    "            sum_y = 0\n",
    "            count = 0              \n",
    "            for j in range(len(datapoints)):                 \n",
    "                if(index[j] == k):\n",
    "                    sum_x += datapoints[j, 0]\n",
    "                    sum_y += datapoints[j, 1] \n",
    "                    count += 1              \n",
    "            if(count == 0):\n",
    "                count = 1                  \n",
    "            means[k, 0] = float(sum_x / count)\n",
    "            means[k, 1] = float(sum_y / count)                   \n",
    "        n_iterations -= 1  \n",
    "    return means, index"
   ]
  },
  {
   "cell_type": "markdown",
   "metadata": {},
   "source": [
    "## Function for Image compression"
   ]
  },
  {
   "cell_type": "code",
   "execution_count": 38,
   "metadata": {},
   "outputs": [],
   "source": [
    "def compressed_image(means, index, image):  \n",
    "    centroid = np.array(means)\n",
    "    recover_image = centroid[index.astype(int), :]      \n",
    "    # 3d matrix\n",
    "    recover_image = np.reshape(recover_image, (img.shape[0], img.shape[1],\n",
    "                                                     img.shape[2]))\n",
    "    # plot\n",
    "    plt.imshow(recover_image)\n",
    "    plt.show() \n",
    "    # save image.\n",
    "    imageio.imwrite('output_' + str(clusters) +\n",
    "                        'colors.png', recover_image)"
   ]
  },
  {
   "cell_type": "code",
   "execution_count": 39,
   "metadata": {},
   "outputs": [
    {
     "name": "stdout",
     "output_type": "stream",
     "text": [
      "Enter the number of colors in the compressed image. default = 12\n",
      "5\n"
     ]
    },
    {
     "data": {
      "image/png": "[encoded data removed]",
      "text/plain": [
       "<Figure size 432x288 with 1 Axes>"
      ]
     },
     "metadata": {
      "needs_background": "light"
     },
     "output_type": "display_data"
    },
    {
     "name": "stderr",
     "output_type": "stream",
     "text": [
      "Lossy conversion from float64 to uint8. Range [0, 1]. Convert image to uint8 prior to saving to suppress this warning.\n"
     ]
    }
   ],
   "source": [
    "image = load_image()\n",
    "\n",
    "clusters = 12\n",
    "clusters = int(input('Enter the number of colors in the compressed image. default = 12\\n'))\n",
    "\n",
    "datapoints, means = init_means(image, clusters)\n",
    "means, index = kmeans(datapoints, means, clusters)\n",
    "compressed_image(means, index, image)"
   ]
  },
  {
   "cell_type": "code",
   "execution_count": null,
   "metadata": {},
   "outputs": [],
   "source": []
  }
 ],
 "metadata": {
  "kernelspec": {
   "display_name": "Python 3",
   "language": "python",
   "name": "python3"
  },
  "language_info": {
   "codemirror_mode": {
    "name": "ipython",
    "version": 3
   },
   "file_extension": ".py",
   "mimetype": "text/x-python",
   "name": "python",
   "nbconvert_exporter": "python",
   "pygments_lexer": "ipython3",
   "version": "3.7.6"
  }
 },
 "nbformat": 4,
 "nbformat_minor": 4
}
