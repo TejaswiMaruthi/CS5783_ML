{
  "nbformat": 4,
  "nbformat_minor": 0,
  "metadata": {
    "colab": {
      "provenance": [],
      "collapsed_sections": []
    },
    "kernelspec": {
      "name": "python3",
      "display_name": "Python 3"
    },
    "language_info": {
      "name": "python"
    },
    "accelerator": "GPU",
    "gpuClass": "standard"
  },
  "cells": [
    {
      "cell_type": "code",
      "execution_count": 11,
      "metadata": {
        "id": "WSf60pBl1Mtq"
      },
      "outputs": [],
      "source": [
        "# import libraries\n",
        "import numpy as np\n",
        "import matplotlib.pyplot as plt     \n",
        "import random                       \n",
        "from datetime import datetime\n",
        "import tensorflow as tf\n",
        "from tensorflow import keras\n",
        "from packaging import version\n",
        "# Load the TensorBoard notebook extension.\n",
        "%load_ext tensorboard\n",
        "import tensorboard"
      ]
    },
    {
      "cell_type": "code",
      "source": [
        "#Setting seed\n",
        "tf.random.set_seed(12345)\n",
        "tf.compat.v1.random.set_random_seed(12345)"
      ],
      "metadata": {
        "id": "rumZZ-9llX7u"
      },
      "execution_count": 12,
      "outputs": []
    },
    {
      "cell_type": "code",
      "source": [
        "# Load MNIST data\n",
        "mnist = tf.keras.datasets.mnist\n",
        "mnist"
      ],
      "metadata": {
        "colab": {
          "base_uri": "https://localhost:8080/"
        },
        "id": "6QuO8np6liIo",
        "outputId": "93283817-5171-4931-bbda-8a9f4ca31c9f"
      },
      "execution_count": 13,
      "outputs": [
        {
          "output_type": "execute_result",
          "data": {
            "text/plain": [
              "<module 'keras.api._v2.keras.datasets.mnist' from '/usr/local/lib/python3.7/dist-packages/keras/api/_v2/keras/datasets/mnist/__init__.py'>"
            ]
          },
          "metadata": {},
          "execution_count": 13
        }
      ]
    },
    {
      "cell_type": "code",
      "source": [
        "#Test train split\n",
        "(X_train, y_train), (X_test, y_test) = mnist.load_data()\n",
        "X_train, X_test = X_train / 255.0, X_test / 255.0 \n",
        "X_train, X_test = np.expand_dims(X_train, axis=-1), np.expand_dims(X_test, axis=-1)\n",
        "print(X_train.shape)"
      ],
      "metadata": {
        "colab": {
          "base_uri": "https://localhost:8080/"
        },
        "id": "gkIMao13liO0",
        "outputId": "4d9c447b-bbe2-4d4f-9cb3-ccd5229d4617"
      },
      "execution_count": 14,
      "outputs": [
        {
          "output_type": "stream",
          "name": "stdout",
          "text": [
            "Downloading data from https://storage.googleapis.com/tensorflow/tf-keras-datasets/mnist.npz\n",
            "11490434/11490434 [==============================] - 0s 0us/step\n",
            "(60000, 28, 28, 1)\n"
          ]
        }
      ]
    },
    {
      "cell_type": "code",
      "source": [
        "#Reshape data\n",
        "X_train = X_train.reshape(-1, 28, 28, 1)\n",
        "X_test = X_test.reshape(-1, 28, 28, 1)\n",
        "X_train = X_train.astype('float32')\n",
        "X_test = X_test.astype('float32')"
      ],
      "metadata": {
        "id": "OIWI8OMIliSA"
      },
      "execution_count": 15,
      "outputs": []
    },
    {
      "cell_type": "code",
      "source": [
        "#Samples\n",
        "from matplotlib.colors import Colormap\n",
        "fig, axes = plt.subplots(nrows=2, ncols=6,figsize=(15,5))\n",
        "ax = axes.ravel()\n",
        "for i in range(12):\n",
        "\tax[i].imshow(X_train[i].reshape(28,28))\n",
        "plt.show()"
      ],
      "metadata": {
        "colab": {
          "base_uri": "https://localhost:8080/",
          "height": 318
        },
        "id": "8W374ckZliUp",
        "outputId": "111c7d26-2aec-4977-fb53-20cfedb02da7"
      },
      "execution_count": 16,
      "outputs": [
        {
          "output_type": "display_data",
          "data": {
            "text/plain": [
              "<Figure size 1080x360 with 12 Axes>"
            ],
            "image/png": "[encoded data removed]"
          },
          "metadata": {
            "needs_background": "light"
          }
        }
      ]
    },
    {
      "cell_type": "markdown",
      "source": [
        "A regular CNN where the number of filters in each layer increases as the depth of the network grows i.e., the Lth layer will have more filters than the (L-1)th layer:"
      ],
      "metadata": {
        "id": "LKXY11E9mM-U"
      }
    },
    {
      "cell_type": "code",
      "source": [
        "logdir=\"logs/fit/\" + datetime.now().strftime(\"%Y%m%d-%H%M%S\")\n",
        "tensorboard_callback = keras.callbacks.TensorBoard(log_dir=logdir)\n",
        "\n",
        "#Building model\n",
        "cnn_m1 = tf.keras.models.Sequential()\n",
        "#Here, number of filters has been increased from 10 to 100\n",
        "cnn_m1.add(tf.keras.layers.Conv2D(10, (3, 3), padding='same', activation='relu'))\n",
        "cnn_m1.add(tf.keras.layers.Conv2D(20, (3, 3), padding='same', activation='relu'))\n",
        "cnn_m1.add(tf.keras.layers.Conv2D(30, (3, 3), strides=(2, 2), padding='same', activation='relu'))\n",
        "cnn_m1.add(tf.keras.layers.MaxPooling2D(pool_size=(2, 2), strides=(2,2)))\n",
        "cnn_m1.add(tf.keras.layers.Conv2D(40, (3, 3), padding='same', activation='relu'))\n",
        "cnn_m1.add(tf.keras.layers.Conv2D(50, (3, 3), padding='same', activation='relu'))\n",
        "cnn_m1.add(tf.keras.layers.Conv2D(60, (3, 3), strides=(2, 2), padding='same', activation='relu'))\n",
        "cnn_m1.add(tf.keras.layers.MaxPooling2D(pool_size=(2, 2), strides=(2,2)))\n",
        "cnn_m1.add(tf.keras.layers.Conv2D(70, (3, 3), padding='same', activation='relu'))\n",
        "cnn_m1.add(tf.keras.layers.Conv2D(80, (3, 3), padding='same', activation='relu'))\n",
        "cnn_m1.add(tf.keras.layers.MaxPooling2D(pool_size=(2, 2), strides=(2,2)))\n",
        "cnn_m1.add(tf.keras.layers.Conv2D(90, (3, 3), strides=(2, 2), padding='same', activation='relu'))\n",
        "cnn_m1.add(tf.keras.layers.Conv2D(100, (3, 3), strides=(2, 2), padding='same', activation='relu'))\n",
        "\n",
        "cnn_m1.add(tf.keras.layers.Flatten())\n",
        "cnn_m1.add(tf.keras.layers.Dense(256))\n",
        "cnn_m1.add(tf.keras.layers.Activation('relu'))\n",
        "cnn_m1.add(tf.keras.layers.Dense(10))         #10 neurons to classify 10 different classes\n",
        "cnn_m1.add(tf.keras.layers.Activation('softmax'))  #Since multiclass problem\n",
        "\n",
        "cnn_m1.compile(loss='sparse_categorical_crossentropy', optimizer='adam', metrics=['accuracy'])\n",
        "cnn_m1.build(input_shape=(1,28,28,1))\n",
        "accuracy= cnn_m1.fit(X_train, y_train, batch_size=512, epochs=10)\n",
        "cnn_m1.summary()"
      ],
      "metadata": {
        "colab": {
          "base_uri": "https://localhost:8080/"
        },
        "id": "CL7sRzMEliXi",
        "outputId": "08d7502b-caf7-40d3-e62b-d19e9295bdaf"
      },
      "execution_count": 17,
      "outputs": [
        {
          "output_type": "stream",
          "name": "stdout",
          "text": [
            "Epoch 1/10\n",
            "118/118 [==============================] - 9s 23ms/step - loss: 1.0964 - accuracy: 0.6161\n",
            "Epoch 2/10\n",
            "118/118 [==============================] - 2s 20ms/step - loss: 0.2588 - accuracy: 0.9199\n",
            "Epoch 3/10\n",
            "118/118 [==============================] - 2s 20ms/step - loss: 0.1159 - accuracy: 0.9645\n",
            "Epoch 4/10\n",
            "118/118 [==============================] - 2s 20ms/step - loss: 0.0790 - accuracy: 0.9757\n",
            "Epoch 5/10\n",
            "118/118 [==============================] - 2s 20ms/step - loss: 0.0673 - accuracy: 0.9787\n",
            "Epoch 6/10\n",
            "118/118 [==============================] - 2s 21ms/step - loss: 0.0523 - accuracy: 0.9831\n",
            "Epoch 7/10\n",
            "118/118 [==============================] - 3s 26ms/step - loss: 0.0471 - accuracy: 0.9848\n",
            "Epoch 8/10\n",
            "118/118 [==============================] - 2s 20ms/step - loss: 0.0406 - accuracy: 0.9875\n",
            "Epoch 9/10\n",
            "118/118 [==============================] - 3s 22ms/step - loss: 0.0361 - accuracy: 0.9886\n",
            "Epoch 10/10\n",
            "118/118 [==============================] - 2s 20ms/step - loss: 0.0297 - accuracy: 0.9908\n",
            "Model: \"sequential_2\"\n",
            "_________________________________________________________________\n",
            " Layer (type)                Output Shape              Param #   \n",
            "=================================================================\n",
            " conv2d_3 (Conv2D)           (None, 28, 28, 10)        100       \n",
            "                                                                 \n",
            " conv2d_4 (Conv2D)           (None, 28, 28, 20)        1820      \n",
            "                                                                 \n",
            " conv2d_5 (Conv2D)           (None, 14, 14, 30)        5430      \n",
            "                                                                 \n",
            " max_pooling2d_2 (MaxPooling  (None, 7, 7, 30)         0         \n",
            " 2D)                                                             \n",
            "                                                                 \n",
            " conv2d_6 (Conv2D)           (None, 7, 7, 40)          10840     \n",
            "                                                                 \n",
            " conv2d_7 (Conv2D)           (None, 7, 7, 50)          18050     \n",
            "                                                                 \n",
            " conv2d_8 (Conv2D)           (None, 4, 4, 60)          27060     \n",
            "                                                                 \n",
            " max_pooling2d_3 (MaxPooling  (None, 2, 2, 60)         0         \n",
            " 2D)                                                             \n",
            "                                                                 \n",
            " conv2d_9 (Conv2D)           (None, 2, 2, 70)          37870     \n",
            "                                                                 \n",
            " conv2d_10 (Conv2D)          (None, 2, 2, 80)          50480     \n",
            "                                                                 \n",
            " max_pooling2d_4 (MaxPooling  (None, 1, 1, 80)         0         \n",
            " 2D)                                                             \n",
            "                                                                 \n",
            " conv2d_11 (Conv2D)          (None, 1, 1, 90)          64890     \n",
            "                                                                 \n",
            " conv2d_12 (Conv2D)          (None, 1, 1, 100)         81100     \n",
            "                                                                 \n",
            " flatten_2 (Flatten)         (None, 100)               0         \n",
            "                                                                 \n",
            " dense_7 (Dense)             (None, 256)               25856     \n",
            "                                                                 \n",
            " activation_7 (Activation)   (None, 256)               0         \n",
            "                                                                 \n",
            " dense_8 (Dense)             (None, 10)                2570      \n",
            "                                                                 \n",
            " activation_8 (Activation)   (None, 10)                0         \n",
            "                                                                 \n",
            "=================================================================\n",
            "Total params: 326,066\n",
            "Trainable params: 326,066\n",
            "Non-trainable params: 0\n",
            "_________________________________________________________________\n"
          ]
        }
      ]
    },
    {
      "cell_type": "code",
      "source": [
        "# Evaluation\n",
        "score = cnn_m1.evaluate(X_test, y_test)\n",
        "print('Test loss for m1:', score[0])\n",
        "print('Test accuracy for m1:', score[1])"
      ],
      "metadata": {
        "colab": {
          "base_uri": "https://localhost:8080/"
        },
        "id": "N3QlLXrBlian",
        "outputId": "4f526d50-a3d5-4709-9ffb-43fcd042d09d"
      },
      "execution_count": 18,
      "outputs": [
        {
          "output_type": "stream",
          "name": "stdout",
          "text": [
            "313/313 [==============================] - 2s 4ms/step - loss: 0.0703 - accuracy: 0.9764\n",
            "Test loss for model1: 0.07029374688863754\n",
            "Test accuracy for model1: 0.9764000177383423\n"
          ]
        }
      ]
    },
    {
      "cell_type": "code",
      "source": [
        "#Different learning rates\n",
        "learningRate=[0.005, 0.01, 0.05, 0.1]\n",
        "acc=np.zeros(4)\n",
        "for i in range(len(learningRate)):\n",
        "\n",
        "  cnn_m1.compile(loss='sparse_categorical_crossentropy', optimizer='adam', metrics=['accuracy'])\n",
        "  cnn_m1.build(input_shape=(1,28,28,1))\n",
        "  accuracy= cnn_m1.fit(X_train, y_train, batch_size=128, epochs=5)\n",
        "  acc[i]=accuracy.history['accuracy'][4]\n",
        "  cnn_m1.summary()"
      ],
      "metadata": {
        "colab": {
          "base_uri": "https://localhost:8080/"
        },
        "id": "vxNo91HXlidd",
        "outputId": "1f544422-8c87-4394-88cc-2f0d023cf939"
      },
      "execution_count": 19,
      "outputs": [
        {
          "output_type": "stream",
          "name": "stdout",
          "text": [
            "Epoch 1/5\n",
            "469/469 [==============================] - 5s 8ms/step - loss: 0.0622 - accuracy: 0.9808\n",
            "Epoch 2/5\n",
            "469/469 [==============================] - 4s 9ms/step - loss: 0.0476 - accuracy: 0.9858\n",
            "Epoch 3/5\n",
            "469/469 [==============================] - 4s 8ms/step - loss: 0.0413 - accuracy: 0.9879\n",
            "Epoch 4/5\n",
            "469/469 [==============================] - 4s 8ms/step - loss: 0.0359 - accuracy: 0.9895\n",
            "Epoch 5/5\n",
            "469/469 [==============================] - 4s 8ms/step - loss: 0.0302 - accuracy: 0.9907\n",
            "Model: \"sequential_2\"\n",
            "_________________________________________________________________\n",
            " Layer (type)                Output Shape              Param #   \n",
            "=================================================================\n",
            " conv2d_3 (Conv2D)           (None, 28, 28, 10)        100       \n",
            "                                                                 \n",
            " conv2d_4 (Conv2D)           (None, 28, 28, 20)        1820      \n",
            "                                                                 \n",
            " conv2d_5 (Conv2D)           (None, 14, 14, 30)        5430      \n",
            "                                                                 \n",
            " max_pooling2d_2 (MaxPooling  (None, 7, 7, 30)         0         \n",
            " 2D)                                                             \n",
            "                                                                 \n",
            " conv2d_6 (Conv2D)           (None, 7, 7, 40)          10840     \n",
            "                                                                 \n",
            " conv2d_7 (Conv2D)           (None, 7, 7, 50)          18050     \n",
            "                                                                 \n",
            " conv2d_8 (Conv2D)           (None, 4, 4, 60)          27060     \n",
            "                                                                 \n",
            " max_pooling2d_3 (MaxPooling  (None, 2, 2, 60)         0         \n",
            " 2D)                                                             \n",
            "                                                                 \n",
            " conv2d_9 (Conv2D)           (None, 2, 2, 70)          37870     \n",
            "                                                                 \n",
            " conv2d_10 (Conv2D)          (None, 2, 2, 80)          50480     \n",
            "                                                                 \n",
            " max_pooling2d_4 (MaxPooling  (None, 1, 1, 80)         0         \n",
            " 2D)                                                             \n",
            "                                                                 \n",
            " conv2d_11 (Conv2D)          (None, 1, 1, 90)          64890     \n",
            "                                                                 \n",
            " conv2d_12 (Conv2D)          (None, 1, 1, 100)         81100     \n",
            "                                                                 \n",
            " flatten_2 (Flatten)         (None, 100)               0         \n",
            "                                                                 \n",
            " dense_7 (Dense)             (None, 256)               25856     \n",
            "                                                                 \n",
            " activation_7 (Activation)   (None, 256)               0         \n",
            "                                                                 \n",
            " dense_8 (Dense)             (None, 10)                2570      \n",
            "                                                                 \n",
            " activation_8 (Activation)   (None, 10)                0         \n",
            "                                                                 \n",
            "=================================================================\n",
            "Total params: 326,066\n",
            "Trainable params: 326,066\n",
            "Non-trainable params: 0\n",
            "_________________________________________________________________\n",
            "Epoch 1/5\n",
            "469/469 [==============================] - 5s 8ms/step - loss: 0.0311 - accuracy: 0.9912\n",
            "Epoch 2/5\n",
            "469/469 [==============================] - 4s 8ms/step - loss: 0.0304 - accuracy: 0.9913\n",
            "Epoch 3/5\n",
            "469/469 [==============================] - 4s 8ms/step - loss: 0.0224 - accuracy: 0.9937\n",
            "Epoch 4/5\n",
            "469/469 [==============================] - 4s 8ms/step - loss: 0.0197 - accuracy: 0.9941\n",
            "Epoch 5/5\n",
            "469/469 [==============================] - 4s 8ms/step - loss: 0.0202 - accuracy: 0.9941\n",
            "Model: \"sequential_2\"\n",
            "_________________________________________________________________\n",
            " Layer (type)                Output Shape              Param #   \n",
            "=================================================================\n",
            " conv2d_3 (Conv2D)           (None, 28, 28, 10)        100       \n",
            "                                                                 \n",
            " conv2d_4 (Conv2D)           (None, 28, 28, 20)        1820      \n",
            "                                                                 \n",
            " conv2d_5 (Conv2D)           (None, 14, 14, 30)        5430      \n",
            "                                                                 \n",
            " max_pooling2d_2 (MaxPooling  (None, 7, 7, 30)         0         \n",
            " 2D)                                                             \n",
            "                                                                 \n",
            " conv2d_6 (Conv2D)           (None, 7, 7, 40)          10840     \n",
            "                                                                 \n",
            " conv2d_7 (Conv2D)           (None, 7, 7, 50)          18050     \n",
            "                                                                 \n",
            " conv2d_8 (Conv2D)           (None, 4, 4, 60)          27060     \n",
            "                                                                 \n",
            " max_pooling2d_3 (MaxPooling  (None, 2, 2, 60)         0         \n",
            " 2D)                                                             \n",
            "                                                                 \n",
            " conv2d_9 (Conv2D)           (None, 2, 2, 70)          37870     \n",
            "                                                                 \n",
            " conv2d_10 (Conv2D)          (None, 2, 2, 80)          50480     \n",
            "                                                                 \n",
            " max_pooling2d_4 (MaxPooling  (None, 1, 1, 80)         0         \n",
            " 2D)                                                             \n",
            "                                                                 \n",
            " conv2d_11 (Conv2D)          (None, 1, 1, 90)          64890     \n",
            "                                                                 \n",
            " conv2d_12 (Conv2D)          (None, 1, 1, 100)         81100     \n",
            "                                                                 \n",
            " flatten_2 (Flatten)         (None, 100)               0         \n",
            "                                                                 \n",
            " dense_7 (Dense)             (None, 256)               25856     \n",
            "                                                                 \n",
            " activation_7 (Activation)   (None, 256)               0         \n",
            "                                                                 \n",
            " dense_8 (Dense)             (None, 10)                2570      \n",
            "                                                                 \n",
            " activation_8 (Activation)   (None, 10)                0         \n",
            "                                                                 \n",
            "=================================================================\n",
            "Total params: 326,066\n",
            "Trainable params: 326,066\n",
            "Non-trainable params: 0\n",
            "_________________________________________________________________\n",
            "Epoch 1/5\n",
            "469/469 [==============================] - 6s 10ms/step - loss: 0.0194 - accuracy: 0.9946\n",
            "Epoch 2/5\n",
            "469/469 [==============================] - 4s 8ms/step - loss: 0.0170 - accuracy: 0.9952\n",
            "Epoch 3/5\n",
            "469/469 [==============================] - 5s 11ms/step - loss: 0.0165 - accuracy: 0.9952\n",
            "Epoch 4/5\n",
            "469/469 [==============================] - 4s 9ms/step - loss: 0.0157 - accuracy: 0.9956\n",
            "Epoch 5/5\n",
            "469/469 [==============================] - 4s 9ms/step - loss: 0.0130 - accuracy: 0.9963\n",
            "Model: \"sequential_2\"\n",
            "_________________________________________________________________\n",
            " Layer (type)                Output Shape              Param #   \n",
            "=================================================================\n",
            " conv2d_3 (Conv2D)           (None, 28, 28, 10)        100       \n",
            "                                                                 \n",
            " conv2d_4 (Conv2D)           (None, 28, 28, 20)        1820      \n",
            "                                                                 \n",
            " conv2d_5 (Conv2D)           (None, 14, 14, 30)        5430      \n",
            "                                                                 \n",
            " max_pooling2d_2 (MaxPooling  (None, 7, 7, 30)         0         \n",
            " 2D)                                                             \n",
            "                                                                 \n",
            " conv2d_6 (Conv2D)           (None, 7, 7, 40)          10840     \n",
            "                                                                 \n",
            " conv2d_7 (Conv2D)           (None, 7, 7, 50)          18050     \n",
            "                                                                 \n",
            " conv2d_8 (Conv2D)           (None, 4, 4, 60)          27060     \n",
            "                                                                 \n",
            " max_pooling2d_3 (MaxPooling  (None, 2, 2, 60)         0         \n",
            " 2D)                                                             \n",
            "                                                                 \n",
            " conv2d_9 (Conv2D)           (None, 2, 2, 70)          37870     \n",
            "                                                                 \n",
            " conv2d_10 (Conv2D)          (None, 2, 2, 80)          50480     \n",
            "                                                                 \n",
            " max_pooling2d_4 (MaxPooling  (None, 1, 1, 80)         0         \n",
            " 2D)                                                             \n",
            "                                                                 \n",
            " conv2d_11 (Conv2D)          (None, 1, 1, 90)          64890     \n",
            "                                                                 \n",
            " conv2d_12 (Conv2D)          (None, 1, 1, 100)         81100     \n",
            "                                                                 \n",
            " flatten_2 (Flatten)         (None, 100)               0         \n",
            "                                                                 \n",
            " dense_7 (Dense)             (None, 256)               25856     \n",
            "                                                                 \n",
            " activation_7 (Activation)   (None, 256)               0         \n",
            "                                                                 \n",
            " dense_8 (Dense)             (None, 10)                2570      \n",
            "                                                                 \n",
            " activation_8 (Activation)   (None, 10)                0         \n",
            "                                                                 \n",
            "=================================================================\n",
            "Total params: 326,066\n",
            "Trainable params: 326,066\n",
            "Non-trainable params: 0\n",
            "_________________________________________________________________\n",
            "Epoch 1/5\n",
            "469/469 [==============================] - 5s 10ms/step - loss: 0.0137 - accuracy: 0.9962\n",
            "Epoch 2/5\n",
            "469/469 [==============================] - 5s 11ms/step - loss: 0.0142 - accuracy: 0.9960\n",
            "Epoch 3/5\n",
            "469/469 [==============================] - 6s 12ms/step - loss: 0.0100 - accuracy: 0.9972\n",
            "Epoch 4/5\n",
            "469/469 [==============================] - 6s 13ms/step - loss: 0.0088 - accuracy: 0.9973\n",
            "Epoch 5/5\n",
            "469/469 [==============================] - 5s 10ms/step - loss: 0.0117 - accuracy: 0.9966\n",
            "Model: \"sequential_2\"\n",
            "_________________________________________________________________\n",
            " Layer (type)                Output Shape              Param #   \n",
            "=================================================================\n",
            " conv2d_3 (Conv2D)           (None, 28, 28, 10)        100       \n",
            "                                                                 \n",
            " conv2d_4 (Conv2D)           (None, 28, 28, 20)        1820      \n",
            "                                                                 \n",
            " conv2d_5 (Conv2D)           (None, 14, 14, 30)        5430      \n",
            "                                                                 \n",
            " max_pooling2d_2 (MaxPooling  (None, 7, 7, 30)         0         \n",
            " 2D)                                                             \n",
            "                                                                 \n",
            " conv2d_6 (Conv2D)           (None, 7, 7, 40)          10840     \n",
            "                                                                 \n",
            " conv2d_7 (Conv2D)           (None, 7, 7, 50)          18050     \n",
            "                                                                 \n",
            " conv2d_8 (Conv2D)           (None, 4, 4, 60)          27060     \n",
            "                                                                 \n",
            " max_pooling2d_3 (MaxPooling  (None, 2, 2, 60)         0         \n",
            " 2D)                                                             \n",
            "                                                                 \n",
            " conv2d_9 (Conv2D)           (None, 2, 2, 70)          37870     \n",
            "                                                                 \n",
            " conv2d_10 (Conv2D)          (None, 2, 2, 80)          50480     \n",
            "                                                                 \n",
            " max_pooling2d_4 (MaxPooling  (None, 1, 1, 80)         0         \n",
            " 2D)                                                             \n",
            "                                                                 \n",
            " conv2d_11 (Conv2D)          (None, 1, 1, 90)          64890     \n",
            "                                                                 \n",
            " conv2d_12 (Conv2D)          (None, 1, 1, 100)         81100     \n",
            "                                                                 \n",
            " flatten_2 (Flatten)         (None, 100)               0         \n",
            "                                                                 \n",
            " dense_7 (Dense)             (None, 256)               25856     \n",
            "                                                                 \n",
            " activation_7 (Activation)   (None, 256)               0         \n",
            "                                                                 \n",
            " dense_8 (Dense)             (None, 10)                2570      \n",
            "                                                                 \n",
            " activation_8 (Activation)   (None, 10)                0         \n",
            "                                                                 \n",
            "=================================================================\n",
            "Total params: 326,066\n",
            "Trainable params: 326,066\n",
            "Non-trainable params: 0\n",
            "_________________________________________________________________\n"
          ]
        }
      ]
    },
    {
      "cell_type": "code",
      "source": [
        "#Plot different learning rates\n",
        "plt.plot(np.array(learningRate).reshape(4,1), np.array(acc).reshape(4,1))\n",
        "plt.ylabel('Accuracy')\n",
        "plt.xlabel('Learning rate')\n",
        "plt.title('Accuracy Vs Learning rate')\n",
        "plt.show()"
      ],
      "metadata": {
        "colab": {
          "base_uri": "https://localhost:8080/",
          "height": 295
        },
        "id": "PtMHycPLligW",
        "outputId": "6d3fbd19-91a1-4474-c6e6-62711ea08913"
      },
      "execution_count": 20,
      "outputs": [
        {
          "output_type": "display_data",
          "data": {
            "text/plain": [
              "<Figure size 432x288 with 1 Axes>"
            ],
            "image/png": "[encoded data removed]"
          },
          "metadata": {
            "needs_background": "light"
          }
        }
      ]
    },
    {
      "cell_type": "markdown",
      "source": [
        "According to the above plot, Higher the learning rate the better, So learning rate 0.10 gave best results."
      ],
      "metadata": {
        "id": "0kDGBsannOVc"
      }
    },
    {
      "cell_type": "code",
      "source": [
        "#learning rate = 0.10 , different batch sizes and optimisers\n",
        "batch=[100, 200, 300, 400]\n",
        "acc1=np.zeros(4)\n",
        "acc2=np.zeros(4)\n",
        "acc3=np.zeros(4)\n",
        "for k in range(3):\n",
        "  for i in range(len(batch)):    \n",
        "\n",
        "        if k==0:\n",
        "          opt_lr = tf.keras.optimizers.Adam(learning_rate=0.1)\n",
        "          #Building m\n",
        "          cnn_m1 = tf.keras.ms.Sequential()\n",
        "          #Here, number of filters has been increased from 10 to 100\n",
        "          cnn_m1.add(tf.keras.layers.Conv2D(10, (3, 3), padding='same', activation='relu'))\n",
        "          cnn_m1.add(tf.keras.layers.Conv2D(20, (3, 3), padding='same', activation='relu'))\n",
        "          cnn_m1.add(tf.keras.layers.Conv2D(30, (3, 3), strides=(2, 2), padding='same', activation='relu'))\n",
        "          cnn_m1.add(tf.keras.layers.MaxPooling2D(pool_size=(2, 2), strides=(2,2)))\n",
        "          cnn_m1.add(tf.keras.layers.Conv2D(40, (3, 3), padding='same', activation='relu'))\n",
        "          cnn_m1.add(tf.keras.layers.Conv2D(50, (3, 3), padding='same', activation='relu'))\n",
        "          cnn_m1.add(tf.keras.layers.Conv2D(60, (3, 3), strides=(2, 2), padding='same', activation='relu'))\n",
        "          cnn_m1.add(tf.keras.layers.MaxPooling2D(pool_size=(2, 2), strides=(2,2)))\n",
        "          cnn_m1.add(tf.keras.layers.Conv2D(70, (3, 3), padding='same', activation='relu'))\n",
        "          cnn_m1.add(tf.keras.layers.Conv2D(80, (3, 3), padding='same', activation='relu'))\n",
        "          cnn_m1.add(tf.keras.layers.MaxPooling2D(pool_size=(2, 2), strides=(2,2)))\n",
        "          cnn_m1.add(tf.keras.layers.Conv2D(90, (3, 3), strides=(2, 2), padding='same', activation='relu'))\n",
        "          cnn_m1.add(tf.keras.layers.Conv2D(100, (3, 3), strides=(2, 2), padding='same', activation='relu'))\n",
        "\n",
        "          cnn_m1.add(tf.keras.layers.Flatten())\n",
        "          cnn_m1.add(tf.keras.layers.Dense(256))\n",
        "          cnn_m1.add(tf.keras.layers.Activation('relu'))\n",
        "          cnn_m1.add(tf.keras.layers.Dense(10))         #10 neurons to classify 10 different classes\n",
        "          cnn_m1.add(tf.keras.layers.Activation('softmax'))  #Since multiclass problem\n",
        "          cnn_m1.compile(loss='sparse_categorical_crossentropy', optimizer=opt_lr, metrics=['accuracy'])\n",
        "          cnn_m1.build(input_shape=(1,28,28,1))  \n",
        "          accuracy1= cnn_m1.fit(X_train, y_train,\n",
        "              batch_size=batch[i], epochs=5,\n",
        "              verbose=0)   \n",
        "          acc1[i]=accuracy1.history['accuracy'][4]\n",
        "        \n",
        "        elif k==1:\n",
        "          opt_lr = tf.keras.optimizers.SGD(learning_rate=0.1)\n",
        "          cnn_m1 = tf.keras.ms.Sequential()\n",
        "          #Here, number of filters has been increased from 10 to 100\n",
        "          cnn_m1.add(tf.keras.layers.Conv2D(10, (3, 3), padding='same', activation='relu'))\n",
        "          cnn_m1.add(tf.keras.layers.Conv2D(20, (3, 3), padding='same', activation='relu'))\n",
        "          cnn_m1.add(tf.keras.layers.Conv2D(30, (3, 3), strides=(2, 2), padding='same', activation='relu'))\n",
        "          cnn_m1.add(tf.keras.layers.MaxPooling2D(pool_size=(2, 2), strides=(2,2)))\n",
        "          cnn_m1.add(tf.keras.layers.Conv2D(40, (3, 3), padding='same', activation='relu'))\n",
        "          cnn_m1.add(tf.keras.layers.Conv2D(50, (3, 3), padding='same', activation='relu'))\n",
        "          cnn_m1.add(tf.keras.layers.Conv2D(60, (3, 3), strides=(2, 2), padding='same', activation='relu'))\n",
        "          cnn_m1.add(tf.keras.layers.MaxPooling2D(pool_size=(2, 2), strides=(2,2)))\n",
        "          cnn_m1.add(tf.keras.layers.Conv2D(70, (3, 3), padding='same', activation='relu'))\n",
        "          cnn_m1.add(tf.keras.layers.Conv2D(80, (3, 3), padding='same', activation='relu'))\n",
        "          cnn_m1.add(tf.keras.layers.MaxPooling2D(pool_size=(2, 2), strides=(2,2)))\n",
        "          cnn_m1.add(tf.keras.layers.Conv2D(90, (3, 3), strides=(2, 2), padding='same', activation='relu'))\n",
        "          cnn_m1.add(tf.keras.layers.Conv2D(100, (3, 3), strides=(2, 2), padding='same', activation='relu'))\n",
        "          cnn_m1.add(tf.keras.layers.Flatten())\n",
        "          cnn_m1.add(tf.keras.layers.Dense(256))\n",
        "          cnn_m1.add(tf.keras.layers.Activation('relu'))\n",
        "          cnn_m1.add(tf.keras.layers.Dense(10))         #10 neurons to classify 10 different classes\n",
        "          cnn_m1.add(tf.keras.layers.Activation('softmax'))  #Since multiclass problem\n",
        "          cnn_m1.compile(loss='sparse_categorical_crossentropy', optimizer=opt_lr, metrics=['accuracy'])\n",
        "          cnn_m1.build(input_shape=(1,28,28,1))  \n",
        "          accuracy2= cnn_m1.fit(X_train, y_train,\n",
        "              batch_size=batch[i], epochs=5,\n",
        "              verbose=0)   \n",
        "          acc2[i]=accuracy2.history['accuracy'][4]\n",
        "\n",
        "        \n",
        "        elif k==2:\n",
        "          opt_lr = tf.keras.optimizers.RMSprop(learning_rate=0.1)\n",
        "          cnn_m1 = tf.keras.ms.Sequential()\n",
        "          #Here, number of filters has been increased from 10 to 100\n",
        "          cnn_m1.add(tf.keras.layers.Conv2D(10, (3, 3), padding='same', activation='relu'))\n",
        "          cnn_m1.add(tf.keras.layers.Conv2D(20, (3, 3), padding='same', activation='relu'))\n",
        "          cnn_m1.add(tf.keras.layers.Conv2D(30, (3, 3), strides=(2, 2), padding='same', activation='relu'))\n",
        "          cnn_m1.add(tf.keras.layers.MaxPooling2D(pool_size=(2, 2), strides=(2,2)))\n",
        "          cnn_m1.add(tf.keras.layers.Conv2D(40, (3, 3), padding='same', activation='relu'))\n",
        "          cnn_m1.add(tf.keras.layers.Conv2D(50, (3, 3), padding='same', activation='relu'))\n",
        "          cnn_m1.add(tf.keras.layers.Conv2D(60, (3, 3), strides=(2, 2), padding='same', activation='relu'))\n",
        "          cnn_m1.add(tf.keras.layers.MaxPooling2D(pool_size=(2, 2), strides=(2,2)))\n",
        "          cnn_m1.add(tf.keras.layers.Conv2D(70, (3, 3), padding='same', activation='relu'))\n",
        "          cnn_m1.add(tf.keras.layers.Conv2D(80, (3, 3), padding='same', activation='relu'))\n",
        "          cnn_m1.add(tf.keras.layers.MaxPooling2D(pool_size=(2, 2), strides=(2,2)))\n",
        "          cnn_m1.add(tf.keras.layers.Conv2D(90, (3, 3), strides=(2, 2), padding='same', activation='relu'))\n",
        "          cnn_m1.add(tf.keras.layers.Conv2D(100, (3, 3), strides=(2, 2), padding='same', activation='relu'))\n",
        "\n",
        "          cnn_m1.add(tf.keras.layers.Flatten())\n",
        "          cnn_m1.add(tf.keras.layers.Dense(256))\n",
        "          cnn_m1.add(tf.keras.layers.Activation('relu'))\n",
        "          cnn_m1.add(tf.keras.layers.Dense(10))         #10 neurons to classify 10 different classes\n",
        "          cnn_m1.add(tf.keras.layers.Activation('softmax'))  #Since multiclass problem\n",
        "          cnn_m1.compile(loss='sparse_categorical_crossentropy', optimizer=opt_lr, metrics=['accuracy'])\n",
        "          cnn_m1.build(input_shape=(1,28,28,1))  \n",
        "          accuracy3= cnn_m1.fit(X_train, y_train,\n",
        "              batch_size=batch[i], epochs=5,\n",
        "              verbose=0)   \n",
        "          acc3[i]=accuracy3.history['accuracy'][4]\n",
        "\n",
        "plt.plot(np.array(batch).reshape(4,1), np.array(acc1).reshape(4,1), color = 'red', label='Adam')\n",
        "plt.plot(np.array(batch).reshape(4,1), np.array(acc2).reshape(4,1), color = 'green', label='SGD')\n",
        "plt.plot(np.array(batch).reshape(4,1), np.array(acc3).reshape(4,1), color = 'blue', label='RMSProp')\n",
        "plt.ylabel('Accuracy')\n",
        "plt.xlabel('Batch Size')\n",
        "plt.title('Accuracy Vs batch size ')\n",
        "plt.show()"
      ],
      "metadata": {
        "colab": {
          "base_uri": "https://localhost:8080/",
          "height": 295
        },
        "id": "ISG_VFOLlill",
        "outputId": "c3cd778f-fcda-4b61-9517-9ce5c6f236f8"
      },
      "execution_count": 21,
      "outputs": [
        {
          "output_type": "display_data",
          "data": {
            "text/plain": [
              "<Figure size 432x288 with 1 Axes>"
            ],
            "image/png": "[encoded data removed]"
          },
          "metadata": {
            "needs_background": "light"
          }
        }
      ]
    },
    {
      "cell_type": "markdown",
      "source": [
        "When learning rate = 0.10, batchsize =200, SGD gave better performence"
      ],
      "metadata": {
        "id": "5vYQWVlaoXsn"
      }
    },
    {
      "cell_type": "code",
      "source": [
        "#SGD final m\n",
        "logdir=\"logs/fit/\" + datetime.now().strftime(\"%Y%m%d-%H%M%S\")\n",
        "tensorboard_callback = keras.callbacks.TensorBoard(log_dir=logdir)\n",
        "opt_lr = tf.keras.optimizers.SGD(learning_rate=0.1)\n",
        "\n",
        "cnn_m1 = tf.keras.ms.Sequential()\n",
        "#Number of filters from 10 to 100\n",
        "cnn_m1.add(tf.keras.layers.Conv2D(10, (3, 3), padding='same', activation='relu'))\n",
        "cnn_m1.add(tf.keras.layers.Conv2D(20, (3, 3), padding='same', activation='relu'))\n",
        "cnn_m1.add(tf.keras.layers.Conv2D(30, (3, 3), strides=(2, 2), padding='same', activation='relu'))\n",
        "cnn_m1.add(tf.keras.layers.MaxPooling2D(pool_size=(2, 2), strides=(2,2)))\n",
        "cnn_m1.add(tf.keras.layers.Conv2D(40, (3, 3), padding='same', activation='relu'))\n",
        "cnn_m1.add(tf.keras.layers.Conv2D(50, (3, 3), padding='same', activation='relu'))\n",
        "cnn_m1.add(tf.keras.layers.Conv2D(60, (3, 3), strides=(2, 2), padding='same', activation='relu'))\n",
        "cnn_m1.add(tf.keras.layers.MaxPooling2D(pool_size=(2, 2), strides=(2,2)))\n",
        "cnn_m1.add(tf.keras.layers.Conv2D(70, (3, 3), padding='same', activation='relu'))\n",
        "cnn_m1.add(tf.keras.layers.Conv2D(80, (3, 3), padding='same', activation='relu'))\n",
        "cnn_m1.add(tf.keras.layers.MaxPooling2D(pool_size=(2, 2), strides=(2,2)))\n",
        "cnn_m1.add(tf.keras.layers.Conv2D(90, (3, 3), strides=(2, 2), padding='same', activation='relu'))\n",
        "cnn_m1.add(tf.keras.layers.Conv2D(100, (3, 3), strides=(2, 2), padding='same', activation='relu'))\n",
        "\n",
        "cnn_m1.add(tf.keras.layers.Flatten())\n",
        "cnn_m1.add(tf.keras.layers.Dense(256))\n",
        "cnn_m1.add(tf.keras.layers.Activation('relu'))\n",
        "cnn_m1.add(tf.keras.layers.Dense(10))         #10 neurons to classify 10 different classes\n",
        "cnn_m1.add(tf.keras.layers.Activation('softmax'))  #Since multiclass problem\n",
        "\n",
        "cnn_m1.compile(loss='sparse_categorical_crossentropy', optimizer=opt_lr, metrics=['accuracy'])\n",
        "cnn_m1.build(input_shape=(1,28,28,1))\n",
        "accuracy= cnn_m1.fit(X_train, y_train, batch_size=200, epochs=10)  #Since batch size=200 worked best\n",
        "cnn_m1.summary()"
      ],
      "metadata": {
        "colab": {
          "base_uri": "https://localhost:8080/"
        },
        "id": "wy56rnlolioy",
        "outputId": "516b109c-6d20-4ddf-e035-337ac640831a"
      },
      "execution_count": 22,
      "outputs": [
        {
          "output_type": "stream",
          "name": "stdout",
          "text": [
            "Epoch 1/10\n",
            "300/300 [==============================] - 4s 10ms/step - loss: 2.3015 - accuracy: 0.1118\n",
            "Epoch 2/10\n",
            "300/300 [==============================] - 3s 10ms/step - loss: 2.3012 - accuracy: 0.1124\n",
            "Epoch 3/10\n",
            "300/300 [==============================] - 3s 10ms/step - loss: 2.3009 - accuracy: 0.1124\n",
            "Epoch 4/10\n",
            "300/300 [==============================] - 3s 10ms/step - loss: 2.2742 - accuracy: 0.1462\n",
            "Epoch 5/10\n",
            "300/300 [==============================] - 3s 10ms/step - loss: 1.4524 - accuracy: 0.4513\n",
            "Epoch 6/10\n",
            "300/300 [==============================] - 3s 10ms/step - loss: 0.2699 - accuracy: 0.9191\n",
            "Epoch 7/10\n",
            "300/300 [==============================] - 3s 10ms/step - loss: 0.1253 - accuracy: 0.9632\n",
            "Epoch 8/10\n",
            "300/300 [==============================] - 3s 10ms/step - loss: 0.0866 - accuracy: 0.9748\n",
            "Epoch 9/10\n",
            "300/300 [==============================] - 3s 10ms/step - loss: 0.0723 - accuracy: 0.9786\n",
            "Epoch 10/10\n",
            "300/300 [==============================] - 3s 10ms/step - loss: 0.0551 - accuracy: 0.9836\n",
            "Model: \"sequential_15\"\n",
            "_________________________________________________________________\n",
            " Layer (type)                Output Shape              Param #   \n",
            "=================================================================\n",
            " conv2d_133 (Conv2D)         (None, 28, 28, 10)        100       \n",
            "                                                                 \n",
            " conv2d_134 (Conv2D)         (None, 28, 28, 20)        1820      \n",
            "                                                                 \n",
            " conv2d_135 (Conv2D)         (None, 14, 14, 30)        5430      \n",
            "                                                                 \n",
            " max_pooling2d_41 (MaxPoolin  (None, 7, 7, 30)         0         \n",
            " g2D)                                                            \n",
            "                                                                 \n",
            " conv2d_136 (Conv2D)         (None, 7, 7, 40)          10840     \n",
            "                                                                 \n",
            " conv2d_137 (Conv2D)         (None, 7, 7, 50)          18050     \n",
            "                                                                 \n",
            " conv2d_138 (Conv2D)         (None, 4, 4, 60)          27060     \n",
            "                                                                 \n",
            " max_pooling2d_42 (MaxPoolin  (None, 2, 2, 60)         0         \n",
            " g2D)                                                            \n",
            "                                                                 \n",
            " conv2d_139 (Conv2D)         (None, 2, 2, 70)          37870     \n",
            "                                                                 \n",
            " conv2d_140 (Conv2D)         (None, 2, 2, 80)          50480     \n",
            "                                                                 \n",
            " max_pooling2d_43 (MaxPoolin  (None, 1, 1, 80)         0         \n",
            " g2D)                                                            \n",
            "                                                                 \n",
            " conv2d_141 (Conv2D)         (None, 1, 1, 90)          64890     \n",
            "                                                                 \n",
            " conv2d_142 (Conv2D)         (None, 1, 1, 100)         81100     \n",
            "                                                                 \n",
            " flatten_15 (Flatten)        (None, 100)               0         \n",
            "                                                                 \n",
            " dense_33 (Dense)            (None, 256)               25856     \n",
            "                                                                 \n",
            " activation_33 (Activation)  (None, 256)               0         \n",
            "                                                                 \n",
            " dense_34 (Dense)            (None, 10)                2570      \n",
            "                                                                 \n",
            " activation_34 (Activation)  (None, 10)                0         \n",
            "                                                                 \n",
            "=================================================================\n",
            "Total params: 326,066\n",
            "Trainable params: 326,066\n",
            "Non-trainable params: 0\n",
            "_________________________________________________________________\n"
          ]
        }
      ]
    },
    {
      "cell_type": "code",
      "source": [
        "# Evaluation final SGD m\n",
        "score = cnn_m1.evaluate(X_test, y_test)\n",
        "print('Test loss for m1:', score[0])\n",
        "print('Test accuracy for m1:', score[1])\n",
        "#Test accuracy increased to 0.9824"
      ],
      "metadata": {
        "colab": {
          "base_uri": "https://localhost:8080/"
        },
        "id": "OGmj2Cw0lisj",
        "outputId": "1c7df4f0-bf1b-4999-b5b3-986a74211b89"
      },
      "execution_count": 23,
      "outputs": [
        {
          "output_type": "stream",
          "name": "stdout",
          "text": [
            "313/313 [==============================] - 1s 4ms/step - loss: 0.0606 - accuracy: 0.9824\n",
            "Test loss for m1: 0.06055706739425659\n",
            "Test accuracy for m1: 0.9824000000953674\n"
          ]
        }
      ]
    },
    {
      "cell_type": "markdown",
      "source": [
        "An inverted CNN where the number of filters in each layer decreases as the depth of the network grows i.e., the Lth layer will have less filters than the (L-1)th layer:-"
      ],
      "metadata": {
        "id": "NtS93USNpWwq"
      }
    },
    {
      "cell_type": "code",
      "source": [
        "#m 2\n",
        "cnn_m2 = tf.keras.models.Sequential()\n",
        "#Number of filters from 100 to 10\n",
        "cnn_m2.add(tf.keras.layers.Conv2D(100, kernel_size = (3,3), padding= 'same', activation='relu'))\n",
        "cnn_m2.add(tf.keras.layers.Conv2D(90, kernel_size = (3,3), padding= 'same', activation='relu'))\n",
        "cnn_m2.add(tf.keras.layers.Conv2D(80, kernel_size = (3,3), padding= 'same', activation='relu'))\n",
        "cnn_m2.add(tf.keras.layers.MaxPooling2D(pool_size=(2, 2), strides=(2,2)))\n",
        "cnn_m2.add(tf.keras.layers.Conv2D(70, kernel_size = (3,3), padding= 'same', activation='relu'))\n",
        "cnn_m2.add(tf.keras.layers.Conv2D(60, kernel_size = (3,3), padding= 'same', activation='relu'))\n",
        "cnn_m2.add(tf.keras.layers.Conv2D(50, kernel_size = (3,3), padding= 'same', activation='relu'))\n",
        "cnn_m2.add(tf.keras.layers.MaxPooling2D(pool_size=(2, 2), strides=(2,2)))\n",
        "cnn_m2.add(tf.keras.layers.Conv2D(40, kernel_size = (3,3), padding= 'same', activation='relu'))\n",
        "cnn_m2.add(tf.keras.layers.Conv2D(30, kernel_size = (3,3), padding= 'same', activation='relu'))\n",
        "cnn_m2.add(tf.keras.layers.MaxPooling2D(pool_size=(2, 2), strides=(2,2)))\n",
        "cnn_m2.add(tf.keras.layers.Conv2D(20, kernel_size = (3,3), padding= 'same', activation='relu'))\n",
        "cnn_m2.add(tf.keras.layers.Conv2D(10, kernel_size = (3,3), padding= 'same', activation='relu'))\n",
        "cnn_m2.add(tf.keras.layers.Flatten())\n",
        "cnn_m2.add(tf.keras.layers.Dense(256))\n",
        "cnn_m2.add(tf.keras.layers.Activation('relu'))\n",
        "#10 different classes\n",
        "cnn_m2.add(tf.keras.layers.Dense(10))  \n",
        "#Multiclass problem      \n",
        "cnn_m2.add(tf.keras.layers.Activation('softmax'))   \n",
        "cnn_m2.compile(loss='sparse_categorical_crossentropy', optimizer='adam', metrics=['accuracy'])\n",
        "cnn_m2.build(input_shape=(1,28,28,1))\n",
        "cnn_m2.summary()\n",
        "accuracy= cnn_m2.fit(X_train, y_train, batch_size=512, epochs=5) "
      ],
      "metadata": {
        "colab": {
          "base_uri": "https://localhost:8080/"
        },
        "id": "57MUI1QClivn",
        "outputId": "c6285bd7-0f5d-4383-92a6-dd73841ca110"
      },
      "execution_count": 25,
      "outputs": [
        {
          "output_type": "stream",
          "name": "stdout",
          "text": [
            "Model: \"sequential_16\"\n",
            "_________________________________________________________________\n",
            " Layer (type)                Output Shape              Param #   \n",
            "=================================================================\n",
            " conv2d_143 (Conv2D)         (1, 28, 28, 100)          1000      \n",
            "                                                                 \n",
            " conv2d_144 (Conv2D)         (1, 28, 28, 90)           81090     \n",
            "                                                                 \n",
            " conv2d_145 (Conv2D)         (1, 28, 28, 80)           64880     \n",
            "                                                                 \n",
            " max_pooling2d_44 (MaxPoolin  (1, 14, 14, 80)          0         \n",
            " g2D)                                                            \n",
            "                                                                 \n",
            " conv2d_146 (Conv2D)         (1, 14, 14, 70)           50470     \n",
            "                                                                 \n",
            " conv2d_147 (Conv2D)         (1, 14, 14, 60)           37860     \n",
            "                                                                 \n",
            " conv2d_148 (Conv2D)         (1, 14, 14, 50)           27050     \n",
            "                                                                 \n",
            " max_pooling2d_45 (MaxPoolin  (1, 7, 7, 50)            0         \n",
            " g2D)                                                            \n",
            "                                                                 \n",
            " conv2d_149 (Conv2D)         (1, 7, 7, 40)             18040     \n",
            "                                                                 \n",
            " conv2d_150 (Conv2D)         (1, 7, 7, 30)             10830     \n",
            "                                                                 \n",
            " max_pooling2d_46 (MaxPoolin  (1, 3, 3, 30)            0         \n",
            " g2D)                                                            \n",
            "                                                                 \n",
            " conv2d_151 (Conv2D)         (1, 3, 3, 20)             5420      \n",
            "                                                                 \n",
            " conv2d_152 (Conv2D)         (1, 3, 3, 10)             1810      \n",
            "                                                                 \n",
            " flatten_16 (Flatten)        (1, 90)                   0         \n",
            "                                                                 \n",
            " dense_35 (Dense)            (1, 256)                  23296     \n",
            "                                                                 \n",
            " activation_35 (Activation)  (1, 256)                  0         \n",
            "                                                                 \n",
            " dense_36 (Dense)            (1, 10)                   2570      \n",
            "                                                                 \n",
            " activation_36 (Activation)  (1, 10)                   0         \n",
            "                                                                 \n",
            "=================================================================\n",
            "Total params: 324,316\n",
            "Trainable params: 324,316\n",
            "Non-trainable params: 0\n",
            "_________________________________________________________________\n",
            "Epoch 1/5\n",
            "118/118 [==============================] - 18s 125ms/step - loss: 0.4918 - accuracy: 0.8395\n",
            "Epoch 2/5\n",
            "118/118 [==============================] - 15s 125ms/step - loss: 0.0825 - accuracy: 0.9748\n",
            "Epoch 3/5\n",
            "118/118 [==============================] - 15s 124ms/step - loss: 0.0526 - accuracy: 0.9839\n",
            "Epoch 4/5\n",
            "118/118 [==============================] - 14s 121ms/step - loss: 0.0396 - accuracy: 0.9880\n",
            "Epoch 5/5\n",
            "118/118 [==============================] - 15s 124ms/step - loss: 0.0364 - accuracy: 0.9885\n"
          ]
        }
      ]
    },
    {
      "cell_type": "code",
      "source": [
        "# Evaluation - model2\n",
        "score = cnn_m2.evaluate(X_test, y_test)\n",
        "print('Test loss for model2:', score[0])\n",
        "print('Test accuracy for model2:', score[1])"
      ],
      "metadata": {
        "colab": {
          "base_uri": "https://localhost:8080/"
        },
        "id": "oXoiMU3ypd37",
        "outputId": "404894b7-b4b8-4165-de72-f253919fdc5c"
      },
      "execution_count": 26,
      "outputs": [
        {
          "output_type": "stream",
          "name": "stdout",
          "text": [
            "313/313 [==============================] - 2s 5ms/step - loss: 0.0292 - accuracy: 0.9898\n",
            "Test loss for model2: 0.02923540584743023\n",
            "Test accuracy for model2: 0.989799976348877\n"
          ]
        }
      ]
    },
    {
      "cell_type": "markdown",
      "source": [
        "Different Hyperparameters:-"
      ],
      "metadata": {
        "id": "Im0ZumfKqU_3"
      }
    },
    {
      "cell_type": "code",
      "source": [
        "#different learning rate\n",
        "learningRate=[0.005, 0.01, 0.05, 0.1]\n",
        "acc=np.zeros(4)\n",
        "for i in range(len(learningRate)):\n",
        "  cnn_m2.compile(loss='sparse_categorical_crossentropy', optimizer='adam', metrics=['accuracy'])\n",
        "  cnn_m2.build(input_shape=(1,28,28,1))\n",
        "  accuracy= cnn_m2.fit(X_train, y_train, batch_size=128, epochs=5)\n",
        "  acc[i]=accuracy.history['accuracy'][4]\n",
        "  cnn_m2.summary()\n",
        "\n",
        "plt.plot(np.array(learningRate).reshape(4,1), np.array(acc).reshape(4,1))\n",
        "plt.ylabel('Accuracy')\n",
        "plt.xlabel('Learning rate')\n",
        "plt.title('Accuracy Vs Learning rate')\n",
        "plt.show()"
      ],
      "metadata": {
        "colab": {
          "base_uri": "https://localhost:8080/",
          "height": 1000
        },
        "id": "s-S8Mht0pd7T",
        "outputId": "54a9401c-fc6d-42e8-bc53-db5353465b2f"
      },
      "execution_count": 27,
      "outputs": [
        {
          "output_type": "stream",
          "name": "stdout",
          "text": [
            "Epoch 1/5\n",
            "469/469 [==============================] - 17s 33ms/step - loss: 0.0588 - accuracy: 0.9829\n",
            "Epoch 2/5\n",
            "469/469 [==============================] - 16s 33ms/step - loss: 0.0402 - accuracy: 0.9874\n",
            "Epoch 3/5\n",
            "469/469 [==============================] - 16s 35ms/step - loss: 0.0338 - accuracy: 0.9896\n",
            "Epoch 4/5\n",
            "469/469 [==============================] - 17s 35ms/step - loss: 0.0284 - accuracy: 0.9912\n",
            "Epoch 5/5\n",
            "469/469 [==============================] - 16s 34ms/step - loss: 0.0233 - accuracy: 0.9930\n",
            "Model: \"sequential_16\"\n",
            "_________________________________________________________________\n",
            " Layer (type)                Output Shape              Param #   \n",
            "=================================================================\n",
            " conv2d_143 (Conv2D)         (None, 28, 28, 100)       1000      \n",
            "                                                                 \n",
            " conv2d_144 (Conv2D)         (None, 28, 28, 90)        81090     \n",
            "                                                                 \n",
            " conv2d_145 (Conv2D)         (None, 28, 28, 80)        64880     \n",
            "                                                                 \n",
            " max_pooling2d_44 (MaxPoolin  (None, 14, 14, 80)       0         \n",
            " g2D)                                                            \n",
            "                                                                 \n",
            " conv2d_146 (Conv2D)         (None, 14, 14, 70)        50470     \n",
            "                                                                 \n",
            " conv2d_147 (Conv2D)         (None, 14, 14, 60)        37860     \n",
            "                                                                 \n",
            " conv2d_148 (Conv2D)         (None, 14, 14, 50)        27050     \n",
            "                                                                 \n",
            " max_pooling2d_45 (MaxPoolin  (None, 7, 7, 50)         0         \n",
            " g2D)                                                            \n",
            "                                                                 \n",
            " conv2d_149 (Conv2D)         (None, 7, 7, 40)          18040     \n",
            "                                                                 \n",
            " conv2d_150 (Conv2D)         (None, 7, 7, 30)          10830     \n",
            "                                                                 \n",
            " max_pooling2d_46 (MaxPoolin  (None, 3, 3, 30)         0         \n",
            " g2D)                                                            \n",
            "                                                                 \n",
            " conv2d_151 (Conv2D)         (None, 3, 3, 20)          5420      \n",
            "                                                                 \n",
            " conv2d_152 (Conv2D)         (None, 3, 3, 10)          1810      \n",
            "                                                                 \n",
            " flatten_16 (Flatten)        (None, 90)                0         \n",
            "                                                                 \n",
            " dense_35 (Dense)            (None, 256)               23296     \n",
            "                                                                 \n",
            " activation_35 (Activation)  (None, 256)               0         \n",
            "                                                                 \n",
            " dense_36 (Dense)            (None, 10)                2570      \n",
            "                                                                 \n",
            " activation_36 (Activation)  (None, 10)                0         \n",
            "                                                                 \n",
            "=================================================================\n",
            "Total params: 324,316\n",
            "Trainable params: 324,316\n",
            "Non-trainable params: 0\n",
            "_________________________________________________________________\n",
            "Epoch 1/5\n",
            "469/469 [==============================] - 18s 36ms/step - loss: 0.0277 - accuracy: 0.9915\n",
            "Epoch 2/5\n",
            "469/469 [==============================] - 17s 36ms/step - loss: 0.0213 - accuracy: 0.9932\n",
            "Epoch 3/5\n",
            "469/469 [==============================] - 16s 35ms/step - loss: 0.0183 - accuracy: 0.9944\n",
            "Epoch 4/5\n",
            "469/469 [==============================] - 16s 34ms/step - loss: 0.0169 - accuracy: 0.9948\n",
            "Epoch 5/5\n",
            "469/469 [==============================] - 18s 38ms/step - loss: 0.0153 - accuracy: 0.9951\n",
            "Model: \"sequential_16\"\n",
            "_________________________________________________________________\n",
            " Layer (type)                Output Shape              Param #   \n",
            "=================================================================\n",
            " conv2d_143 (Conv2D)         (None, 28, 28, 100)       1000      \n",
            "                                                                 \n",
            " conv2d_144 (Conv2D)         (None, 28, 28, 90)        81090     \n",
            "                                                                 \n",
            " conv2d_145 (Conv2D)         (None, 28, 28, 80)        64880     \n",
            "                                                                 \n",
            " max_pooling2d_44 (MaxPoolin  (None, 14, 14, 80)       0         \n",
            " g2D)                                                            \n",
            "                                                                 \n",
            " conv2d_146 (Conv2D)         (None, 14, 14, 70)        50470     \n",
            "                                                                 \n",
            " conv2d_147 (Conv2D)         (None, 14, 14, 60)        37860     \n",
            "                                                                 \n",
            " conv2d_148 (Conv2D)         (None, 14, 14, 50)        27050     \n",
            "                                                                 \n",
            " max_pooling2d_45 (MaxPoolin  (None, 7, 7, 50)         0         \n",
            " g2D)                                                            \n",
            "                                                                 \n",
            " conv2d_149 (Conv2D)         (None, 7, 7, 40)          18040     \n",
            "                                                                 \n",
            " conv2d_150 (Conv2D)         (None, 7, 7, 30)          10830     \n",
            "                                                                 \n",
            " max_pooling2d_46 (MaxPoolin  (None, 3, 3, 30)         0         \n",
            " g2D)                                                            \n",
            "                                                                 \n",
            " conv2d_151 (Conv2D)         (None, 3, 3, 20)          5420      \n",
            "                                                                 \n",
            " conv2d_152 (Conv2D)         (None, 3, 3, 10)          1810      \n",
            "                                                                 \n",
            " flatten_16 (Flatten)        (None, 90)                0         \n",
            "                                                                 \n",
            " dense_35 (Dense)            (None, 256)               23296     \n",
            "                                                                 \n",
            " activation_35 (Activation)  (None, 256)               0         \n",
            "                                                                 \n",
            " dense_36 (Dense)            (None, 10)                2570      \n",
            "                                                                 \n",
            " activation_36 (Activation)  (None, 10)                0         \n",
            "                                                                 \n",
            "=================================================================\n",
            "Total params: 324,316\n",
            "Trainable params: 324,316\n",
            "Non-trainable params: 0\n",
            "_________________________________________________________________\n",
            "Epoch 1/5\n",
            "469/469 [==============================] - 18s 36ms/step - loss: 0.0140 - accuracy: 0.9957\n",
            "Epoch 2/5\n",
            "469/469 [==============================] - 17s 36ms/step - loss: 0.0144 - accuracy: 0.9952\n",
            "Epoch 3/5\n",
            "469/469 [==============================] - 16s 33ms/step - loss: 0.0124 - accuracy: 0.9959\n",
            "Epoch 4/5\n",
            "469/469 [==============================] - 16s 34ms/step - loss: 0.0104 - accuracy: 0.9969\n",
            "Epoch 5/5\n",
            "469/469 [==============================] - 17s 36ms/step - loss: 0.0098 - accuracy: 0.9969\n",
            "Model: \"sequential_16\"\n",
            "_________________________________________________________________\n",
            " Layer (type)                Output Shape              Param #   \n",
            "=================================================================\n",
            " conv2d_143 (Conv2D)         (None, 28, 28, 100)       1000      \n",
            "                                                                 \n",
            " conv2d_144 (Conv2D)         (None, 28, 28, 90)        81090     \n",
            "                                                                 \n",
            " conv2d_145 (Conv2D)         (None, 28, 28, 80)        64880     \n",
            "                                                                 \n",
            " max_pooling2d_44 (MaxPoolin  (None, 14, 14, 80)       0         \n",
            " g2D)                                                            \n",
            "                                                                 \n",
            " conv2d_146 (Conv2D)         (None, 14, 14, 70)        50470     \n",
            "                                                                 \n",
            " conv2d_147 (Conv2D)         (None, 14, 14, 60)        37860     \n",
            "                                                                 \n",
            " conv2d_148 (Conv2D)         (None, 14, 14, 50)        27050     \n",
            "                                                                 \n",
            " max_pooling2d_45 (MaxPoolin  (None, 7, 7, 50)         0         \n",
            " g2D)                                                            \n",
            "                                                                 \n",
            " conv2d_149 (Conv2D)         (None, 7, 7, 40)          18040     \n",
            "                                                                 \n",
            " conv2d_150 (Conv2D)         (None, 7, 7, 30)          10830     \n",
            "                                                                 \n",
            " max_pooling2d_46 (MaxPoolin  (None, 3, 3, 30)         0         \n",
            " g2D)                                                            \n",
            "                                                                 \n",
            " conv2d_151 (Conv2D)         (None, 3, 3, 20)          5420      \n",
            "                                                                 \n",
            " conv2d_152 (Conv2D)         (None, 3, 3, 10)          1810      \n",
            "                                                                 \n",
            " flatten_16 (Flatten)        (None, 90)                0         \n",
            "                                                                 \n",
            " dense_35 (Dense)            (None, 256)               23296     \n",
            "                                                                 \n",
            " activation_35 (Activation)  (None, 256)               0         \n",
            "                                                                 \n",
            " dense_36 (Dense)            (None, 10)                2570      \n",
            "                                                                 \n",
            " activation_36 (Activation)  (None, 10)                0         \n",
            "                                                                 \n",
            "=================================================================\n",
            "Total params: 324,316\n",
            "Trainable params: 324,316\n",
            "Non-trainable params: 0\n",
            "_________________________________________________________________\n",
            "Epoch 1/5\n",
            "469/469 [==============================] - 19s 37ms/step - loss: 0.0097 - accuracy: 0.9969\n",
            "Epoch 2/5\n",
            "469/469 [==============================] - 18s 38ms/step - loss: 0.0112 - accuracy: 0.9964\n",
            "Epoch 3/5\n",
            "469/469 [==============================] - 16s 35ms/step - loss: 0.0093 - accuracy: 0.9970\n",
            "Epoch 4/5\n",
            "469/469 [==============================] - 16s 35ms/step - loss: 0.0075 - accuracy: 0.9974\n",
            "Epoch 5/5\n",
            "469/469 [==============================] - 16s 34ms/step - loss: 0.0093 - accuracy: 0.9968\n",
            "Model: \"sequential_16\"\n",
            "_________________________________________________________________\n",
            " Layer (type)                Output Shape              Param #   \n",
            "=================================================================\n",
            " conv2d_143 (Conv2D)         (None, 28, 28, 100)       1000      \n",
            "                                                                 \n",
            " conv2d_144 (Conv2D)         (None, 28, 28, 90)        81090     \n",
            "                                                                 \n",
            " conv2d_145 (Conv2D)         (None, 28, 28, 80)        64880     \n",
            "                                                                 \n",
            " max_pooling2d_44 (MaxPoolin  (None, 14, 14, 80)       0         \n",
            " g2D)                                                            \n",
            "                                                                 \n",
            " conv2d_146 (Conv2D)         (None, 14, 14, 70)        50470     \n",
            "                                                                 \n",
            " conv2d_147 (Conv2D)         (None, 14, 14, 60)        37860     \n",
            "                                                                 \n",
            " conv2d_148 (Conv2D)         (None, 14, 14, 50)        27050     \n",
            "                                                                 \n",
            " max_pooling2d_45 (MaxPoolin  (None, 7, 7, 50)         0         \n",
            " g2D)                                                            \n",
            "                                                                 \n",
            " conv2d_149 (Conv2D)         (None, 7, 7, 40)          18040     \n",
            "                                                                 \n",
            " conv2d_150 (Conv2D)         (None, 7, 7, 30)          10830     \n",
            "                                                                 \n",
            " max_pooling2d_46 (MaxPoolin  (None, 3, 3, 30)         0         \n",
            " g2D)                                                            \n",
            "                                                                 \n",
            " conv2d_151 (Conv2D)         (None, 3, 3, 20)          5420      \n",
            "                                                                 \n",
            " conv2d_152 (Conv2D)         (None, 3, 3, 10)          1810      \n",
            "                                                                 \n",
            " flatten_16 (Flatten)        (None, 90)                0         \n",
            "                                                                 \n",
            " dense_35 (Dense)            (None, 256)               23296     \n",
            "                                                                 \n",
            " activation_35 (Activation)  (None, 256)               0         \n",
            "                                                                 \n",
            " dense_36 (Dense)            (None, 10)                2570      \n",
            "                                                                 \n",
            " activation_36 (Activation)  (None, 10)                0         \n",
            "                                                                 \n",
            "=================================================================\n",
            "Total params: 324,316\n",
            "Trainable params: 324,316\n",
            "Non-trainable params: 0\n",
            "_________________________________________________________________\n"
          ]
        },
        {
          "output_type": "display_data",
          "data": {
            "text/plain": [
              "<Figure size 432x288 with 1 Axes>"
            ],
            "image/png": "[encoded data removed]"
          },
          "metadata": {
            "needs_background": "light"
          }
        }
      ]
    },
    {
      "cell_type": "code",
      "source": [
        "#learning rate =0.10, different batch sizes and optimizers\n",
        "batch=[100, 200, 300, 400]\n",
        "acc1=np.zeros(4)\n",
        "acc2=np.zeros(4)\n",
        "acc3=np.zeros(4)\n",
        "for k in range(3):\n",
        "  for i in range(len(batch)):    \n",
        "\n",
        "        if k==0:\n",
        "          opt_lr = tf.keras.optimizers.Adam(learning_rate=0.1)\n",
        "          #Building model\n",
        "          cnn_m2 = tf.keras.models.Sequential()\n",
        "          #Here, number of filters has been decreased from 100 to 10\n",
        "          cnn_m2.add(tf.keras.layers.Conv2D(100, kernel_size = (3,3), padding= 'same', activation='relu'))\n",
        "          cnn_m2.add(tf.keras.layers.Conv2D(90, kernel_size = (3,3), padding= 'same', activation='relu'))\n",
        "          cnn_m2.add(tf.keras.layers.Conv2D(80, kernel_size = (3,3), padding= 'same', activation='relu'))\n",
        "\n",
        "          cnn_m2.add(tf.keras.layers.MaxPooling2D(pool_size=(2, 2), strides=(2,2)))\n",
        "\n",
        "          cnn_m2.add(tf.keras.layers.Conv2D(70, kernel_size = (3,3), padding= 'same', activation='relu'))\n",
        "          cnn_m2.add(tf.keras.layers.Conv2D(60, kernel_size = (3,3), padding= 'same', activation='relu'))\n",
        "          cnn_m2.add(tf.keras.layers.Conv2D(50, kernel_size = (3,3), padding= 'same', activation='relu'))\n",
        "          cnn_m2.add(tf.keras.layers.MaxPooling2D(pool_size=(2, 2), strides=(2,2)))\n",
        "          cnn_m2.add(tf.keras.layers.Conv2D(40, kernel_size = (3,3), padding= 'same', activation='relu'))\n",
        "          cnn_m2.add(tf.keras.layers.Conv2D(30, kernel_size = (3,3), padding= 'same', activation='relu'))\n",
        "          cnn_m2.add(tf.keras.layers.MaxPooling2D(pool_size=(2, 2), strides=(2,2)))\n",
        "          cnn_m2.add(tf.keras.layers.Conv2D(20, kernel_size = (3,3), padding= 'same', activation='relu'))\n",
        "          cnn_m2.add(tf.keras.layers.Conv2D(10, kernel_size = (3,3), padding= 'same', activation='relu'))\n",
        "          cnn_m2.add(tf.keras.layers.Flatten())\n",
        "          cnn_m2.add(tf.keras.layers.Dense(256))\n",
        "          cnn_m2.add(tf.keras.layers.Activation('relu'))\n",
        "           #10 different classes\n",
        "          cnn_m2.add(tf.keras.layers.Dense(10))       \n",
        "          cnn_m2.add(tf.keras.layers.Activation('softmax'))   \\\n",
        "          #Multiclass problem\n",
        "          cnn_m2.compile(loss='sparse_categorical_crossentropy', optimizer=opt_lr, metrics=['accuracy'])\n",
        "          cnn_m2.build(input_shape=(1,28,28,1))  \n",
        "          accuracy1= cnn_m2.fit(X_train, y_train,\n",
        "              batch_size=batch[i], epochs=5,\n",
        "              verbose=0)   \n",
        "          acc1[i]=accuracy1.history['accuracy'][4]\n",
        "        \n",
        "        elif k==1:\n",
        "          opt_lr = tf.keras.optimizers.SGD(learning_rate=0.1)\n",
        "          cnn_m2 = tf.keras.models.Sequential()\n",
        "          #Number of filters from 100 to 10\n",
        "          cnn_m2.add(tf.keras.layers.Conv2D(100, kernel_size = (3,3), padding= 'same', activation='relu'))\n",
        "          cnn_m2.add(tf.keras.layers.Conv2D(90, kernel_size = (3,3), padding= 'same', activation='relu'))\n",
        "          cnn_m2.add(tf.keras.layers.Conv2D(80, kernel_size = (3,3), padding= 'same', activation='relu'))\n",
        "\n",
        "          cnn_m2.add(tf.keras.layers.MaxPooling2D(pool_size=(2, 2), strides=(2,2)))\n",
        "\n",
        "          cnn_m2.add(tf.keras.layers.Conv2D(70, kernel_size = (3,3), padding= 'same', activation='relu'))\n",
        "          cnn_m2.add(tf.keras.layers.Conv2D(60, kernel_size = (3,3), padding= 'same', activation='relu'))\n",
        "          cnn_m2.add(tf.keras.layers.Conv2D(50, kernel_size = (3,3), padding= 'same', activation='relu'))\n",
        "\n",
        "          cnn_m2.add(tf.keras.layers.MaxPooling2D(pool_size=(2, 2), strides=(2,2)))\n",
        "\n",
        "          cnn_m2.add(tf.keras.layers.Conv2D(40, kernel_size = (3,3), padding= 'same', activation='relu'))\n",
        "          cnn_m2.add(tf.keras.layers.Conv2D(30, kernel_size = (3,3), padding= 'same', activation='relu'))\n",
        "\n",
        "          cnn_m2.add(tf.keras.layers.MaxPooling2D(pool_size=(2, 2), strides=(2,2)))\n",
        "\n",
        "          cnn_m2.add(tf.keras.layers.Conv2D(20, kernel_size = (3,3), padding= 'same', activation='relu'))\n",
        "          cnn_m2.add(tf.keras.layers.Conv2D(10, kernel_size = (3,3), padding= 'same', activation='relu'))\n",
        "\n",
        "          cnn_m2.add(tf.keras.layers.Flatten())\n",
        "          cnn_m2.add(tf.keras.layers.Dense(256))\n",
        "          cnn_m2.add(tf.keras.layers.Activation('relu'))\n",
        "          cnn_m2.add(tf.keras.layers.Dense(10))        #10 neurons to classify 10 different classes\n",
        "          cnn_m2.add(tf.keras.layers.Activation('softmax'))   #Multiclass problem\n",
        "          cnn_m2.compile(loss='sparse_categorical_crossentropy', optimizer=opt_lr, metrics=['accuracy'])\n",
        "          cnn_m2.build(input_shape=(1,28,28,1))  \n",
        "          accuracy2= cnn_m2.fit(X_train, y_train,\n",
        "              batch_size=batch[i], epochs=5,\n",
        "              verbose=0)   \n",
        "          acc2[i]=accuracy2.history['accuracy'][4]\n",
        "\n",
        "        \n",
        "        elif k==2:\n",
        "          opt_lr = tf.keras.optimizers.RMSprop(learning_rate=0.1)\n",
        "          cnn_m2 = tf.keras.models.Sequential()\n",
        "          #Here, number of filters has been decreased from 100 to 10\n",
        "          cnn_m2.add(tf.keras.layers.Conv2D(100, kernel_size = (3,3), padding= 'same', activation='relu'))\n",
        "          cnn_m2.add(tf.keras.layers.Conv2D(90, kernel_size = (3,3), padding= 'same', activation='relu'))\n",
        "          cnn_m2.add(tf.keras.layers.Conv2D(80, kernel_size = (3,3), padding= 'same', activation='relu'))\n",
        "\n",
        "          cnn_m2.add(tf.keras.layers.MaxPooling2D(pool_size=(2, 2), strides=(2,2)))\n",
        "\n",
        "          cnn_m2.add(tf.keras.layers.Conv2D(70, kernel_size = (3,3), padding= 'same', activation='relu'))\n",
        "          cnn_m2.add(tf.keras.layers.Conv2D(60, kernel_size = (3,3), padding= 'same', activation='relu'))\n",
        "          cnn_m2.add(tf.keras.layers.Conv2D(50, kernel_size = (3,3), padding= 'same', activation='relu'))\n",
        "\n",
        "          cnn_m2.add(tf.keras.layers.MaxPooling2D(pool_size=(2, 2), strides=(2,2)))\n",
        "\n",
        "          cnn_m2.add(tf.keras.layers.Conv2D(40, kernel_size = (3,3), padding= 'same', activation='relu'))\n",
        "          cnn_m2.add(tf.keras.layers.Conv2D(30, kernel_size = (3,3), padding= 'same', activation='relu'))\n",
        "\n",
        "          cnn_m2.add(tf.keras.layers.MaxPooling2D(pool_size=(2, 2), strides=(2,2)))\n",
        "\n",
        "          cnn_m2.add(tf.keras.layers.Conv2D(20, kernel_size = (3,3), padding= 'same', activation='relu'))\n",
        "          cnn_m2.add(tf.keras.layers.Conv2D(10, kernel_size = (3,3), padding= 'same', activation='relu'))\n",
        "\n",
        "          cnn_m2.add(tf.keras.layers.Flatten())\n",
        "          cnn_m2.add(tf.keras.layers.Dense(256))\n",
        "          cnn_m2.add(tf.keras.layers.Activation('relu'))\n",
        "          cnn_m2.add(tf.keras.layers.Dense(10))        \n",
        "          #10 different classes\n",
        "          cnn_m2.add(tf.keras.layers.Activation('softmax'))   \n",
        "          #Multiclass problem\n",
        "          cnn_m2.compile(loss='sparse_categorical_crossentropy', optimizer=opt_lr, metrics=['accuracy'])\n",
        "          cnn_m2.build(input_shape=(1,28,28,1))  \n",
        "          accuracy3= cnn_m2.fit(X_train, y_train,\n",
        "              batch_size=batch[i], epochs=5,\n",
        "              verbose=0)   \n",
        "          acc3[i]=accuracy3.history['accuracy'][4]\n",
        "\n",
        "\n",
        "plt.plot(np.array(batch).reshape(4,1), np.array(acc1).reshape(4,1), color = 'red', label='Adam')\n",
        "plt.plot(np.array(batch).reshape(4,1), np.array(acc2).reshape(4,1), color = 'green', label='SGD')\n",
        "plt.plot(np.array(batch).reshape(4,1), np.array(acc3).reshape(4,1), color = 'blue', label='RMSProp')\n",
        "plt.ylabel('Accuracy')\n",
        "plt.xlabel('Batch Size')\n",
        "plt.title('Accuracy Vs combinations of batch size and optimizers')\n",
        "plt.show()"
      ],
      "metadata": {
        "id": "m7A5wbmIpeBH"
      },
      "execution_count": null,
      "outputs": []
    },
    {
      "cell_type": "markdown",
      "source": [
        "FOr mOdel 2 SGD gave betyter performence but batch size has no impact and learning rate = 0.10 works best"
      ],
      "metadata": {
        "id": "t-V2AcvNrzlq"
      }
    },
    {
      "cell_type": "code",
      "source": [
        "#Final model 2\n",
        "opt_lr = tf.keras.optimizers.SGD(learning_rate=0.1)\n",
        "#Building model\n",
        "cnn_m2 = tf.keras.models.Sequential()\n",
        "#Here, number of filters has been decreased from 100 to 10\n",
        "cnn_m2.add(tf.keras.layers.Conv2D(100, kernel_size = (3,3), padding= 'same', activation='relu'))\n",
        "cnn_m2.add(tf.keras.layers.Conv2D(90, kernel_size = (3,3), padding= 'same', activation='relu'))\n",
        "cnn_m2.add(tf.keras.layers.Conv2D(80, kernel_size = (3,3), padding= 'same', activation='relu'))\n",
        "\n",
        "cnn_m2.add(tf.keras.layers.MaxPooling2D(pool_size=(2, 2), strides=(2,2)))\n",
        "\n",
        "cnn_m2.add(tf.keras.layers.Conv2D(70, kernel_size = (3,3), padding= 'same', activation='relu'))\n",
        "cnn_m2.add(tf.keras.layers.Conv2D(60, kernel_size = (3,3), padding= 'same', activation='relu'))\n",
        "cnn_m2.add(tf.keras.layers.Conv2D(50, kernel_size = (3,3), padding= 'same', activation='relu'))\n",
        "\n",
        "cnn_m2.add(tf.keras.layers.MaxPooling2D(pool_size=(2, 2), strides=(2,2)))\n",
        "\n",
        "cnn_m2.add(tf.keras.layers.Conv2D(40, kernel_size = (3,3), padding= 'same', activation='relu'))\n",
        "cnn_m2.add(tf.keras.layers.Conv2D(30, kernel_size = (3,3), padding= 'same', activation='relu'))\n",
        "\n",
        "cnn_m2.add(tf.keras.layers.MaxPooling2D(pool_size=(2, 2), strides=(2,2)))\n",
        "\n",
        "cnn_m2.add(tf.keras.layers.Conv2D(20, kernel_size = (3,3), padding= 'same', activation='relu'))\n",
        "cnn_m2.add(tf.keras.layers.Conv2D(10, kernel_size = (3,3), padding= 'same', activation='relu'))\n",
        "\n",
        "cnn_m2.add(tf.keras.layers.Flatten())\n",
        "cnn_m2.add(tf.keras.layers.Dense(256))\n",
        "cnn_m2.add(tf.keras.layers.Activation('relu'))\n",
        "cnn_m2.add(tf.keras.layers.Dense(10))        \n",
        "#10 different classes\n",
        "cnn_m2.add(tf.keras.layers.Activation('softmax'))   \\\n",
        "#Multiclass problem\n",
        "cnn_m2.compile(loss='sparse_categorical_crossentropy', optimizer=opt_lr, metrics=['accuracy'])\n",
        "cnn_m2.build(input_shape=(1,28,28,1))\n",
        "cnn_m2.summary()\n",
        "\n",
        "accuracy= cnn_m2.fit(X_train, y_train, batch_size=100, epochs=5) "
      ],
      "metadata": {
        "id": "0rLOnRsjrru6"
      },
      "execution_count": null,
      "outputs": []
    },
    {
      "cell_type": "code",
      "source": [
        "# Evaluating the final model 2\n",
        "score = cnn_m2.evaluate(X_test, y_test)\n",
        "print('Test loss for model1:', score[0])\n",
        "print('Test accuracy for model1:', score[1])"
      ],
      "metadata": {
        "id": "cxARSHuRsWcu"
      },
      "execution_count": null,
      "outputs": []
    },
    {
      "cell_type": "markdown",
      "source": [
        "Accuracy improved to 0.99."
      ],
      "metadata": {
        "id": "r-IK4-3NsbKF"
      }
    },
    {
      "cell_type": "markdown",
      "source": [
        "An hour-glass shaped CNN where the number of filters will increase till the Lth layer and reduce afterwards:-"
      ],
      "metadata": {
        "id": "MkVoouZwsisx"
      }
    },
    {
      "cell_type": "code",
      "source": [
        "#Building model\n",
        "cnn_model3 = tf.keras.models.Sequential()\n",
        "#Number of filters from 50 to 100 and then from 100 to 50\n",
        "cnn_model3.add(tf.keras.layers.Conv2D(50, kernel_size = (3,3), padding= 'same', activation='relu'))\n",
        "cnn_model3.add(tf.keras.layers.Conv2D(60, kernel_size = (3,3), padding= 'same', activation='relu'))\n",
        "cnn_model3.add(tf.keras.layers.Conv2D(70, kernel_size = (3,3), padding= 'same', activation='relu'))\n",
        "cnn_model3.add(tf.keras.layers.MaxPooling2D(pool_size=(2, 2), strides=(2,2)))\n",
        "\n",
        "cnn_model3.add(tf.keras.layers.Conv2D(80, kernel_size = (3,3), padding= 'same', activation='relu'))\n",
        "cnn_model3.add(tf.keras.layers.Conv2D(90, kernel_size = (3,3), padding= 'same', activation='relu'))\n",
        "cnn_model3.add(tf.keras.layers.Conv2D(100, kernel_size = (3,3), padding= 'same', activation='relu'))\n",
        "cnn_model3.add(tf.keras.layers.MaxPooling2D(pool_size=(2, 2), strides=(2,2)))\n",
        "\n",
        "cnn_model3.add(tf.keras.layers.Conv2D(90, kernel_size = (3,3), padding= 'same', activation='relu'))\n",
        "cnn_model3.add(tf.keras.layers.Conv2D(80, kernel_size = (3,3), padding= 'same', activation='relu'))\n",
        "cnn_model3.add(tf.keras.layers.Conv2D(70, kernel_size = (3,3), padding= 'same', activation='relu'))\n",
        "cnn_model3.add(tf.keras.layers.MaxPooling2D(pool_size=(2, 2), strides=(2,2)))\n",
        "\n",
        "cnn_model3.add(tf.keras.layers.Conv2D(60, kernel_size = (3,3), padding= 'same', activation='relu'))\n",
        "cnn_model3.add(tf.keras.layers.Conv2D(50, kernel_size = (3,3), padding= 'same', activation='relu'))\n",
        "\n",
        "cnn_model3.add(tf.keras.layers.Flatten())\n",
        "cnn_model3.add(tf.keras.layers.Dense(10))                        #10 neurons to classify 10 different classes\n",
        "cnn_model3.add(tf.keras.layers.Activation('softmax'))\n",
        "\n",
        "cnn_model3.compile(loss='sparse_categorical_crossentropy', optimizer='adam', metrics=['accuracy'])\n",
        "cnn_model3.build(input_shape=(1,28,28,1))\n",
        "cnn_model3.summary()\n",
        "\n",
        "accuracy= cnn_model3.fit(X_train, y_train, batch_size=512, epochs=5)"
      ],
      "metadata": {
        "id": "FYUGfaWDsY4H"
      },
      "execution_count": null,
      "outputs": []
    },
    {
      "cell_type": "code",
      "source": [
        "# Evaluation model3\n",
        "score = cnn_model3.evaluate(X_test, y_test)\n",
        "print('Test loss for model3:', score[0])\n",
        "print('Test accuracy for model3:', score[1])"
      ],
      "metadata": {
        "id": "bd9aIE7wsY7X"
      },
      "execution_count": null,
      "outputs": []
    },
    {
      "cell_type": "code",
      "source": [
        "#4 different learning rate will be tested at first\n",
        "learningRate=[0.005, 0.01, 0.05, 0.1]\n",
        "acc=np.zeros(4)\n",
        "for i in range(len(learningRate)):\n",
        "  cnn_model3.compile(loss='sparse_categorical_crossentropy', optimizer='adam', metrics=['accuracy'])\n",
        "  cnn_model3.build(input_shape=(1,28,28,1))\n",
        "  accuracy= cnn_model3.fit(X_train, y_train, batch_size=128, epochs=5)\n",
        "  acc[i]=accuracy.history['accuracy'][4]\n",
        "  cnn_model3.summary()\n",
        "\n",
        "plt.plot(np.array(learningRate).reshape(4,1), np.array(acc).reshape(4,1))\n",
        "plt.ylabel('Accuracy')\n",
        "plt.xlabel('Learning rate')\n",
        "plt.title('Accuracy Vs combinations of batch size and optimizers')\n",
        "plt.show()"
      ],
      "metadata": {
        "id": "NnsetjKtsY-z"
      },
      "execution_count": null,
      "outputs": []
    },
    {
      "cell_type": "code",
      "source": [
        "#Now, with 0.1 learning rate, I will try different combinations of batch size and optimizers\n",
        "batch=[100, 200, 300, 400]\n",
        "acc1=np.zeros(4)\n",
        "acc2=np.zeros(4)\n",
        "acc3=np.zeros(4)\n",
        "for k in range(3):\n",
        "  for i in range(len(batch)):    \n",
        "\n",
        "        if k==0:\n",
        "          opt_lr = tf.keras.optimizers.Adam(learning_rate=0.1)\n",
        "          cnn_model3.compile(loss='sparse_categorical_crossentropy', optimizer=opt_lr, metrics=['accuracy'])\n",
        "          cnn_model3.build(input_shape=(1,28,28,1)) \n",
        "          #model.summary() \n",
        "          accuracy1= cnn_model3.fit(X_train, y_train,\n",
        "              batch_size=batch[i], epochs=5, verbose=0) \n",
        "          acc1[i]=accuracy1.history['accuracy'][4]\n",
        "        \n",
        "        elif k==1:\n",
        "          opt_lr = tf.keras.optimizers.SGD(learning_rate=0.1)\n",
        "          cnn_model3.compile(loss='sparse_categorical_crossentropy', optimizer=opt_lr, metrics=['accuracy'])\n",
        "          cnn_model3.build(input_shape=(1,28,28,1)) \n",
        "          #model.summary() \n",
        "          accuracy2= cnn_model3.fit(X_train, y_train,\n",
        "              batch_size=batch[i], epochs=5,\n",
        "              verbose=0)\n",
        "          acc2[i]=accuracy2.history['accuracy'][4]\n",
        "\n",
        "        \n",
        "        elif k==2:\n",
        "          opt_lr = tf.keras.optimizers.RMSprop(learning_rate=0.1)\n",
        "          cnn_model3.compile(loss='sparse_categorical_crossentropy', optimizer=opt_lr, metrics=['accuracy'])\n",
        "          cnn_model3.build(input_shape=(1,28,28,1))  \n",
        "          #model.summary() \n",
        "          accuracy3= cnn_model3.fit(X_train, y_train,\n",
        "              batch_size=batch[i], epochs=5,\n",
        "              verbose=0)   \n",
        "          acc3[i]=accuracy3.history['accuracy'][4]\n",
        "\n",
        "plt.plot(np.array(batch).reshape(4,1), np.array(acc1).reshape(4,1), color = 'red', label='Adam')\n",
        "plt.plot(np.array(batch).reshape(4,1), np.array(acc2).reshape(4,1), color = 'green', label='SGD')\n",
        "plt.plot(np.array(batch).reshape(4,1), np.array(acc3).reshape(4,1), color = 'blue', label='RMSProp')\n",
        "plt.ylabel('Accuracy')\n",
        "plt.xlabel('Batch Size')\n",
        "plt.title('Accuracy Vs combinations of batch size and optimizers')\n",
        "plt.show()"
      ],
      "metadata": {
        "id": "kt7c2a8lqnFv"
      },
      "execution_count": null,
      "outputs": []
    },
    {
      "cell_type": "code",
      "source": [
        "#Final model 3\n",
        "opt_lr = tf.keras.optimizers.SGD(learning_rate=0.1)\n",
        "\n",
        "#Building model\n",
        "cnn_model3 = tf.keras.models.Sequential()\n",
        "#Here, number of filters has been increased from 50 to 100 and then decreased from 100 to 50\n",
        "cnn_model3.add(tf.keras.layers.Conv2D(50, kernel_size = (3,3), padding= 'same', activation='relu'))\n",
        "cnn_model3.add(tf.keras.layers.Conv2D(60, kernel_size = (3,3), padding= 'same', activation='relu'))\n",
        "cnn_model3.add(tf.keras.layers.Conv2D(70, kernel_size = (3,3), padding= 'same', activation='relu'))\n",
        "cnn_model3.add(tf.keras.layers.MaxPooling2D(pool_size=(2, 2), strides=(2,2)))\n",
        "\n",
        "cnn_model3.add(tf.keras.layers.Conv2D(80, kernel_size = (3,3), padding= 'same', activation='relu'))\n",
        "cnn_model3.add(tf.keras.layers.Conv2D(90, kernel_size = (3,3), padding= 'same', activation='relu'))\n",
        "cnn_model3.add(tf.keras.layers.Conv2D(100, kernel_size = (3,3), padding= 'same', activation='relu'))\n",
        "cnn_model3.add(tf.keras.layers.MaxPooling2D(pool_size=(2, 2), strides=(2,2)))\n",
        "\n",
        "cnn_model3.add(tf.keras.layers.Conv2D(90, kernel_size = (3,3), padding= 'same', activation='relu'))\n",
        "cnn_model3.add(tf.keras.layers.Conv2D(80, kernel_size = (3,3), padding= 'same', activation='relu'))\n",
        "cnn_model3.add(tf.keras.layers.Conv2D(70, kernel_size = (3,3), padding= 'same', activation='relu'))\n",
        "cnn_model3.add(tf.keras.layers.MaxPooling2D(pool_size=(2, 2), strides=(2,2)))\n",
        "\n",
        "cnn_model3.add(tf.keras.layers.Conv2D(60, kernel_size = (3,3), padding= 'same', activation='relu'))\n",
        "cnn_model3.add(tf.keras.layers.Conv2D(50, kernel_size = (3,3), padding= 'same', activation='relu'))\n",
        "\n",
        "cnn_model3.add(tf.keras.layers.Flatten())\n",
        "cnn_model3.add(tf.keras.layers.Dense(10))                        #10 neurons to classify 10 different classes\n",
        "cnn_model3.add(tf.keras.layers.Activation('softmax'))\n",
        "\n",
        "cnn_model3.compile(loss='sparse_categorical_crossentropy', optimizer='adam', metrics=['accuracy'])\n",
        "cnn_model3.build(input_shape=(1,28,28,1))\n",
        "cnn_model3.summary()\n",
        "\n",
        "accuracy= cnn_model3.fit(X_train, y_train, batch_size=300, epochs=5)"
      ],
      "metadata": {
        "id": "TlMwzd2-qnIe"
      },
      "execution_count": null,
      "outputs": []
    },
    {
      "cell_type": "code",
      "source": [
        "# Evaluating the final model\n",
        "score = cnn_model3.evaluate(X_test, y_test)\n",
        "print('Test loss for model1:', score[0])\n",
        "print('Test accuracy for model1:', score[1])"
      ],
      "metadata": {
        "id": "Ma_s15tdliyY"
      },
      "execution_count": null,
      "outputs": []
    },
    {
      "cell_type": "markdown",
      "source": [
        "Accuracy came out to be 0.99"
      ],
      "metadata": {
        "id": "irdQ61BEs-V-"
      }
    },
    {
      "cell_type": "markdown",
      "source": [
        "QUESTION 2"
      ],
      "metadata": {
        "id": "W9r5KptOtDWD"
      }
    },
    {
      "cell_type": "code",
      "source": [
        "#loading the dataset\n",
        "(x_train, y_train), (x_test, y_test) = tf.keras.datasets.cifar10.load_data() "
      ],
      "metadata": {
        "id": "AdEbwnaq1XJH"
      },
      "execution_count": 3,
      "outputs": []
    },
    {
      "cell_type": "code",
      "source": [
        "#Reshape data \n",
        "x_train=x_train.reshape(50000,32,32,3) \n",
        "x_test=x_test.reshape(10000,32,32,3) \n",
        "\n",
        "x_train=x_train.astype('float32') \n",
        "x_test=x_test.astype('float32')"
      ],
      "metadata": {
        "id": "8fhXMhfbZg3L"
      },
      "execution_count": 4,
      "outputs": []
    },
    {
      "cell_type": "code",
      "source": [
        "#Normalization\n",
        "x_train /=255 \n",
        "x_test /=255\n",
        "print(x_train.shape)\n",
        "print(x_test.shape)\n",
        "print(y_train.shape)\n",
        "print(y_test.shape)"
      ],
      "metadata": {
        "colab": {
          "base_uri": "https://localhost:8080/"
        },
        "id": "UA0LXkofZk7m",
        "outputId": "299c282e-dd71-4795-f7b8-043362838e8f"
      },
      "execution_count": 5,
      "outputs": [
        {
          "output_type": "stream",
          "name": "stdout",
          "text": [
            "(50000, 32, 32, 3)\n",
            "(10000, 32, 32, 3)\n",
            "(50000, 1)\n",
            "(10000, 1)\n"
          ]
        }
      ]
    },
    {
      "cell_type": "code",
      "source": [
        "#LetNet with 7 layer output\n",
        "\n",
        "m = tf.keras.ms.Sequential()\n",
        "m.add(tf.keras.layers.Conv2D(6, (5, 5),strides=(1,1), padding='same', activation='relu'))\n",
        "m.add(tf.keras.layers.MaxPooling2D(pool_size=(2, 2), strides=(2,2)))\n",
        "m.add(tf.keras.layers.Conv2D(16, (5, 5),strides=(1,1), padding='same', activation='relu'))\n",
        "m.add(tf.keras.layers.MaxPooling2D(pool_size=(2, 2), strides=(2,2)))\n",
        "m.add(tf.keras.layers.Conv2D(120, (5, 5), padding='same', activation='relu'))\n",
        "m.add(tf.keras.layers.Flatten())\n",
        "m.add(tf.keras.layers.Dense(120))\n",
        "m.add(tf.keras.layers.Activation('relu'))\n",
        "m.add(tf.keras.layers.Dense(84))\n",
        "m.add(tf.keras.layers.Activation('relu'))\n",
        "#10 predicted classes\n",
        "m.add(tf.keras.layers.Dense(10)) \n",
        "m.add(tf.keras.layers.Activation('softmax'))\n",
        "opt_lr = tf.keras.optimizers.Adam(learning_rate=0.01)\n",
        "m.compile(loss='sparse_categorical_crossentropy', optimizer=opt_lr, metrics=['accuracy'])\n",
        "m.build(input_shape=(128,32,32,3)) \n",
        "m.summary() "
      ],
      "metadata": {
        "colab": {
          "base_uri": "https://localhost:8080/"
        },
        "id": "1kRU_wp-2K1T",
        "outputId": "ec625d97-43e3-4400-a332-556393561f14"
      },
      "execution_count": 6,
      "outputs": [
        {
          "output_type": "stream",
          "name": "stdout",
          "text": [
            "Model: \"sequential\"\n",
            "_________________________________________________________________\n",
            " Layer (type)                Output Shape              Param #   \n",
            "=================================================================\n",
            " conv2d (Conv2D)             (128, 32, 32, 6)          456       \n",
            "                                                                 \n",
            " max_pooling2d (MaxPooling2D  (128, 16, 16, 6)         0         \n",
            " )                                                               \n",
            "                                                                 \n",
            " conv2d_1 (Conv2D)           (128, 16, 16, 16)         2416      \n",
            "                                                                 \n",
            " max_pooling2d_1 (MaxPooling  (128, 8, 8, 16)          0         \n",
            " 2D)                                                             \n",
            "                                                                 \n",
            " conv2d_2 (Conv2D)           (128, 8, 8, 120)          48120     \n",
            "                                                                 \n",
            " flatten (Flatten)           (128, 7680)               0         \n",
            "                                                                 \n",
            " dense (Dense)               (128, 120)                921720    \n",
            "                                                                 \n",
            " activation (Activation)     (128, 120)                0         \n",
            "                                                                 \n",
            " dense_1 (Dense)             (128, 84)                 10164     \n",
            "                                                                 \n",
            " activation_1 (Activation)   (128, 84)                 0         \n",
            "                                                                 \n",
            " dense_2 (Dense)             (128, 10)                 850       \n",
            "                                                                 \n",
            " activation_2 (Activation)   (128, 10)                 0         \n",
            "                                                                 \n",
            "=================================================================\n",
            "Total params: 983,726\n",
            "Trainable params: 983,726\n",
            "Non-trainable params: 0\n",
            "_________________________________________________________________\n"
          ]
        }
      ]
    },
    {
      "cell_type": "code",
      "source": [
        "#25 epochs\n",
        "m.fit(x_train, y_train,\n",
        "          batch_size=128, epochs=25, verbose=1) "
      ],
      "metadata": {
        "colab": {
          "base_uri": "https://localhost:8080/"
        },
        "id": "bd7I5QZi3sVb",
        "outputId": "f9e4f3a7-6e14-4e7d-8f84-4178a7ddbe15"
      },
      "execution_count": null,
      "outputs": [
        {
          "output_type": "stream",
          "name": "stdout",
          "text": [
            "Epoch 1/25\n",
            "391/391 [==============================] - 10s 6ms/step - loss: 2.3102 - accuracy: 0.1008\n",
            "Epoch 2/25\n",
            "391/391 [==============================] - 2s 5ms/step - loss: 2.3033 - accuracy: 0.0989\n",
            "Epoch 3/25\n",
            "391/391 [==============================] - 2s 5ms/step - loss: 2.3033 - accuracy: 0.0985\n",
            "Epoch 4/25\n",
            "391/391 [==============================] - 2s 5ms/step - loss: 2.3032 - accuracy: 0.0974\n",
            "Epoch 5/25\n",
            "391/391 [==============================] - 2s 5ms/step - loss: 2.3032 - accuracy: 0.0992\n",
            "Epoch 6/25\n",
            "391/391 [==============================] - 2s 5ms/step - loss: 2.3033 - accuracy: 0.1005\n",
            "Epoch 7/25\n",
            "391/391 [==============================] - 2s 5ms/step - loss: 2.3033 - accuracy: 0.0979\n",
            "Epoch 8/25\n",
            "391/391 [==============================] - 2s 5ms/step - loss: 2.3033 - accuracy: 0.0982\n",
            "Epoch 9/25\n",
            "391/391 [==============================] - 2s 5ms/step - loss: 2.3034 - accuracy: 0.0998\n",
            "Epoch 10/25\n",
            "391/391 [==============================] - 2s 5ms/step - loss: 2.3032 - accuracy: 0.0990\n",
            "Epoch 11/25\n",
            "391/391 [==============================] - 2s 5ms/step - loss: 2.3034 - accuracy: 0.0985\n",
            "Epoch 12/25\n",
            "391/391 [==============================] - 2s 5ms/step - loss: 2.3033 - accuracy: 0.0991\n",
            "Epoch 13/25\n",
            "391/391 [==============================] - 2s 5ms/step - loss: 2.3032 - accuracy: 0.0996\n",
            "Epoch 14/25\n",
            "391/391 [==============================] - 2s 5ms/step - loss: 2.3032 - accuracy: 0.0994\n",
            "Epoch 15/25\n",
            "391/391 [==============================] - 2s 5ms/step - loss: 2.3034 - accuracy: 0.0988\n",
            "Epoch 16/25\n",
            "391/391 [==============================] - 2s 5ms/step - loss: 2.3032 - accuracy: 0.1000\n",
            "Epoch 17/25\n",
            "391/391 [==============================] - 2s 5ms/step - loss: 2.3034 - accuracy: 0.0993\n",
            "Epoch 18/25\n",
            "391/391 [==============================] - 2s 5ms/step - loss: 2.3034 - accuracy: 0.1000\n",
            "Epoch 19/25\n",
            "391/391 [==============================] - 2s 5ms/step - loss: 2.3033 - accuracy: 0.0988\n",
            "Epoch 20/25\n",
            "391/391 [==============================] - 2s 5ms/step - loss: 2.3034 - accuracy: 0.0973\n",
            "Epoch 21/25\n",
            "391/391 [==============================] - 2s 5ms/step - loss: 2.3032 - accuracy: 0.0995\n",
            "Epoch 22/25\n",
            "391/391 [==============================] - 2s 5ms/step - loss: 2.3034 - accuracy: 0.0991\n",
            "Epoch 23/25\n",
            "391/391 [==============================] - 2s 5ms/step - loss: 2.3035 - accuracy: 0.0987\n",
            "Epoch 24/25\n",
            "391/391 [==============================] - 2s 5ms/step - loss: 2.3031 - accuracy: 0.1011\n",
            "Epoch 25/25\n",
            "391/391 [==============================] - 2s 5ms/step - loss: 2.3035 - accuracy: 0.0973\n"
          ]
        },
        {
          "output_type": "execute_result",
          "data": {
            "text/plain": [
              "<keras.callbacks.History at 0x7f19ba374190>"
            ]
          },
          "metadata": {},
          "execution_count": 6
        }
      ]
    },
    {
      "cell_type": "markdown",
      "source": [
        "#Different learning rates:-"
      ],
      "metadata": {
        "id": "gK3QviRn4rUo"
      }
    },
    {
      "cell_type": "code",
      "source": [
        "#different learning rates\n",
        "learningRate=[0.001, 0.005, 0.01, 0.05, 0.1]\n",
        "acc=np.zeros(5)\n",
        "for i in range(len(learningRate)):\n",
        "    opt_lr = tf.keras.optimizers.Adam(learning_rate=learningRate[i]) \n",
        "    m.compile(loss='sparse_categorical_crossentropy', optimizer=opt_lr, metrics=['accuracy'])\n",
        "    m.build(input_shape=(128,32,32,3)) \n",
        "    accuracy= m.fit(x_train, y_train,\n",
        "          batch_size=128, epochs=25,\n",
        "          verbose=0) \n",
        "    acc[i]=accuracy.history['accuracy'][24]"
      ],
      "metadata": {
        "id": "sXqyGluY40wS"
      },
      "execution_count": null,
      "outputs": []
    },
    {
      "cell_type": "code",
      "source": [
        "#Plot - learning rates\n",
        "print(acc)\n",
        "plt.plot(np.array(learningRate).reshape(5,1), np.array(acc).reshape(5,1))\n",
        "plt.ylabel('Accuracy')\n",
        "plt.xlabel('Learning rate')\n",
        "plt.title('Accuracy Vs Learning rate ')\n",
        "plt.show()"
      ],
      "metadata": {
        "colab": {
          "base_uri": "https://localhost:8080/",
          "height": 313
        },
        "id": "jbDGdG01aX7A",
        "outputId": "29f0e2a8-afb1-4218-cdb3-952f7fdf529a"
      },
      "execution_count": null,
      "outputs": [
        {
          "output_type": "stream",
          "name": "stdout",
          "text": [
            "[0.09646 0.09982 0.10036 0.102   0.09898]\n"
          ]
        },
        {
          "output_type": "display_data",
          "data": {
            "text/plain": [
              "<Figure size 432x288 with 1 Axes>"
            ],
            "image/png": "[encoded data removed]"
          },
          "metadata": {
            "needs_background": "light"
          }
        }
      ]
    },
    {
      "cell_type": "markdown",
      "source": [
        "#According to the above plot, as the learning rate inceased accuracy decreased. So 0.001 is the best learning rate for the m.\n"
      ],
      "metadata": {
        "id": "T9rR1VzLAuCd"
      }
    },
    {
      "cell_type": "markdown",
      "source": [
        "#Different batch sizes:-"
      ],
      "metadata": {
        "id": "FafYhMak5itu"
      }
    },
    {
      "cell_type": "code",
      "source": [
        "#Learning rate = 0.001\n",
        "batch=[100, 200, 300, 400, 500]\n",
        "acc=np.zeros(5)\n",
        "for i in range(len(batch)):\n",
        "    m = tf.keras.ms.Sequential()\n",
        "    m.add(tf.keras.layers.Conv2D(6, (5, 5),strides=(1,1), padding='same', activation='relu'))\n",
        "    m.add(tf.keras.layers.MaxPooling2D(pool_size=(2, 2), strides=(2,2)))\n",
        "    m.add(tf.keras.layers.Conv2D(16, (5, 5),strides=(1,1), padding='same', activation='relu'))\n",
        "    m.add(tf.keras.layers.MaxPooling2D(pool_size=(2, 2), strides=(2,2)))\n",
        "    m.add(tf.keras.layers.Conv2D(120, (5, 5), padding='same', activation='relu'))\n",
        "    m.add(tf.keras.layers.Flatten())\n",
        "    m.add(tf.keras.layers.Dense(84))\n",
        "    m.add(tf.keras.layers.Activation('relu'))\n",
        "    m.add(tf.keras.layers.Dense(10)) \n",
        "    m.add(tf.keras.layers.Activation('softmax'))\n",
        "    opt_lr = tf.keras.optimizers.Adam(learning_rate=0.001) \n",
        "    m.compile(loss='sparse_categorical_crossentropy', optimizer=opt_lr, metrics=['accuracy'])\n",
        "    m.build(input_shape=(128,32,32,3)) \n",
        "    accuracy= m.fit(x_train, y_train,\n",
        "          batch_size=batch[i], epochs=25,\n",
        "          verbose=0) \n",
        "    acc[i]=accuracy.history['accuracy'][24]   \n"
      ],
      "metadata": {
        "id": "NJDW2QUc5vsL"
      },
      "execution_count": 11,
      "outputs": []
    },
    {
      "cell_type": "code",
      "source": [
        "#Plot - batch sizes\n",
        "print(acc)\n",
        "plt.plot(np.array(batch).reshape(5,1), np.array(acc).reshape(5,1))\n",
        "plt.ylabel('Accuracy')\n",
        "plt.xlabel('Batch size')\n",
        "plt.title('Accuracy Vs Batch size ')\n",
        "plt.show()"
      ],
      "metadata": {
        "id": "jiU8bQnobMyw",
        "colab": {
          "base_uri": "https://localhost:8080/",
          "height": 313
        },
        "outputId": "e419277e-9891-4a29-924a-8ec470cce5d2"
      },
      "execution_count": 12,
      "outputs": [
        {
          "output_type": "stream",
          "name": "stdout",
          "text": [
            "[0.97564    0.96112001 0.91082001 0.89197999 0.85241997]\n"
          ]
        },
        {
          "output_type": "display_data",
          "data": {
            "text/plain": [
              "<Figure size 432x288 with 1 Axes>"
            ],
            "image/png": "[encoded data removed]"
          },
          "metadata": {
            "needs_background": "light"
          }
        }
      ]
    },
    {
      "cell_type": "markdown",
      "source": [
        "#Using learning rate = 0.001 which cmae out to be best, we observe that the performance decreased as the batch size increased So 100 batchsize is best for the m."
      ],
      "metadata": {
        "id": "w4jDfDT7A49Y"
      }
    },
    {
      "cell_type": "markdown",
      "source": [
        "# Hyperparameters:-"
      ],
      "metadata": {
        "id": "bhBLD_i9BUsI"
      }
    },
    {
      "cell_type": "code",
      "source": [
        "#Adam optimizer\n",
        "batch=[100, 200, 300, 400, 500]\n",
        "learningRate=[0.001, 0.005, 0.01, 0.05, 0.1]\n",
        "\n",
        "for i in range(len(batch)):\n",
        "    for j in range(len(learningRate)):\n",
        "      m = tf.keras.ms.Sequential()\n",
        "      m.add(tf.keras.layers.Conv2D(6, (5, 5),strides=(1,1), padding='same', activation='relu'))\n",
        "      m.add(tf.keras.layers.MaxPooling2D(pool_size=(2, 2), strides=(2,2)))\n",
        "      m.add(tf.keras.layers.Conv2D(16, (5, 5),strides=(1,1), padding='same', activation='relu'))\n",
        "      m.add(tf.keras.layers.MaxPooling2D(pool_size=(2, 2), strides=(2,2)))\n",
        "      m.add(tf.keras.layers.Conv2D(120, (5, 5), padding='same', activation='relu'))\n",
        "      m.add(tf.keras.layers.Flatten())\n",
        "      m.add(tf.keras.layers.Dense(84))\n",
        "      m.add(tf.keras.layers.Activation('relu'))\n",
        "      m.add(tf.keras.layers.Dense(10)) \n",
        "      m.add(tf.keras.layers.Activation('softmax'))\n",
        "      opt_lr = tf.keras.optimizers.Adam(learning_rate=learningRate[j])\n",
        "      m.compile(loss='sparse_categorical_crossentropy', optimizer=opt_lr, metrics=['accuracy'])\n",
        "      m.build(input_shape=(128,32,32,3)) \n",
        "      m.summary() \n",
        "      accuracy= m.fit(x_train, y_train,\n",
        "          batch_size=batch[i], epochs=25,\n",
        "          verbose=0) # here I use batch size 128 and 25 epochs\n",
        "      print(i,j, accuracy.history['accuracy'][24])"
      ],
      "metadata": {
        "colab": {
          "base_uri": "https://localhost:8080/"
        },
        "id": "vfshxub2BSlb",
        "outputId": "da546fcc-18dd-4bb7-fc15-1b451b0b7d91"
      },
      "execution_count": null,
      "outputs": [
        {
          "output_type": "stream",
          "name": "stdout",
          "text": [
            "0 0 0.965719997882843\n",
            "0 1 0.09746000170707703\n",
            "0 2 0.0995199978351593\n",
            "0 3 0.10134000331163406\n",
            "0 4 0.0989999994635582\n",
            "1 0 0.9609799981117249\n",
            "1 1 0.9058799743652344\n",
            "1 2 0.10051999986171722\n",
            "1 3 0.09706000238656998\n",
            "1 4 0.09715999662876129\n",
            "2 0 0.9478200078010559\n",
            "2 1 0.9144799709320068\n",
            "2 2 0.10006000101566315\n",
            "2 3 0.09774000197649002\n",
            "2 4 0.09826000034809113\n",
            "3 0 0.8789600133895874\n",
            "3 1 0.8812800049781799\n",
            "3 2 0.10171999782323837\n",
            "3 3 0.10034000128507614\n",
            "3 4 0.10044000297784805\n",
            "4 0 0.8784400224685669\n",
            "4 1 0.8947200179100037\n",
            "4 2 0.0983399972319603\n",
            "4 3 0.10022000223398209\n",
            "4 4 0.1005999967455864\n"
          ]
        }
      ]
    },
    {
      "cell_type": "code",
      "source": [
        "#SGD optimizer\n",
        "batch=[100, 200, 300, 400, 500]\n",
        "learningRate=[0.001, 0.005, 0.01, 0.05, 0.1]\n",
        "for i in range(len(batch)):\n",
        "    for j in range(len(learningRate)):\n",
        "      m = tf.keras.ms.Sequential()\n",
        "      m.add(tf.keras.layers.Conv2D(6, (5, 5),strides=(1,1), padding='same', activation='relu'))\n",
        "      m.add(tf.keras.layers.MaxPooling2D(pool_size=(2, 2), strides=(2,2)))\n",
        "      m.add(tf.keras.layers.Conv2D(16, (5, 5),strides=(1,1), padding='same', activation='relu'))\n",
        "      m.add(tf.keras.layers.MaxPooling2D(pool_size=(2, 2), strides=(2,2)))\n",
        "      m.add(tf.keras.layers.Conv2D(120, (5, 5), padding='same', activation='relu'))\n",
        "      m.add(tf.keras.layers.Flatten())\n",
        "      m.add(tf.keras.layers.Dense(84))\n",
        "      m.add(tf.keras.layers.Activation('relu'))\n",
        "      m.add(tf.keras.layers.Dense(10)) \n",
        "      m.add(tf.keras.layers.Activation('softmax'))\n",
        "      opt_lr = tf.keras.optimizers.SGD(learning_rate=learningRate[j])\n",
        "      m.compile(loss='sparse_categorical_crossentropy', optimizer=opt_lr, metrics=['accuracy'])\n",
        "      m.build(input_shape=(128,32,32,3)) \n",
        "      m.summary() \n",
        "      accuracy= m.fit(x_train, y_train,\n",
        "          batch_size=batch[i], epochs=25,\n",
        "          verbose=0) # here I use batch size 128 and 25 epochs\n",
        "      print(i,j,accuracy.history['accuracy'][24])"
      ],
      "metadata": {
        "id": "sRhZ6YOIC9WY",
        "colab": {
          "base_uri": "https://localhost:8080/"
        },
        "outputId": "6459a870-005c-4796-d1dc-65a31f3ecfdd"
      },
      "execution_count": null,
      "outputs": [
        {
          "output_type": "stream",
          "name": "stdout",
          "text": [
            "0 0 0.40397998690605164\n",
            "0 1 0.6482200026512146\n",
            "0 2 0.7182000279426575\n",
            "0 3 0.9747800230979919\n",
            "0 4 0.9760599732398987\n",
            "1 0 0.357699990272522\n",
            "1 1 0.5532000064849854\n",
            "1 2 0.641539990901947\n",
            "1 3 0.9413800239562988\n",
            "1 4 0.9962199926376343\n",
            "2 0 0.3387199938297272\n",
            "2 1 0.504800021648407\n",
            "2 2 0.5717800259590149\n",
            "2 3 0.8509399890899658\n",
            "2 4 0.966759979724884\n",
            "3 0 0.21187999844551086\n",
            "3 1 0.4783799946308136\n",
            "3 2 0.5361800193786621\n",
            "3 3 0.7781400084495544\n",
            "3 4 0.8931599855422974\n",
            "4 0 0.22227999567985535\n",
            "4 1 0.45320001244544983\n",
            "4 2 0.511680006980896\n",
            "4 3 0.6906800270080566\n",
            "4 4 0.8607400059700012\n"
          ]
        }
      ]
    },
    {
      "cell_type": "markdown",
      "source": [
        "#Feed forward network - each hidden layer containing the same number of neurons as the number of filters in each convolution layer. optimizer=adam, Epochs =25 :-"
      ],
      "metadata": {
        "id": "ehnxjonkNv6T"
      }
    },
    {
      "cell_type": "code",
      "source": [
        "m = tf.keras.ms.Sequential()\n",
        "m.add(tf.keras.layers.Flatten())\n",
        "m.add(tf.keras.layers.Dense(456))\n",
        "m.add(tf.keras.layers.Activation('relu'))\n",
        "m.add(tf.keras.layers.Dense(2416))\n",
        "m.add(tf.keras.layers.Activation('relu'))\n",
        "m.add(tf.keras.layers.Dense(48120))\n",
        "m.add(tf.keras.layers.Activation('relu'))\n",
        "m.add(tf.keras.layers.Dense(10))\n",
        "m.add(tf.keras.layers.Activation('softmax'))\n",
        "m.build(input_shape=(128, 32,32,3))\n",
        "m.summary()\n",
        "opt_lr = tf.keras.optimizers.Adam(learning_rate=0.001)\n",
        "m.compile(loss='sparse_categorical_crossentropy', optimizer=opt_lr, metrics=['accuracy'])\n",
        "m.fit(x_train, y_train,\n",
        "          batch_size=128, epochs=25,\n",
        "          verbose=1)"
      ],
      "metadata": {
        "id": "dljv7PbdN89K",
        "colab": {
          "base_uri": "https://localhost:8080/"
        },
        "outputId": "d32962a7-c078-4f6f-e6a1-2104d84d63f1"
      },
      "execution_count": 7,
      "outputs": [
        {
          "output_type": "stream",
          "name": "stdout",
          "text": [
            "Model: \"sequential_1\"\n",
            "_________________________________________________________________\n",
            " Layer (type)                Output Shape              Param #   \n",
            "=================================================================\n",
            " flatten_1 (Flatten)         (128, 3072)               0         \n",
            "                                                                 \n",
            " dense_3 (Dense)             (128, 456)                1401288   \n",
            "                                                                 \n",
            " activation_3 (Activation)   (128, 456)                0         \n",
            "                                                                 \n",
            " dense_4 (Dense)             (128, 2416)               1104112   \n",
            "                                                                 \n",
            " activation_4 (Activation)   (128, 2416)               0         \n",
            "                                                                 \n",
            " dense_5 (Dense)             (128, 48120)              116306040 \n",
            "                                                                 \n",
            " activation_5 (Activation)   (128, 48120)              0         \n",
            "                                                                 \n",
            " dense_6 (Dense)             (128, 10)                 481210    \n",
            "                                                                 \n",
            " activation_6 (Activation)   (128, 10)                 0         \n",
            "                                                                 \n",
            "=================================================================\n",
            "Total params: 119,292,650\n",
            "Trainable params: 119,292,650\n",
            "Non-trainable params: 0\n",
            "_________________________________________________________________\n",
            "Epoch 1/25\n",
            "391/391 [==============================] - 19s 44ms/step - loss: 2.3851 - accuracy: 0.0983\n",
            "Epoch 2/25\n",
            "391/391 [==============================] - 17s 44ms/step - loss: 2.3027 - accuracy: 0.0976\n",
            "Epoch 3/25\n",
            "391/391 [==============================] - 17s 44ms/step - loss: 2.3027 - accuracy: 0.0970\n",
            "Epoch 4/25\n",
            "391/391 [==============================] - 19s 48ms/step - loss: 2.3027 - accuracy: 0.0978\n",
            "Epoch 5/25\n",
            "391/391 [==============================] - 18s 45ms/step - loss: 2.3027 - accuracy: 0.0976\n",
            "Epoch 6/25\n",
            "391/391 [==============================] - 17s 44ms/step - loss: 2.3027 - accuracy: 0.0965\n",
            "Epoch 7/25\n",
            "391/391 [==============================] - 17s 44ms/step - loss: 2.3027 - accuracy: 0.0981\n",
            "Epoch 8/25\n",
            "391/391 [==============================] - 17s 44ms/step - loss: 2.3027 - accuracy: 0.0990\n",
            "Epoch 9/25\n",
            "391/391 [==============================] - 17s 44ms/step - loss: 2.3027 - accuracy: 0.0998\n",
            "Epoch 10/25\n",
            "391/391 [==============================] - 17s 44ms/step - loss: 2.3027 - accuracy: 0.0980\n",
            "Epoch 11/25\n",
            "391/391 [==============================] - 17s 44ms/step - loss: 2.3027 - accuracy: 0.0975\n",
            "Epoch 12/25\n",
            "391/391 [==============================] - 17s 44ms/step - loss: 2.3027 - accuracy: 0.0976\n",
            "Epoch 13/25\n",
            "391/391 [==============================] - 17s 45ms/step - loss: 2.3027 - accuracy: 0.0989\n",
            "Epoch 14/25\n",
            "391/391 [==============================] - 17s 44ms/step - loss: 2.3027 - accuracy: 0.0995\n",
            "Epoch 15/25\n",
            "391/391 [==============================] - 17s 44ms/step - loss: 2.3027 - accuracy: 0.0966\n",
            "Epoch 16/25\n",
            "391/391 [==============================] - 17s 44ms/step - loss: 2.3027 - accuracy: 0.0976\n",
            "Epoch 17/25\n",
            "391/391 [==============================] - 17s 44ms/step - loss: 2.3027 - accuracy: 0.0971\n",
            "Epoch 18/25\n",
            "391/391 [==============================] - 17s 44ms/step - loss: 2.3027 - accuracy: 0.0974\n",
            "Epoch 19/25\n",
            "391/391 [==============================] - 17s 44ms/step - loss: 2.3027 - accuracy: 0.0998\n",
            "Epoch 20/25\n",
            "391/391 [==============================] - 17s 44ms/step - loss: 2.3027 - accuracy: 0.0985\n",
            "Epoch 21/25\n",
            "391/391 [==============================] - 17s 44ms/step - loss: 2.3027 - accuracy: 0.0997\n",
            "Epoch 22/25\n",
            "391/391 [==============================] - 17s 44ms/step - loss: 2.3027 - accuracy: 0.0998\n",
            "Epoch 23/25\n",
            "391/391 [==============================] - 17s 44ms/step - loss: 2.3027 - accuracy: 0.0990\n",
            "Epoch 24/25\n",
            "391/391 [==============================] - 17s 44ms/step - loss: 2.3027 - accuracy: 0.0994\n",
            "Epoch 25/25\n",
            "391/391 [==============================] - 17s 44ms/step - loss: 2.3027 - accuracy: 0.0976\n"
          ]
        },
        {
          "output_type": "execute_result",
          "data": {
            "text/plain": [
              "<keras.callbacks.History at 0x7f2582418990>"
            ]
          },
          "metadata": {},
          "execution_count": 7
        }
      ]
    },
    {
      "cell_type": "code",
      "source": [
        "#LeNet has less number of parameters compared to the Adam optimiser. Accuracy for Lenet is around 0.965 where as Adam optimiser gave accruacy less than 0.1. So overall Lenets performace is better."
      ],
      "metadata": {
        "id": "-1leZxOkv96s"
      },
      "execution_count": null,
      "outputs": []
    }
  ]
}