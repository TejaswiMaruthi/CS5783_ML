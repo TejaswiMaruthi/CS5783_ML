{
 "cells": [
  {
   "cell_type": "code",
   "execution_count": 32,
   "metadata": {
    "id": "SNaJyJv7chD2"
   },
   "outputs": [],
   "source": [
    "#import libraries\n",
    "import numpy as np\n",
    "import matplotlib.pyplot as plt\n"
   ]
  },
  {
   "cell_type": "markdown",
   "metadata": {
    "id": "Ny-uirbBchD5"
   },
   "source": [
    "### Problem 1: Read a text file and print a histogram of the letters present in the document"
   ]
  },
  {
   "cell_type": "code",
   "execution_count": 33,
   "metadata": {
    "colab": {
     "base_uri": "https://localhost:8080/"
    },
    "id": "sjLvNzlcchD7",
    "outputId": "61144d97-b9e6-4349-b188-60e53206a947"
   },
   "outputs": [
    {
     "name": "stdout",
     "output_type": "stream",
     "text": [
      "The quick brown fox jumps over a lazy dog\n",
      "Waltz, bad nymph, for quick jigs vex\n",
      "Glib jocks quiz nymph to vex dwarf\n",
      "Sphinx of black quartz, judge my vow\n",
      "How vexingly quick daft zebras jump\n",
      "The five boxing wizards jump quickly\n",
      "Jackdaws love my big sphinx of quartz\n",
      "Pack my box with five dozen liquor jugs\n",
      "Waltz, bad nymph, for quick jigs vex\n",
      "Quick zephyrs blow, vexing daft Jim\n",
      "Sphinx of black quartz, judge my vow\n",
      "Two driven jocks help fax my big quiz\n",
      "Five quacking zephyrs jolt my wax bed\n",
      "The five boxing wizards jump quickly\n",
      "Pack my box with five dozen liquor jugs\n",
      "The quick brown fox jumps over the lazy dog\n",
      "Jinxed wizards pluck ivy from the big quilt\n",
      "Crazy Fredrick bought many very exquisite opal jewels\n",
      "We promptly judged antique ivory buckles for the next prize\n",
      "A mad boxer shot a quick, gloved jab to the jaw of his dizzy opponent\n",
      "Jaded zombies acted quaintly but kept driving their oxen forward\n",
      "The job requires extra pluck and zeal from every young wage earner\n"
     ]
    }
   ],
   "source": [
    "#Input text data\n",
    "fileObject= open(\"D:/SEM3/CS 5783 ML/Assignment 0/test.txt\",\"r\")\n",
    "data=fileObject.read()\n",
    "print(data)"
   ]
  },
  {
   "cell_type": "code",
   "execution_count": 34,
   "metadata": {
    "colab": {
     "base_uri": "https://localhost:8080/"
    },
    "id": "1n8eobDRchD8",
    "outputId": "20527f16-37c3-4a7c-9795-ad3fcc88f9b8"
   },
   "outputs": [
    {
     "data": {
      "text/plain": [
       "str"
      ]
     },
     "execution_count": 34,
     "metadata": {},
     "output_type": "execute_result"
    }
   ],
   "source": [
    "type(data)"
   ]
  },
  {
   "cell_type": "code",
   "execution_count": 35,
   "metadata": {
    "colab": {
     "base_uri": "https://localhost:8080/"
    },
    "id": "VlIwSHlHchD9",
    "outputId": "d41fe6bc-10b2-4bb9-e873-2fae4e2f4490"
   },
   "outputs": [
    {
     "data": {
      "text/plain": [
       "array(['t', 'h', 'e', ' ', 'q', 'u', 'i', 'c', 'k', ' ', 'b', 'r', 'o',\n",
       "       'w', 'n', ' ', 'f', 'o', 'x', ' ', 'j', 'u', 'm', 'p', 's', ' ',\n",
       "       'o', 'v', 'e', 'r', ' ', 'a', ' ', 'l', 'a', 'z', 'y', ' ', 'd',\n",
       "       'o', 'g', '\\n', 'w', 'a', 'l', 't', 'z', ',', ' ', 'b', 'a', 'd',\n",
       "       ' ', 'n', 'y', 'm', 'p', 'h', ',', ' ', 'f', 'o', 'r', ' ', 'q',\n",
       "       'u', 'i', 'c', 'k', ' ', 'j', 'i', 'g', 's', ' ', 'v', 'e', 'x',\n",
       "       '\\n', 'g', 'l', 'i', 'b', ' ', 'j', 'o', 'c', 'k', 's', ' ', 'q',\n",
       "       'u', 'i', 'z', ' ', 'n', 'y', 'm', 'p', 'h', ' ', 't', 'o', ' ',\n",
       "       'v', 'e', 'x', ' ', 'd', 'w', 'a', 'r', 'f', '\\n', 's', 'p', 'h',\n",
       "       'i', 'n', 'x', ' ', 'o', 'f', ' ', 'b', 'l', 'a', 'c', 'k', ' ',\n",
       "       'q', 'u', 'a', 'r', 't', 'z', ',', ' ', 'j', 'u', 'd', 'g', 'e',\n",
       "       ' ', 'm', 'y', ' ', 'v', 'o', 'w', '\\n', 'h', 'o', 'w', ' ', 'v',\n",
       "       'e', 'x', 'i', 'n', 'g', 'l', 'y', ' ', 'q', 'u', 'i', 'c', 'k',\n",
       "       ' ', 'd', 'a', 'f', 't', ' ', 'z', 'e', 'b', 'r', 'a', 's', ' ',\n",
       "       'j', 'u', 'm', 'p', '\\n', 't', 'h', 'e', ' ', 'f', 'i', 'v', 'e',\n",
       "       ' ', 'b', 'o', 'x', 'i', 'n', 'g', ' ', 'w', 'i', 'z', 'a', 'r',\n",
       "       'd', 's', ' ', 'j', 'u', 'm', 'p', ' ', 'q', 'u', 'i', 'c', 'k',\n",
       "       'l', 'y', '\\n', 'j', 'a', 'c', 'k', 'd', 'a', 'w', 's', ' ', 'l',\n",
       "       'o', 'v', 'e', ' ', 'm', 'y', ' ', 'b', 'i', 'g', ' ', 's', 'p',\n",
       "       'h', 'i', 'n', 'x', ' ', 'o', 'f', ' ', 'q', 'u', 'a', 'r', 't',\n",
       "       'z', '\\n', 'p', 'a', 'c', 'k', ' ', 'm', 'y', ' ', 'b', 'o', 'x',\n",
       "       ' ', 'w', 'i', 't', 'h', ' ', 'f', 'i', 'v', 'e', ' ', 'd', 'o',\n",
       "       'z', 'e', 'n', ' ', 'l', 'i', 'q', 'u', 'o', 'r', ' ', 'j', 'u',\n",
       "       'g', 's', '\\n', 'w', 'a', 'l', 't', 'z', ',', ' ', 'b', 'a', 'd',\n",
       "       ' ', 'n', 'y', 'm', 'p', 'h', ',', ' ', 'f', 'o', 'r', ' ', 'q',\n",
       "       'u', 'i', 'c', 'k', ' ', 'j', 'i', 'g', 's', ' ', 'v', 'e', 'x',\n",
       "       '\\n', 'q', 'u', 'i', 'c', 'k', ' ', 'z', 'e', 'p', 'h', 'y', 'r',\n",
       "       's', ' ', 'b', 'l', 'o', 'w', ',', ' ', 'v', 'e', 'x', 'i', 'n',\n",
       "       'g', ' ', 'd', 'a', 'f', 't', ' ', 'j', 'i', 'm', '\\n', 's', 'p',\n",
       "       'h', 'i', 'n', 'x', ' ', 'o', 'f', ' ', 'b', 'l', 'a', 'c', 'k',\n",
       "       ' ', 'q', 'u', 'a', 'r', 't', 'z', ',', ' ', 'j', 'u', 'd', 'g',\n",
       "       'e', ' ', 'm', 'y', ' ', 'v', 'o', 'w', '\\n', 't', 'w', 'o', ' ',\n",
       "       'd', 'r', 'i', 'v', 'e', 'n', ' ', 'j', 'o', 'c', 'k', 's', ' ',\n",
       "       'h', 'e', 'l', 'p', ' ', 'f', 'a', 'x', ' ', 'm', 'y', ' ', 'b',\n",
       "       'i', 'g', ' ', 'q', 'u', 'i', 'z', '\\n', 'f', 'i', 'v', 'e', ' ',\n",
       "       'q', 'u', 'a', 'c', 'k', 'i', 'n', 'g', ' ', 'z', 'e', 'p', 'h',\n",
       "       'y', 'r', 's', ' ', 'j', 'o', 'l', 't', ' ', 'm', 'y', ' ', 'w',\n",
       "       'a', 'x', ' ', 'b', 'e', 'd', '\\n', 't', 'h', 'e', ' ', 'f', 'i',\n",
       "       'v', 'e', ' ', 'b', 'o', 'x', 'i', 'n', 'g', ' ', 'w', 'i', 'z',\n",
       "       'a', 'r', 'd', 's', ' ', 'j', 'u', 'm', 'p', ' ', 'q', 'u', 'i',\n",
       "       'c', 'k', 'l', 'y', '\\n', 'p', 'a', 'c', 'k', ' ', 'm', 'y', ' ',\n",
       "       'b', 'o', 'x', ' ', 'w', 'i', 't', 'h', ' ', 'f', 'i', 'v', 'e',\n",
       "       ' ', 'd', 'o', 'z', 'e', 'n', ' ', 'l', 'i', 'q', 'u', 'o', 'r',\n",
       "       ' ', 'j', 'u', 'g', 's', '\\n', 't', 'h', 'e', ' ', 'q', 'u', 'i',\n",
       "       'c', 'k', ' ', 'b', 'r', 'o', 'w', 'n', ' ', 'f', 'o', 'x', ' ',\n",
       "       'j', 'u', 'm', 'p', 's', ' ', 'o', 'v', 'e', 'r', ' ', 't', 'h',\n",
       "       'e', ' ', 'l', 'a', 'z', 'y', ' ', 'd', 'o', 'g', '\\n', 'j', 'i',\n",
       "       'n', 'x', 'e', 'd', ' ', 'w', 'i', 'z', 'a', 'r', 'd', 's', ' ',\n",
       "       'p', 'l', 'u', 'c', 'k', ' ', 'i', 'v', 'y', ' ', 'f', 'r', 'o',\n",
       "       'm', ' ', 't', 'h', 'e', ' ', 'b', 'i', 'g', ' ', 'q', 'u', 'i',\n",
       "       'l', 't', '\\n', 'c', 'r', 'a', 'z', 'y', ' ', 'f', 'r', 'e', 'd',\n",
       "       'r', 'i', 'c', 'k', ' ', 'b', 'o', 'u', 'g', 'h', 't', ' ', 'm',\n",
       "       'a', 'n', 'y', ' ', 'v', 'e', 'r', 'y', ' ', 'e', 'x', 'q', 'u',\n",
       "       'i', 's', 'i', 't', 'e', ' ', 'o', 'p', 'a', 'l', ' ', 'j', 'e',\n",
       "       'w', 'e', 'l', 's', '\\n', 'w', 'e', ' ', 'p', 'r', 'o', 'm', 'p',\n",
       "       't', 'l', 'y', ' ', 'j', 'u', 'd', 'g', 'e', 'd', ' ', 'a', 'n',\n",
       "       't', 'i', 'q', 'u', 'e', ' ', 'i', 'v', 'o', 'r', 'y', ' ', 'b',\n",
       "       'u', 'c', 'k', 'l', 'e', 's', ' ', 'f', 'o', 'r', ' ', 't', 'h',\n",
       "       'e', ' ', 'n', 'e', 'x', 't', ' ', 'p', 'r', 'i', 'z', 'e', '\\n',\n",
       "       'a', ' ', 'm', 'a', 'd', ' ', 'b', 'o', 'x', 'e', 'r', ' ', 's',\n",
       "       'h', 'o', 't', ' ', 'a', ' ', 'q', 'u', 'i', 'c', 'k', ',', ' ',\n",
       "       'g', 'l', 'o', 'v', 'e', 'd', ' ', 'j', 'a', 'b', ' ', 't', 'o',\n",
       "       ' ', 't', 'h', 'e', ' ', 'j', 'a', 'w', ' ', 'o', 'f', ' ', 'h',\n",
       "       'i', 's', ' ', 'd', 'i', 'z', 'z', 'y', ' ', 'o', 'p', 'p', 'o',\n",
       "       'n', 'e', 'n', 't', '\\n', 'j', 'a', 'd', 'e', 'd', ' ', 'z', 'o',\n",
       "       'm', 'b', 'i', 'e', 's', ' ', 'a', 'c', 't', 'e', 'd', ' ', 'q',\n",
       "       'u', 'a', 'i', 'n', 't', 'l', 'y', ' ', 'b', 'u', 't', ' ', 'k',\n",
       "       'e', 'p', 't', ' ', 'd', 'r', 'i', 'v', 'i', 'n', 'g', ' ', 't',\n",
       "       'h', 'e', 'i', 'r', ' ', 'o', 'x', 'e', 'n', ' ', 'f', 'o', 'r',\n",
       "       'w', 'a', 'r', 'd', '\\n', 't', 'h', 'e', ' ', 'j', 'o', 'b', ' ',\n",
       "       'r', 'e', 'q', 'u', 'i', 'r', 'e', 's', ' ', 'e', 'x', 't', 'r',\n",
       "       'a', ' ', 'p', 'l', 'u', 'c', 'k', ' ', 'a', 'n', 'd', ' ', 'z',\n",
       "       'e', 'a', 'l', ' ', 'f', 'r', 'o', 'm', ' ', 'e', 'v', 'e', 'r',\n",
       "       'y', ' ', 'y', 'o', 'u', 'n', 'g', ' ', 'w', 'a', 'g', 'e', ' ',\n",
       "       'e', 'a', 'r', 'n', 'e', 'r'], dtype='<U1')"
      ]
     },
     "execution_count": 35,
     "metadata": {},
     "output_type": "execute_result"
    }
   ],
   "source": [
    "#Convert text data to array\n",
    "char_list= list(data)\n",
    "char_array=np.asarray(char_list)\n",
    "char_array=np.char.lower(char_array)\n",
    "char_array"
   ]
  },
  {
   "cell_type": "code",
   "execution_count": 36,
   "metadata": {
    "colab": {
     "base_uri": "https://localhost:8080/"
    },
    "id": "ZSutPwUqchD9",
    "outputId": "e7777224-3263-4a5a-d351-f68de06e6598"
   },
   "outputs": [
    {
     "data": {
      "text/plain": [
       "array(['\\n', '\\n', '\\n', '\\n', '\\n', '\\n', '\\n', '\\n', '\\n', '\\n', '\\n',\n",
       "       '\\n', '\\n', '\\n', '\\n', '\\n', '\\n', '\\n', '\\n', '\\n', '\\n', ' ',\n",
       "       ' ', ' ', ' ', ' ', ' ', ' ', ' ', ' ', ' ', ' ', ' ', ' ', ' ',\n",
       "       ' ', ' ', ' ', ' ', ' ', ' ', ' ', ' ', ' ', ' ', ' ', ' ', ' ',\n",
       "       ' ', ' ', ' ', ' ', ' ', ' ', ' ', ' ', ' ', ' ', ' ', ' ', ' ',\n",
       "       ' ', ' ', ' ', ' ', ' ', ' ', ' ', ' ', ' ', ' ', ' ', ' ', ' ',\n",
       "       ' ', ' ', ' ', ' ', ' ', ' ', ' ', ' ', ' ', ' ', ' ', ' ', ' ',\n",
       "       ' ', ' ', ' ', ' ', ' ', ' ', ' ', ' ', ' ', ' ', ' ', ' ', ' ',\n",
       "       ' ', ' ', ' ', ' ', ' ', ' ', ' ', ' ', ' ', ' ', ' ', ' ', ' ',\n",
       "       ' ', ' ', ' ', ' ', ' ', ' ', ' ', ' ', ' ', ' ', ' ', ' ', ' ',\n",
       "       ' ', ' ', ' ', ' ', ' ', ' ', ' ', ' ', ' ', ' ', ' ', ' ', ' ',\n",
       "       ' ', ' ', ' ', ' ', ' ', ' ', ' ', ' ', ' ', ' ', ' ', ' ', ' ',\n",
       "       ' ', ' ', ' ', ' ', ' ', ' ', ' ', ' ', ' ', ' ', ' ', ' ', ' ',\n",
       "       ' ', ' ', ' ', ' ', ' ', ' ', ' ', ' ', ' ', ' ', ' ', ' ', ',',\n",
       "       ',', ',', ',', ',', ',', ',', ',', 'a', 'a', 'a', 'a', 'a', 'a',\n",
       "       'a', 'a', 'a', 'a', 'a', 'a', 'a', 'a', 'a', 'a', 'a', 'a', 'a',\n",
       "       'a', 'a', 'a', 'a', 'a', 'a', 'a', 'a', 'a', 'a', 'a', 'a', 'a',\n",
       "       'a', 'a', 'a', 'a', 'a', 'a', 'a', 'a', 'a', 'a', 'a', 'a', 'b',\n",
       "       'b', 'b', 'b', 'b', 'b', 'b', 'b', 'b', 'b', 'b', 'b', 'b', 'b',\n",
       "       'b', 'b', 'b', 'b', 'b', 'b', 'b', 'b', 'b', 'b', 'c', 'c', 'c',\n",
       "       'c', 'c', 'c', 'c', 'c', 'c', 'c', 'c', 'c', 'c', 'c', 'c', 'c',\n",
       "       'c', 'c', 'c', 'c', 'c', 'c', 'c', 'd', 'd', 'd', 'd', 'd', 'd',\n",
       "       'd', 'd', 'd', 'd', 'd', 'd', 'd', 'd', 'd', 'd', 'd', 'd', 'd',\n",
       "       'd', 'd', 'd', 'd', 'd', 'd', 'd', 'd', 'd', 'd', 'd', 'e', 'e',\n",
       "       'e', 'e', 'e', 'e', 'e', 'e', 'e', 'e', 'e', 'e', 'e', 'e', 'e',\n",
       "       'e', 'e', 'e', 'e', 'e', 'e', 'e', 'e', 'e', 'e', 'e', 'e', 'e',\n",
       "       'e', 'e', 'e', 'e', 'e', 'e', 'e', 'e', 'e', 'e', 'e', 'e', 'e',\n",
       "       'e', 'e', 'e', 'e', 'e', 'e', 'e', 'e', 'e', 'e', 'e', 'e', 'e',\n",
       "       'e', 'e', 'e', 'e', 'e', 'e', 'e', 'e', 'e', 'f', 'f', 'f', 'f',\n",
       "       'f', 'f', 'f', 'f', 'f', 'f', 'f', 'f', 'f', 'f', 'f', 'f', 'f',\n",
       "       'f', 'f', 'f', 'f', 'f', 'g', 'g', 'g', 'g', 'g', 'g', 'g', 'g',\n",
       "       'g', 'g', 'g', 'g', 'g', 'g', 'g', 'g', 'g', 'g', 'g', 'g', 'g',\n",
       "       'g', 'g', 'h', 'h', 'h', 'h', 'h', 'h', 'h', 'h', 'h', 'h', 'h',\n",
       "       'h', 'h', 'h', 'h', 'h', 'h', 'h', 'h', 'h', 'h', 'h', 'h', 'h',\n",
       "       'h', 'i', 'i', 'i', 'i', 'i', 'i', 'i', 'i', 'i', 'i', 'i', 'i',\n",
       "       'i', 'i', 'i', 'i', 'i', 'i', 'i', 'i', 'i', 'i', 'i', 'i', 'i',\n",
       "       'i', 'i', 'i', 'i', 'i', 'i', 'i', 'i', 'i', 'i', 'i', 'i', 'i',\n",
       "       'i', 'i', 'i', 'i', 'i', 'i', 'i', 'i', 'i', 'i', 'i', 'i', 'i',\n",
       "       'i', 'i', 'i', 'i', 'i', 'j', 'j', 'j', 'j', 'j', 'j', 'j', 'j',\n",
       "       'j', 'j', 'j', 'j', 'j', 'j', 'j', 'j', 'j', 'j', 'j', 'j', 'j',\n",
       "       'j', 'j', 'k', 'k', 'k', 'k', 'k', 'k', 'k', 'k', 'k', 'k', 'k',\n",
       "       'k', 'k', 'k', 'k', 'k', 'k', 'k', 'k', 'k', 'k', 'k', 'l', 'l',\n",
       "       'l', 'l', 'l', 'l', 'l', 'l', 'l', 'l', 'l', 'l', 'l', 'l', 'l',\n",
       "       'l', 'l', 'l', 'l', 'l', 'l', 'l', 'l', 'l', 'l', 'l', 'm', 'm',\n",
       "       'm', 'm', 'm', 'm', 'm', 'm', 'm', 'm', 'm', 'm', 'm', 'm', 'm',\n",
       "       'm', 'm', 'm', 'm', 'm', 'm', 'm', 'n', 'n', 'n', 'n', 'n', 'n',\n",
       "       'n', 'n', 'n', 'n', 'n', 'n', 'n', 'n', 'n', 'n', 'n', 'n', 'n',\n",
       "       'n', 'n', 'n', 'n', 'n', 'n', 'n', 'n', 'n', 'o', 'o', 'o', 'o',\n",
       "       'o', 'o', 'o', 'o', 'o', 'o', 'o', 'o', 'o', 'o', 'o', 'o', 'o',\n",
       "       'o', 'o', 'o', 'o', 'o', 'o', 'o', 'o', 'o', 'o', 'o', 'o', 'o',\n",
       "       'o', 'o', 'o', 'o', 'o', 'o', 'o', 'o', 'o', 'o', 'o', 'o', 'o',\n",
       "       'o', 'o', 'o', 'o', 'o', 'o', 'o', 'p', 'p', 'p', 'p', 'p', 'p',\n",
       "       'p', 'p', 'p', 'p', 'p', 'p', 'p', 'p', 'p', 'p', 'p', 'p', 'p',\n",
       "       'p', 'p', 'p', 'p', 'p', 'p', 'q', 'q', 'q', 'q', 'q', 'q', 'q',\n",
       "       'q', 'q', 'q', 'q', 'q', 'q', 'q', 'q', 'q', 'q', 'q', 'q', 'q',\n",
       "       'q', 'q', 'r', 'r', 'r', 'r', 'r', 'r', 'r', 'r', 'r', 'r', 'r',\n",
       "       'r', 'r', 'r', 'r', 'r', 'r', 'r', 'r', 'r', 'r', 'r', 'r', 'r',\n",
       "       'r', 'r', 'r', 'r', 'r', 'r', 'r', 'r', 'r', 'r', 'r', 'r', 'r',\n",
       "       'r', 'r', 'r', 's', 's', 's', 's', 's', 's', 's', 's', 's', 's',\n",
       "       's', 's', 's', 's', 's', 's', 's', 's', 's', 's', 's', 's', 's',\n",
       "       's', 's', 't', 't', 't', 't', 't', 't', 't', 't', 't', 't', 't',\n",
       "       't', 't', 't', 't', 't', 't', 't', 't', 't', 't', 't', 't', 't',\n",
       "       't', 't', 't', 't', 't', 't', 't', 't', 't', 't', 't', 't', 'u',\n",
       "       'u', 'u', 'u', 'u', 'u', 'u', 'u', 'u', 'u', 'u', 'u', 'u', 'u',\n",
       "       'u', 'u', 'u', 'u', 'u', 'u', 'u', 'u', 'u', 'u', 'u', 'u', 'u',\n",
       "       'u', 'u', 'u', 'u', 'u', 'u', 'u', 'u', 'u', 'u', 'u', 'v', 'v',\n",
       "       'v', 'v', 'v', 'v', 'v', 'v', 'v', 'v', 'v', 'v', 'v', 'v', 'v',\n",
       "       'v', 'v', 'v', 'v', 'v', 'v', 'v', 'w', 'w', 'w', 'w', 'w', 'w',\n",
       "       'w', 'w', 'w', 'w', 'w', 'w', 'w', 'w', 'w', 'w', 'w', 'w', 'w',\n",
       "       'w', 'w', 'w', 'x', 'x', 'x', 'x', 'x', 'x', 'x', 'x', 'x', 'x',\n",
       "       'x', 'x', 'x', 'x', 'x', 'x', 'x', 'x', 'x', 'x', 'x', 'x', 'y',\n",
       "       'y', 'y', 'y', 'y', 'y', 'y', 'y', 'y', 'y', 'y', 'y', 'y', 'y',\n",
       "       'y', 'y', 'y', 'y', 'y', 'y', 'y', 'y', 'y', 'y', 'y', 'y', 'y',\n",
       "       'z', 'z', 'z', 'z', 'z', 'z', 'z', 'z', 'z', 'z', 'z', 'z', 'z',\n",
       "       'z', 'z', 'z', 'z', 'z', 'z', 'z', 'z', 'z', 'z'], dtype='<U1')"
      ]
     },
     "execution_count": 36,
     "metadata": {},
     "output_type": "execute_result"
    }
   ],
   "source": [
    "#Sort the array in Ascending order\n",
    "sort_char_array=np.sort(char_array)\n",
    "sort_char_array"
   ]
  },
  {
   "cell_type": "code",
   "execution_count": 37,
   "metadata": {
    "colab": {
     "base_uri": "https://localhost:8080/"
    },
    "id": "Lt6NppMGuwhs",
    "outputId": "f8352c30-c769-44db-8493-fd1436b97344"
   },
   "outputs": [
    {
     "data": {
      "text/plain": [
       "array([ 0,  1,  2,  3,  4,  5,  6,  7,  8,  9, 10, 11, 12, 13, 14, 15, 16,\n",
       "       17, 18, 19, 20, 21, 22, 23, 24, 25])"
      ]
     },
     "execution_count": 37,
     "metadata": {},
     "output_type": "execute_result"
    }
   ],
   "source": [
    "alphabets = ['a', 'b' ,'c' ,'d' ,'e', 'f', 'g', 'h' ,'i', 'j', 'k', 'l', 'm', 'n', 'o',\n",
    " 'p', 'q', 'r' ,'s', 't' ,'u' ,'v' ,'w', 'x' ,'y' ,'z']\n",
    " \n",
    "frequency_array= np.empty(26, dtype=int)\n",
    "frequency_array"
   ]
  },
  {
   "cell_type": "code",
   "execution_count": 38,
   "metadata": {
    "colab": {
     "base_uri": "https://localhost:8080/"
    },
    "id": "3bSKm3ewk9b2",
    "outputId": "aae2151f-6653-4bdf-f48a-78ce1401ebce"
   },
   "outputs": [
    {
     "name": "stdout",
     "output_type": "stream",
     "text": [
      "Unique Values: ['\\n' ' ' ',' 'a' 'b' 'c' 'd' 'e' 'f' 'g' 'h' 'i' 'j' 'k' 'l' 'm' 'n' 'o'\n",
      " 'p' 'q' 'r' 's' 't' 'u' 'v' 'w' 'x' 'y' 'z']\n",
      "Frequency Values: [ 21 156   8  44  24  23  30  63  22  23  25  56  23  22  26  22  28  50\n",
      "  25  22  40  25  36  38  22  22  22  27  23]\n"
     ]
    }
   ],
   "source": [
    "unique, frequency = np.unique(sort_char_array, \n",
    "                              return_counts = True) \n",
    "# print unique values array\n",
    "print(\"Unique Values:\", \n",
    "      unique)\n",
    "\n",
    "# print frequency array\n",
    "print(\"Frequency Values:\",\n",
    "      frequency)"
   ]
  },
  {
   "cell_type": "code",
   "execution_count": 39,
   "metadata": {
    "colab": {
     "base_uri": "https://localhost:8080/"
    },
    "id": "n73cOkUMchD-",
    "outputId": "a62e8d79-82b6-430c-9455-b5eb22ff802f"
   },
   "outputs": [
    {
     "data": {
      "text/plain": [
       "{'\\n': 21,\n",
       " ' ': 156,\n",
       " ',': 8,\n",
       " 'a': 44,\n",
       " 'b': 24,\n",
       " 'c': 23,\n",
       " 'd': 30,\n",
       " 'e': 63,\n",
       " 'f': 22,\n",
       " 'g': 23,\n",
       " 'h': 25,\n",
       " 'i': 56,\n",
       " 'j': 23,\n",
       " 'k': 22,\n",
       " 'l': 26,\n",
       " 'm': 22,\n",
       " 'n': 28,\n",
       " 'o': 50,\n",
       " 'p': 25,\n",
       " 'q': 22,\n",
       " 'r': 40,\n",
       " 's': 25,\n",
       " 't': 36,\n",
       " 'u': 38,\n",
       " 'v': 22,\n",
       " 'w': 22,\n",
       " 'x': 22,\n",
       " 'y': 27,\n",
       " 'z': 23}"
      ]
     },
     "execution_count": 39,
     "metadata": {},
     "output_type": "execute_result"
    }
   ],
   "source": [
    "#Count the frequencies of all elements in dict format\n",
    "dict_output= dict(zip(unique,frequency))\n",
    "dict_output"
   ]
  },
  {
   "cell_type": "code",
   "execution_count": 40,
   "metadata": {
    "colab": {
     "base_uri": "https://localhost:8080/"
    },
    "id": "IrkdiLWRvTkX",
    "outputId": "036357d4-475d-4f6d-bdd7-d7a29c7933fc"
   },
   "outputs": [
    {
     "name": "stdout",
     "output_type": "stream",
     "text": [
      "{'a': 21, 'b': 156, 'c': 8, 'd': 44, 'e': 24, 'f': 23, 'g': 30, 'h': 63, 'i': 22, 'j': 23, 'k': 25, 'l': 56, 'm': 23, 'n': 22, 'o': 26, 'p': 22, 'q': 28, 'r': 50, 's': 25, 't': 22, 'u': 40, 'v': 25, 'w': 36, 'x': 38, 'y': 22, 'z': 22}\n",
      "[44 24 23 30 63 22 23 25 56 23 22 26 22 28 50 25 22 40 25 36 38 22 22 22\n",
      " 27 23]\n"
     ]
    }
   ],
   "source": [
    "#Count the frequencies of allonly alphabets in dict format\n",
    "alphabets = ['a', 'b' ,'c' ,'d' ,'e', 'f', 'g', 'h' ,'i', 'j', 'k', 'l', 'm', 'n', 'o',\n",
    " 'p', 'q', 'r' ,'s', 't' ,'u' ,'v' ,'w', 'x' ,'y' ,'z']\n",
    "frequency\n",
    "for i in range(0, len(alphabets)):\n",
    "  if alphabets[i] in dict_output.keys(): \n",
    "    frequency_array[i] = np.array(dict_output[alphabets[i]]) \n",
    "  else : 0\n",
    "dict_final= dict(zip(alphabets,frequency))\n",
    "print(dict_final)\n",
    "print(frequency_array)"
   ]
  },
  {
   "cell_type": "code",
   "execution_count": 41,
   "metadata": {
    "colab": {
     "base_uri": "https://localhost:8080/",
     "height": 312
    },
    "id": "mkLmEsmvchD-",
    "outputId": "d226448d-409b-40fb-edb9-f739bfa6f626"
   },
   "outputs": [
    {
     "data": {
      "text/plain": [
       "Text(0, 0.5, 'Frequency')"
      ]
     },
     "execution_count": 41,
     "metadata": {},
     "output_type": "execute_result"
    },
    {
     "data": {
      "image/png": "[encoded data removed]",
      "text/plain": [
       "<Figure size 432x288 with 1 Axes>"
      ]
     },
     "metadata": {
      "needs_background": "light"
     },
     "output_type": "display_data"
    }
   ],
   "source": [
    "#Create unnormalized Histogram\n",
    "#hist= np.histogram(char_array)\n",
    "mylist = [key for key, val in dict_final.items() for _ in range(val)]\n",
    "plt.hist(mylist, bins=len(dict_final))\n",
    "plt.title('Unnormalized Histogram')\n",
    "plt. xlabel('Alphabets')\n",
    "plt. ylabel('Frequency')"
   ]
  },
  {
   "cell_type": "code",
   "execution_count": 42,
   "metadata": {
    "colab": {
     "base_uri": "https://localhost:8080/",
     "height": 312
    },
    "id": "sYgZ67X5chD_",
    "outputId": "0ab511f4-9b92-4f86-b980-d22aa10107ec"
   },
   "outputs": [
    {
     "data": {
      "text/plain": [
       "Text(0, 0.5, 'Frequency')"
      ]
     },
     "execution_count": 42,
     "metadata": {},
     "output_type": "execute_result"
    },
    {
     "data": {
      "image/png": "[encoded data removed]",
      "text/plain": [
       "<Figure size 432x288 with 1 Axes>"
      ]
     },
     "metadata": {
      "needs_background": "light"
     },
     "output_type": "display_data"
    }
   ],
   "source": [
    "#Create normalized Histogram\n",
    "plt.hist(mylist, bins=len(dict_final),density = True)\n",
    "plt.title('Normalized Histogram')\n",
    "plt. xlabel('Alphabets')\n",
    "plt. ylabel('Frequency')"
   ]
  },
  {
   "cell_type": "markdown",
   "metadata": {
    "id": "PcvPLl12chEB"
   },
   "source": [
    "### Problem 2: Image data using OpenCV"
   ]
  },
  {
   "cell_type": "code",
   "execution_count": 43,
   "metadata": {
    "id": "hlHOtL4ychEB"
   },
   "outputs": [],
   "source": [
    "#read the image using OpenCV\n",
    "import cv2   \n",
    "img = cv2.imread('D:/SEM3/CS 5783 ML/Assignment 0/test_image.png')"
   ]
  },
  {
   "cell_type": "code",
   "execution_count": 44,
   "metadata": {
    "colab": {
     "base_uri": "https://localhost:8080/"
    },
    "id": "dXKDrHcwchEC",
    "outputId": "9c0d4963-5c2f-4366-a500-7867eb949496"
   },
   "outputs": [
    {
     "data": {
      "text/plain": [
       "array([[[103, 180, 219],\n",
       "        [116, 185, 230],\n",
       "        [110, 186, 226],\n",
       "        ...,\n",
       "        [ 13,  15,  14],\n",
       "        [ 12,  15,  13],\n",
       "        [ 12,  14,  12]],\n",
       "\n",
       "       [[119, 193, 230],\n",
       "        [120, 192, 224],\n",
       "        [124, 192, 226],\n",
       "        ...,\n",
       "        [ 13,  16,  16],\n",
       "        [ 10,  15,  14],\n",
       "        [  9,  14,  11]],\n",
       "\n",
       "       [[123, 191, 228],\n",
       "        [121, 191, 228],\n",
       "        [118, 185, 220],\n",
       "        ...,\n",
       "        [ 13,  16,  14],\n",
       "        [ 11,  13,  13],\n",
       "        [ 10,  15,  11]],\n",
       "\n",
       "       ...,\n",
       "\n",
       "       [[ 16,  18,  15],\n",
       "        [ 18,  21,  18],\n",
       "        [ 16,  19,  18],\n",
       "        ...,\n",
       "        [ 45,  45,  81],\n",
       "        [ 35,  43,  70],\n",
       "        [ 43,  51,  72]],\n",
       "\n",
       "       [[ 17,  17,  16],\n",
       "        [ 19,  18,  17],\n",
       "        [ 20,  19,  20],\n",
       "        ...,\n",
       "        [ 40,  38,  80],\n",
       "        [ 40,  39,  68],\n",
       "        [ 42,  43,  59]],\n",
       "\n",
       "       [[ 19,  19,  15],\n",
       "        [ 18,  20,  20],\n",
       "        [ 17,  19,  18],\n",
       "        ...,\n",
       "        [ 39,  43,  65],\n",
       "        [ 38,  37,  58],\n",
       "        [ 34,  39,  52]]], dtype=uint8)"
      ]
     },
     "execution_count": 44,
     "metadata": {},
     "output_type": "execute_result"
    }
   ],
   "source": [
    "#img as array\n",
    "img"
   ]
  },
  {
   "cell_type": "code",
   "execution_count": 45,
   "metadata": {
    "colab": {
     "base_uri": "https://localhost:8080/"
    },
    "id": "KOs3_89V6EV4",
    "outputId": "af43fd9b-b342-45dd-ab3c-e7bb5b7464a7"
   },
   "outputs": [
    {
     "data": {
      "text/plain": [
       "array([110, 186, 226], dtype=uint8)"
      ]
     },
     "execution_count": 45,
     "metadata": {},
     "output_type": "execute_result"
    }
   ],
   "source": [
    "img[0][2] "
   ]
  },
  {
   "cell_type": "code",
   "execution_count": 46,
   "metadata": {
    "colab": {
     "base_uri": "https://localhost:8080/"
    },
    "id": "7dy9jSrt6fpC",
    "outputId": "d21de023-a4e4-4067-d0ff-56079a9bdd78"
   },
   "outputs": [
    {
     "data": {
      "text/plain": [
       "[0, 0, 255]"
      ]
     },
     "execution_count": 46,
     "metadata": {},
     "output_type": "execute_result"
    }
   ],
   "source": [
    "pt = [[255,0,0],[0,255,0],[0,0,255]]\n",
    "\n",
    "pt[0]\n",
    "pt[1]\n",
    "pt[2]\n"
   ]
  },
  {
   "cell_type": "code",
   "execution_count": 47,
   "metadata": {
    "id": "4szHZhA_7Vpm"
   },
   "outputs": [],
   "source": [
    "mod_img = np.zeros([128,128,3],dtype=int)\n",
    "dist = np.zeros(3)"
   ]
  },
  {
   "cell_type": "code",
   "execution_count": 48,
   "metadata": {
    "colab": {
     "base_uri": "https://localhost:8080/"
    },
    "id": "SyLTtstJG4mc",
    "outputId": "22ee67d5-ce34-496f-b2a7-bbf8086fb3de"
   },
   "outputs": [
    {
     "data": {
      "text/plain": [
       "array([0., 0., 0.])"
      ]
     },
     "execution_count": 48,
     "metadata": {},
     "output_type": "execute_result"
    }
   ],
   "source": [
    "dist"
   ]
  },
  {
   "cell_type": "code",
   "execution_count": 49,
   "metadata": {
    "colab": {
     "base_uri": "https://localhost:8080/"
    },
    "id": "5-AWkTqcFKjU",
    "outputId": "5dec2c59-7d14-4105-a25d-ce79bfeef4ad"
   },
   "outputs": [
    {
     "data": {
      "text/plain": [
       "array([[[0, 0, 0],\n",
       "        [0, 0, 0],\n",
       "        [0, 0, 0],\n",
       "        ...,\n",
       "        [0, 0, 0],\n",
       "        [0, 0, 0],\n",
       "        [0, 0, 0]],\n",
       "\n",
       "       [[0, 0, 0],\n",
       "        [0, 0, 0],\n",
       "        [0, 0, 0],\n",
       "        ...,\n",
       "        [0, 0, 0],\n",
       "        [0, 0, 0],\n",
       "        [0, 0, 0]],\n",
       "\n",
       "       [[0, 0, 0],\n",
       "        [0, 0, 0],\n",
       "        [0, 0, 0],\n",
       "        ...,\n",
       "        [0, 0, 0],\n",
       "        [0, 0, 0],\n",
       "        [0, 0, 0]],\n",
       "\n",
       "       ...,\n",
       "\n",
       "       [[0, 0, 0],\n",
       "        [0, 0, 0],\n",
       "        [0, 0, 0],\n",
       "        ...,\n",
       "        [0, 0, 0],\n",
       "        [0, 0, 0],\n",
       "        [0, 0, 0]],\n",
       "\n",
       "       [[0, 0, 0],\n",
       "        [0, 0, 0],\n",
       "        [0, 0, 0],\n",
       "        ...,\n",
       "        [0, 0, 0],\n",
       "        [0, 0, 0],\n",
       "        [0, 0, 0]],\n",
       "\n",
       "       [[0, 0, 0],\n",
       "        [0, 0, 0],\n",
       "        [0, 0, 0],\n",
       "        ...,\n",
       "        [0, 0, 0],\n",
       "        [0, 0, 0],\n",
       "        [0, 0, 0]]])"
      ]
     },
     "execution_count": 49,
     "metadata": {},
     "output_type": "execute_result"
    }
   ],
   "source": [
    "mod_img"
   ]
  },
  {
   "cell_type": "code",
   "execution_count": 50,
   "metadata": {
    "colab": {
     "base_uri": "https://localhost:8080/"
    },
    "id": "2eTX5acA78jU",
    "outputId": "5e979cb6-9174-4684-9802-bb0c405fff64"
   },
   "outputs": [
    {
     "data": {
      "text/plain": [
       "numpy.ndarray"
      ]
     },
     "execution_count": 50,
     "metadata": {},
     "output_type": "execute_result"
    }
   ],
   "source": [
    "img.dtype\n",
    "type(img)"
   ]
  },
  {
   "cell_type": "code",
   "execution_count": 51,
   "metadata": {
    "colab": {
     "base_uri": "https://localhost:8080/"
    },
    "id": "I4ut_uHh6hk7",
    "outputId": "b55c5543-cae9-4df2-8427-41ef78bc30c8"
   },
   "outputs": [
    {
     "data": {
      "text/plain": [
       "array([[[103, 180, 219],\n",
       "        [116, 185, 230],\n",
       "        [110, 186, 226],\n",
       "        ...,\n",
       "        [ 13,  15,  14],\n",
       "        [ 12,  15,  13],\n",
       "        [ 12,  14,  12]],\n",
       "\n",
       "       [[119, 193, 230],\n",
       "        [120, 192, 224],\n",
       "        [124, 192, 226],\n",
       "        ...,\n",
       "        [ 13,  16,  16],\n",
       "        [ 10,  15,  14],\n",
       "        [  9,  14,  11]],\n",
       "\n",
       "       [[123, 191, 228],\n",
       "        [121, 191, 228],\n",
       "        [118, 185, 220],\n",
       "        ...,\n",
       "        [ 13,  16,  14],\n",
       "        [ 11,  13,  13],\n",
       "        [ 10,  15,  11]],\n",
       "\n",
       "       ...,\n",
       "\n",
       "       [[ 16,  18,  15],\n",
       "        [ 18,  21,  18],\n",
       "        [ 16,  19,  18],\n",
       "        ...,\n",
       "        [ 45,  45,  81],\n",
       "        [ 35,  43,  70],\n",
       "        [ 43,  51,  72]],\n",
       "\n",
       "       [[ 17,  17,  16],\n",
       "        [ 19,  18,  17],\n",
       "        [ 20,  19,  20],\n",
       "        ...,\n",
       "        [ 40,  38,  80],\n",
       "        [ 40,  39,  68],\n",
       "        [ 42,  43,  59]],\n",
       "\n",
       "       [[ 19,  19,  15],\n",
       "        [ 18,  20,  20],\n",
       "        [ 17,  19,  18],\n",
       "        ...,\n",
       "        [ 39,  43,  65],\n",
       "        [ 38,  37,  58],\n",
       "        [ 34,  39,  52]]], dtype=uint8)"
      ]
     },
     "execution_count": 51,
     "metadata": {},
     "output_type": "execute_result"
    }
   ],
   "source": [
    "img\n"
   ]
  },
  {
   "cell_type": "code",
   "execution_count": 52,
   "metadata": {
    "colab": {
     "base_uri": "https://localhost:8080/"
    },
    "id": "Y9mZwxvechEC",
    "outputId": "8e572ba7-e599-41d7-9404-88fd38d64682"
   },
   "outputs": [
    {
     "data": {
      "text/plain": [
       "(128, 128, 3)"
      ]
     },
     "execution_count": 52,
     "metadata": {},
     "output_type": "execute_result"
    }
   ],
   "source": [
    "img.shape\n"
   ]
  },
  {
   "cell_type": "code",
   "execution_count": 53,
   "metadata": {
    "colab": {
     "base_uri": "https://localhost:8080/"
    },
    "id": "-XOZBxyAGJMZ",
    "outputId": "54cec43d-83fd-49e5-8877-6555a1b92a60"
   },
   "outputs": [
    {
     "data": {
      "text/plain": [
       "0"
      ]
     },
     "execution_count": 53,
     "metadata": {},
     "output_type": "execute_result"
    }
   ],
   "source": [
    "mod_img[1][2][2]"
   ]
  },
  {
   "cell_type": "code",
   "execution_count": 54,
   "metadata": {
    "colab": {
     "base_uri": "https://localhost:8080/"
    },
    "id": "eSRJUl9achEC",
    "outputId": "0421ebf5-a885-4199-f7f5-dc7e6b4a82d7"
   },
   "outputs": [
    {
     "name": "stdout",
     "output_type": "stream",
     "text": [
      "[[[  1   1   0]\n",
      "  [  1   1   0]\n",
      "  [  2   2   0]\n",
      "  ...\n",
      "  [125 125   0]\n",
      "  [126 126   0]\n",
      "  [  0   0   0]]\n",
      "\n",
      " [[  1   1   0]\n",
      "  [  1   1   0]\n",
      "  [  2   2   0]\n",
      "  ...\n",
      "  [125 125   0]\n",
      "  [126 126   0]\n",
      "  [  0   0   0]]\n",
      "\n",
      " [[  2   2   0]\n",
      "  [  2   2   0]\n",
      "  [  2   3   0]\n",
      "  ...\n",
      "  [125 125   0]\n",
      "  [126 126   0]\n",
      "  [  0   0   0]]\n",
      "\n",
      " ...\n",
      "\n",
      " [[125 125   0]\n",
      "  [125 125   0]\n",
      "  [125 125   0]\n",
      "  ...\n",
      "  [176 176   0]\n",
      "  [177 177   0]\n",
      "  [  0   0   0]]\n",
      "\n",
      " [[126 126   0]\n",
      "  [126 126   0]\n",
      "  [126 126   0]\n",
      "  ...\n",
      "  [177 177   0]\n",
      "  [178 178   0]\n",
      "  [  0   0   0]]\n",
      "\n",
      " [[  0   0   0]\n",
      "  [  0   0   0]\n",
      "  [  0   0   0]\n",
      "  ...\n",
      "  [  0   0   0]\n",
      "  [  0   0   0]\n",
      "  [  0   0   0]]]\n"
     ]
    }
   ],
   "source": [
    "for i in range(0,127):\n",
    "  for j in range(0,127):\n",
    "    for k in range (0,2):\n",
    "      pixel_coords = np.array((i,j,k))\n",
    "      \n",
    "      for pts in range (0,2):\n",
    "        dist[pts] = np.sqrt(np.sum(np.square((pts-pixel_coords))))\n",
    "      \n",
    "      mod_img[i][j][k] = dist.max()\n",
    "      \n",
    "print(mod_img)\n",
    "\n",
    "\n",
    "\n"
   ]
  },
  {
   "cell_type": "code",
   "execution_count": 55,
   "metadata": {
    "colab": {
     "base_uri": "https://localhost:8080/"
    },
    "id": "woHrdg9uHkm7",
    "outputId": "d49da1d1-3232-4004-9ef8-fe93163ec6b1"
   },
   "outputs": [
    {
     "data": {
      "text/plain": [
       "True"
      ]
     },
     "execution_count": 55,
     "metadata": {},
     "output_type": "execute_result"
    }
   ],
   "source": [
    "cv2.imwrite('D:/SEM3/CS 5783 ML/Assignment 0/Output1.png', mod_img)"
   ]
  },
  {
   "cell_type": "code",
   "execution_count": 56,
   "metadata": {},
   "outputs": [
    {
     "data": {
      "image/png": "[encoded data removed]",
      "text/plain": [
       "<IPython.core.display.Image object>"
      ]
     },
     "execution_count": 56,
     "metadata": {},
     "output_type": "execute_result"
    }
   ],
   "source": [
    "from IPython import display\n",
    "display.Image(\"D:/SEM3/CS 5783 ML/Assignment 0/Output1.png\")"
   ]
  },
  {
   "cell_type": "code",
   "execution_count": 57,
   "metadata": {
    "colab": {
     "base_uri": "https://localhost:8080/"
    },
    "id": "enMIZrhZGUxz",
    "outputId": "ab712b65-2e1b-4a3e-e455-d3ff74e0b348"
   },
   "outputs": [
    {
     "data": {
      "text/plain": [
       "array([2, 2, 0])"
      ]
     },
     "execution_count": 57,
     "metadata": {},
     "output_type": "execute_result"
    }
   ],
   "source": [
    "mod_img[1][2]"
   ]
  },
  {
   "cell_type": "code",
   "execution_count": 58,
   "metadata": {
    "colab": {
     "base_uri": "https://localhost:8080/"
    },
    "id": "7RwBXraoHjwo",
    "outputId": "a1ac9153-ccc1-4f38-acd1-3f18207f3c31"
   },
   "outputs": [],
   "source": [
    "mod_img[39:89][39:89] = [0,0,0]"
   ]
  },
  {
   "cell_type": "code",
   "execution_count": 59,
   "metadata": {},
   "outputs": [
    {
     "data": {
      "text/plain": [
       "array([[[  1,   1,   0],\n",
       "        [  1,   1,   0],\n",
       "        [  2,   2,   0],\n",
       "        ...,\n",
       "        [125, 125,   0],\n",
       "        [126, 126,   0],\n",
       "        [  0,   0,   0]],\n",
       "\n",
       "       [[  1,   1,   0],\n",
       "        [  1,   1,   0],\n",
       "        [  2,   2,   0],\n",
       "        ...,\n",
       "        [125, 125,   0],\n",
       "        [126, 126,   0],\n",
       "        [  0,   0,   0]],\n",
       "\n",
       "       [[  2,   2,   0],\n",
       "        [  2,   2,   0],\n",
       "        [  2,   3,   0],\n",
       "        ...,\n",
       "        [125, 125,   0],\n",
       "        [126, 126,   0],\n",
       "        [  0,   0,   0]],\n",
       "\n",
       "       ...,\n",
       "\n",
       "       [[125, 125,   0],\n",
       "        [125, 125,   0],\n",
       "        [125, 125,   0],\n",
       "        ...,\n",
       "        [176, 176,   0],\n",
       "        [177, 177,   0],\n",
       "        [  0,   0,   0]],\n",
       "\n",
       "       [[126, 126,   0],\n",
       "        [126, 126,   0],\n",
       "        [126, 126,   0],\n",
       "        ...,\n",
       "        [177, 177,   0],\n",
       "        [178, 178,   0],\n",
       "        [  0,   0,   0]],\n",
       "\n",
       "       [[  0,   0,   0],\n",
       "        [  0,   0,   0],\n",
       "        [  0,   0,   0],\n",
       "        ...,\n",
       "        [  0,   0,   0],\n",
       "        [  0,   0,   0],\n",
       "        [  0,   0,   0]]])"
      ]
     },
     "execution_count": 59,
     "metadata": {},
     "output_type": "execute_result"
    }
   ],
   "source": [
    "mod_img"
   ]
  },
  {
   "cell_type": "code",
   "execution_count": 60,
   "metadata": {
    "colab": {
     "base_uri": "https://localhost:8080/"
    },
    "id": "iiobA-UKKr_v",
    "outputId": "00ae64ec-8811-4265-ca9b-b5bfab91911c"
   },
   "outputs": [
    {
     "data": {
      "text/plain": [
       "True"
      ]
     },
     "execution_count": 60,
     "metadata": {},
     "output_type": "execute_result"
    }
   ],
   "source": [
    "cv2.imwrite('D:/SEM3/CS 5783 ML/Assignment 0/Output2.png', mod_img)"
   ]
  },
  {
   "cell_type": "code",
   "execution_count": 61,
   "metadata": {},
   "outputs": [
    {
     "data": {
      "image/png": "[encoded data removed]",
      "text/plain": [
       "<IPython.core.display.Image object>"
      ]
     },
     "execution_count": 61,
     "metadata": {},
     "output_type": "execute_result"
    }
   ],
   "source": [
    "from IPython import display\n",
    "display.Image(\"D:/SEM3/CS 5783 ML/Assignment 0/Output2.png\")"
   ]
  },
  {
   "cell_type": "markdown",
   "metadata": {
    "id": "E2TC8NM9chEC"
   },
   "source": [
    "### Problem 3:Solve the system of equations\n",
    "##### The system of equations to be solved are:\n",
    "3x+3y=11.25, \n",
    "4x+2y=10.00"
   ]
  },
  {
   "cell_type": "code",
   "execution_count": 62,
   "metadata": {
    "id": "ND8tAzl6chED",
    "outputId": "a02eb067-42b3-4f56-fc66-ac64c8cf677e"
   },
   "outputs": [
    {
     "data": {
      "text/plain": [
       "array([1.25, 2.5 ])"
      ]
     },
     "execution_count": 62,
     "metadata": {},
     "output_type": "execute_result"
    }
   ],
   "source": [
    "#define left-hand side of equation\n",
    "left_side = np.array([[3, 3], [4, 2]])\n",
    "\n",
    "#define right-hand side of equation\n",
    "right_side = np.array([11.25, 10])\n",
    "\n",
    "#solve for x(Tacos) and y(Burritos)\n",
    "np.linalg.inv(left_side).dot(right_side)\n"
   ]
  },
  {
   "cell_type": "markdown",
   "metadata": {
    "id": "aFx7qzaHchED"
   },
   "source": [
    "###### So, Soft Tacos cost 1.25 dollars and Burritos cost 2.25 dollars"
   ]
  }
 ],
 "metadata": {
  "colab": {
   "provenance": []
  },
  "kernelspec": {
   "display_name": "Python 3",
   "language": "python",
   "name": "python3"
  },
  "language_info": {
   "codemirror_mode": {
    "name": "ipython",
    "version": 3
   },
   "file_extension": ".py",
   "mimetype": "text/x-python",
   "name": "python",
   "nbconvert_exporter": "python",
   "pygments_lexer": "ipython3",
   "version": "3.7.6"
  }
 },
 "nbformat": 4,
 "nbformat_minor": 1
}
