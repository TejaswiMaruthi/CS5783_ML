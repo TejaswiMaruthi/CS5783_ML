{
 "cells": [
  {
   "cell_type": "code",
   "execution_count": 99,
   "metadata": {
    "id": "2a1a20f2"
   },
   "outputs": [],
   "source": [
    "import pandas as pd\n",
    "import numpy as np\n",
    "import matplotlib.pyplot as plt"
   ]
  },
  {
   "cell_type": "markdown",
   "metadata": {},
   "source": [
    "### Q1"
   ]
  },
  {
   "cell_type": "code",
   "execution_count": 2,
   "metadata": {},
   "outputs": [],
   "source": [
    "#directory\n",
    "import os\n",
    "os.chdir(r'D:\\SEM3\\CS 5783 ML\\Assignment 1_Linear Regression')"
   ]
  },
  {
   "cell_type": "code",
   "execution_count": 3,
   "metadata": {
    "id": "52d99507"
   },
   "outputs": [],
   "source": [
    "#import x train \n",
    "x_train = np.load(\"x_train.npy\")\n",
    "#import y train\n",
    "y_train = np.load(\"y_train.npy\")\n",
    "#import x test \n",
    "x_test = np.load(\"x_test.npy\")\n",
    "#import y test\n",
    "y_test = np.load(\"y_test.npy\")"
   ]
  },
  {
   "cell_type": "code",
   "execution_count": 4,
   "metadata": {
    "colab": {
     "base_uri": "https://localhost:8080/"
    },
    "id": "80664964",
    "outputId": "974f9f68-c926-4cd2-d012-d2e57cca0eb8"
   },
   "outputs": [
    {
     "name": "stdout",
     "output_type": "stream",
     "text": [
      "100\n",
      "100\n",
      "100\n",
      "100\n"
     ]
    }
   ],
   "source": [
    "#length of x_train, y_train\n",
    "print(len(x_train))\n",
    "print(len(y_train))\n",
    "#length of x_test, y_test\n",
    "print(len(x_test))\n",
    "print(len(y_test))"
   ]
  },
  {
   "cell_type": "code",
   "execution_count": 5,
   "metadata": {
    "colab": {
     "base_uri": "https://localhost:8080/",
     "height": 283
    },
    "id": "58eaf8fa",
    "outputId": "d0199313-429d-4059-8de0-1ad772b99952",
    "scrolled": true
   },
   "outputs": [
    {
     "data": {
      "text/plain": [
       "[<matplotlib.lines.Line2D at 0x2dd3d0b57c8>]"
      ]
     },
     "execution_count": 5,
     "metadata": {},
     "output_type": "execute_result"
    },
    {
     "data": {
      "image/png": "[encoded data removed]",
      "text/plain": [
       "<Figure size 432x288 with 1 Axes>"
      ]
     },
     "metadata": {
      "needs_background": "light"
     },
     "output_type": "display_data"
    }
   ],
   "source": [
    "#visualizing train data\n",
    "plt.plot(x_train,y_train, 'bo')"
   ]
  },
  {
   "cell_type": "code",
   "execution_count": 6,
   "metadata": {},
   "outputs": [
    {
     "data": {
      "text/plain": [
       "[<matplotlib.lines.Line2D at 0x2dd3d172588>]"
      ]
     },
     "execution_count": 6,
     "metadata": {},
     "output_type": "execute_result"
    },
    {
     "data": {
      "image/png": "[encoded data removed]",
      "text/plain": [
       "<Figure size 432x288 with 1 Axes>"
      ]
     },
     "metadata": {
      "needs_background": "light"
     },
     "output_type": "display_data"
    }
   ],
   "source": [
    "#visualizing test data\n",
    "plt.plot(x_test,y_test, 'bo')"
   ]
  },
  {
   "cell_type": "markdown",
   "metadata": {},
   "source": [
    "### We can see that the relationship is clearly non linear. We can start with a basic linear regression model and improve upon it using basis function to create equation that models the relationship between x and y "
   ]
  },
  {
   "cell_type": "code",
   "execution_count": 94,
   "metadata": {
    "id": "a1bf73ed"
   },
   "outputs": [],
   "source": [
    "#Basic linear regression model\n",
    "#assumption of values for coefficients, iterations and learning rate\n",
    "# y = mx[i] + c \n",
    "m = 0\n",
    "c = 0\n",
    "epoch = 1000\n",
    "lr = 0.001\n",
    "error = []\n",
    "\n",
    "def gradient_descent(m,c,lr,epoch,x_train, y_train):\n",
    "    n = len(x_train)\n",
    "    cost = 0\n",
    "    derivative_wrt_c = 0\n",
    "    derivative_wrt_m = 0\n",
    "    for iteration in range(epoch):\n",
    "        for i in range(n):\n",
    "            #pred \n",
    "            y_pred = m*x_train[i] + c\n",
    "            #cost calculation\n",
    "            cost = cost + (y_pred - y_train[i])**2\n",
    "            for j in range(len(x_train)):\n",
    "                # partial derivative of m and c for current row\n",
    "                derivative_wrt_c += -2 * (y_train[j] - (m*x_train[j] + c))\n",
    "                derivative_wrt_m += -2 * x_train[j] * (y_train[j] - (c + m*x_train[j]))\n",
    "            c = c - lr * derivative_wrt_c\n",
    "            m = m - lr * np.sum(derivative_wrt_m)  \n",
    "        error.append(cost)\n",
    "    return c,m"
   ]
  },
  {
   "cell_type": "code",
   "execution_count": 95,
   "metadata": {
    "id": "2fcd3724"
   },
   "outputs": [
    {
     "name": "stderr",
     "output_type": "stream",
     "text": [
      "C:\\Users\\tejas\\anaconda3\\lib\\site-packages\\ipykernel_launcher.py:20: RuntimeWarning: overflow encountered in square\n",
      "C:\\Users\\tejas\\anaconda3\\lib\\site-packages\\ipykernel_launcher.py:24: RuntimeWarning: overflow encountered in add\n",
      "C:\\Users\\tejas\\anaconda3\\lib\\site-packages\\ipykernel_launcher.py:24: RuntimeWarning: invalid value encountered in add\n",
      "C:\\Users\\tejas\\anaconda3\\lib\\site-packages\\ipykernel_launcher.py:23: RuntimeWarning: invalid value encountered in multiply\n",
      "C:\\Users\\tejas\\anaconda3\\lib\\site-packages\\ipykernel_launcher.py:24: RuntimeWarning: invalid value encountered in multiply\n"
     ]
    }
   ],
   "source": [
    "c,m= gradient_descent(0,0,0.001,1000,x_train, y_train)"
   ]
  },
  {
   "cell_type": "code",
   "execution_count": 87,
   "metadata": {
    "colab": {
     "base_uri": "https://localhost:8080/"
    },
    "id": "5ef5e181",
    "outputId": "27b9e4b8-eaaf-4a13-8adc-b5927cc11024"
   },
   "outputs": [
    {
     "name": "stdout",
     "output_type": "stream",
     "text": [
      "[nan nan nan nan nan nan nan nan nan nan] nan\n"
     ]
    }
   ],
   "source": [
    "print(c,m)"
   ]
  },
  {
   "cell_type": "code",
   "execution_count": 92,
   "metadata": {
    "id": "e5bf8353"
   },
   "outputs": [],
   "source": [
    "y_pred = m*x_train + c"
   ]
  },
  {
   "cell_type": "code",
   "execution_count": null,
   "metadata": {
    "colab": {
     "base_uri": "https://localhost:8080/",
     "height": 428
    },
    "id": "e9a1291e",
    "outputId": "3beee1e0-eb4d-4b23-a9c6-a0ef363985cb",
    "scrolled": false
   },
   "outputs": [
    {
     "data": {
      "image/png": "[encoded data removed]",
      "text/plain": [
       "<Figure size 864x504 with 1 Axes>"
      ]
     },
     "metadata": {
      "needs_background": "light"
     },
     "output_type": "display_data"
    }
   ],
   "source": [
    "#plotting linear regression against original data\n",
    "plt.figure(figsize = (12,7))\n",
    "plt.scatter(x_train,y_train)\n",
    "plt.plot(x_train, y_pred)\n",
    "plt.show()"
   ]
  },
  {
   "cell_type": "code",
   "execution_count": null,
   "metadata": {
    "id": "LHD8DDqQeM5M"
   },
   "outputs": [],
   "source": [
    "y_pred = y_response.reshape(100,)"
   ]
  },
  {
   "cell_type": "code",
   "execution_count": null,
   "metadata": {
    "colab": {
     "base_uri": "https://localhost:8080/"
    },
    "id": "S9fIeDfaeiA7",
    "outputId": "0e8b57f3-ec7c-45ed-eccb-048525a2635e"
   },
   "outputs": [
    {
     "data": {
      "text/plain": [
       "(100, 1)"
      ]
     },
     "execution_count": 27,
     "metadata": {},
     "output_type": "execute_result"
    }
   ],
   "source": [
    "y_train.reshape(-1,1).shape"
   ]
  },
  {
   "cell_type": "code",
   "execution_count": null,
   "metadata": {
    "colab": {
     "base_uri": "https://localhost:8080/"
    },
    "id": "311112e5",
    "outputId": "8507de2c-46fd-47c4-d386-c3c9941d6d6e"
   },
   "outputs": [
    {
     "data": {
      "text/plain": [
       "array([ 10.67882144,   3.5965753 ,   3.43636029, -11.32948795,\n",
       "        15.38140152,   6.32074829,   8.92703546,   0.73825466,\n",
       "        -8.6435846 ,   4.743021  ,  15.98169468,   5.24000082,\n",
       "       -33.35003719,   0.39065268,  -3.23237386,  22.92481797,\n",
       "        -3.03478484,  46.26986147,   3.67869779,   3.34918042,\n",
       "         5.06695815,   5.5579675 ,  -9.83653333,   6.19804197,\n",
       "       -13.51780073,  15.37237708,  11.30362038,   4.44272255,\n",
       "        12.83673376,  21.47741605,  24.22744055,   8.5260629 ,\n",
       "         6.6654309 ,   5.80393324,   8.87404862,  13.96611813,\n",
       "        10.81704877,   1.66163323,  16.02143911,   3.71739754,\n",
       "        17.99201525,   4.21084846,  -2.81664067,   2.45076971,\n",
       "         2.83676237, -20.97031737,  12.32484642, -38.85339522,\n",
       "        -2.85182074,   5.93272487,   6.08043614,  15.64747824,\n",
       "         7.92728657, -11.86363549,  13.09870608,  12.1653285 ,\n",
       "         3.34272306,  21.22048523,   7.96713124,   5.93607879,\n",
       "        24.05681808,   7.76588673,   7.87769978,  18.99912577,\n",
       "        21.91081978,   5.86507015,  -6.13348076,  23.04417034,\n",
       "         3.85192423,  -3.1892955 ,  31.91419905,   4.90484415,\n",
       "        -0.24091543,   7.57929338, -12.861468  , -13.18602379,\n",
       "         6.17680958,  17.49720599, -13.75213294,   5.12989879,\n",
       "        -4.17098508,  -2.03636453,   3.35479453,   3.39453878,\n",
       "         4.14643455,   5.09285544,   5.15917606,   3.42053035,\n",
       "         8.86465723,  48.98270684, -12.6445619 ,  22.31173873,\n",
       "        13.12493041,   4.20442436,   9.49738623,  11.9471174 ,\n",
       "         5.55217567,   6.0560256 , -21.26165413,  23.28814415])"
      ]
     },
     "execution_count": 25,
     "metadata": {},
     "output_type": "execute_result"
    }
   ],
   "source": [
    "np.subtract(y_train,y_pred)"
   ]
  },
  {
   "cell_type": "code",
   "execution_count": null,
   "metadata": {},
   "outputs": [],
   "source": [
    "MSE = np.square(np.subtract(y_train,y_pred)).mean()"
   ]
  },
  {
   "cell_type": "markdown",
   "metadata": {},
   "source": [
    "#### The MSE turned out to be 233.457"
   ]
  },
  {
   "cell_type": "code",
   "execution_count": null,
   "metadata": {},
   "outputs": [],
   "source": [
    "#polynomial feature x^3\n",
    "x_train_poly3 = x_train**3"
   ]
  },
  {
   "cell_type": "code",
   "execution_count": null,
   "metadata": {},
   "outputs": [],
   "source": [
    "c,m= gradient_descent(0,0,0.0001,1500,x_train_poly3,y_train)"
   ]
  },
  {
   "cell_type": "code",
   "execution_count": null,
   "metadata": {
    "colab": {
     "base_uri": "https://localhost:8080/"
    },
    "id": "ec109b25",
    "outputId": "758ff519-3f3b-4588-eb4f-c641f8d3c833"
   },
   "outputs": [
    {
     "name": "stdout",
     "output_type": "stream",
     "text": [
      "[0.97408208] 0.27738577347506876\n"
     ]
    }
   ],
   "source": [
    "print(c, m)"
   ]
  },
  {
   "cell_type": "code",
   "execution_count": null,
   "metadata": {
    "id": "1095fb7f"
   },
   "outputs": [],
   "source": [
    "y_pred3 = m*x_train_poly3 + c"
   ]
  },
  {
   "cell_type": "code",
   "execution_count": null,
   "metadata": {
    "colab": {
     "base_uri": "https://localhost:8080/"
    },
    "id": "00c855ba",
    "outputId": "0567116d-86cb-4426-a52d-f67c218bcb36"
   },
   "outputs": [
    {
     "name": "stdout",
     "output_type": "stream",
     "text": [
      "[120.03030943]\n"
     ]
    }
   ],
   "source": [
    "print(give_mse(y_train,y_pred3))"
   ]
  },
  {
   "cell_type": "code",
   "execution_count": null,
   "metadata": {},
   "outputs": [],
   "source": [
    "#polynomial feature x^4\n",
    "x_train_poly4 = x_train**4"
   ]
  },
  {
   "cell_type": "code",
   "execution_count": null,
   "metadata": {
    "colab": {
     "base_uri": "https://localhost:8080/"
    },
    "id": "363ae8f8",
    "outputId": "91674458-e69e-49e1-d655-d92b4f6634fa"
   },
   "outputs": [
    {
     "name": "stderr",
     "output_type": "stream",
     "text": [
      "/usr/local/lib/python3.7/dist-packages/ipykernel_launcher.py:23: RuntimeWarning: overflow encountered in square\n",
      "/usr/local/lib/python3.7/dist-packages/ipykernel_launcher.py:27: RuntimeWarning: overflow encountered in add\n",
      "/usr/local/lib/python3.7/dist-packages/ipykernel_launcher.py:27: RuntimeWarning: invalid value encountered in add\n"
     ]
    }
   ],
   "source": [
    "c,m= gradient_descent(0,0,0.0001,1500,x_train_poly4,y_train)"
   ]
  },
  {
   "cell_type": "code",
   "execution_count": null,
   "metadata": {
    "id": "lu83VqzFoNo5"
   },
   "outputs": [],
   "source": [
    "print(c, m)"
   ]
  },
  {
   "cell_type": "code",
   "execution_count": null,
   "metadata": {
    "id": "X2skRiXSoWGo"
   },
   "outputs": [],
   "source": [
    "y_pred4 = m*x_train_poly4 + c"
   ]
  },
  {
   "cell_type": "code",
   "execution_count": null,
   "metadata": {
    "id": "dgw440YnoYbP"
   },
   "outputs": [],
   "source": [
    "#plotting linear regression against original data\n",
    "plt.figure(figsize =(12,7))\n",
    "plt.scatter(x_train,y_train)\n",
    "plt.plot(x_train, y_pred4, 'g')\n",
    "plt.plot(x_train, y_pred3)\n",
    "plt.show()"
   ]
  },
  {
   "cell_type": "markdown",
   "metadata": {
    "id": "QO7UcRF6oY5f"
   },
   "source": [
    "## Q2"
   ]
  },
  {
   "cell_type": "code",
   "execution_count": 9,
   "metadata": {},
   "outputs": [
    {
     "data": {
      "text/html": [
       "<div>\n",
       "<style scoped>\n",
       "    .dataframe tbody tr th:only-of-type {\n",
       "        vertical-align: middle;\n",
       "    }\n",
       "\n",
       "    .dataframe tbody tr th {\n",
       "        vertical-align: top;\n",
       "    }\n",
       "\n",
       "    .dataframe thead th {\n",
       "        text-align: right;\n",
       "    }\n",
       "</style>\n",
       "<table border=\"1\" class=\"dataframe\">\n",
       "  <thead>\n",
       "    <tr style=\"text-align: right;\">\n",
       "      <th></th>\n",
       "      <th>House ID</th>\n",
       "      <th>Local Price</th>\n",
       "      <th>Bathrooms</th>\n",
       "      <th>Land Area</th>\n",
       "      <th>Living area</th>\n",
       "      <th># Garages</th>\n",
       "      <th># Rooms</th>\n",
       "      <th># Bedrooms</th>\n",
       "      <th>Age of home</th>\n",
       "      <th>Construction type</th>\n",
       "      <th>Architecture type</th>\n",
       "      <th># Fire places</th>\n",
       "      <th>Price (1000$)</th>\n",
       "    </tr>\n",
       "  </thead>\n",
       "  <tbody>\n",
       "    <tr>\n",
       "      <th>0</th>\n",
       "      <td>1</td>\n",
       "      <td>4.9176</td>\n",
       "      <td>1.0</td>\n",
       "      <td>3.472</td>\n",
       "      <td>0.998</td>\n",
       "      <td>1.0</td>\n",
       "      <td>7</td>\n",
       "      <td>4</td>\n",
       "      <td>42</td>\n",
       "      <td>3</td>\n",
       "      <td>1</td>\n",
       "      <td>0</td>\n",
       "      <td>25.9</td>\n",
       "    </tr>\n",
       "    <tr>\n",
       "      <th>1</th>\n",
       "      <td>2</td>\n",
       "      <td>5.0208</td>\n",
       "      <td>1.0</td>\n",
       "      <td>3.531</td>\n",
       "      <td>1.500</td>\n",
       "      <td>2.0</td>\n",
       "      <td>7</td>\n",
       "      <td>4</td>\n",
       "      <td>62</td>\n",
       "      <td>1</td>\n",
       "      <td>1</td>\n",
       "      <td>0</td>\n",
       "      <td>29.5</td>\n",
       "    </tr>\n",
       "    <tr>\n",
       "      <th>2</th>\n",
       "      <td>3</td>\n",
       "      <td>4.5429</td>\n",
       "      <td>1.0</td>\n",
       "      <td>2.275</td>\n",
       "      <td>1.175</td>\n",
       "      <td>1.0</td>\n",
       "      <td>6</td>\n",
       "      <td>3</td>\n",
       "      <td>40</td>\n",
       "      <td>2</td>\n",
       "      <td>1</td>\n",
       "      <td>0</td>\n",
       "      <td>27.9</td>\n",
       "    </tr>\n",
       "    <tr>\n",
       "      <th>3</th>\n",
       "      <td>4</td>\n",
       "      <td>4.5573</td>\n",
       "      <td>1.0</td>\n",
       "      <td>4.050</td>\n",
       "      <td>1.232</td>\n",
       "      <td>1.0</td>\n",
       "      <td>6</td>\n",
       "      <td>3</td>\n",
       "      <td>54</td>\n",
       "      <td>4</td>\n",
       "      <td>1</td>\n",
       "      <td>0</td>\n",
       "      <td>25.9</td>\n",
       "    </tr>\n",
       "    <tr>\n",
       "      <th>4</th>\n",
       "      <td>5</td>\n",
       "      <td>5.0597</td>\n",
       "      <td>1.0</td>\n",
       "      <td>4.455</td>\n",
       "      <td>1.121</td>\n",
       "      <td>1.0</td>\n",
       "      <td>6</td>\n",
       "      <td>3</td>\n",
       "      <td>42</td>\n",
       "      <td>3</td>\n",
       "      <td>1</td>\n",
       "      <td>0</td>\n",
       "      <td>29.9</td>\n",
       "    </tr>\n",
       "  </tbody>\n",
       "</table>\n",
       "</div>"
      ],
      "text/plain": [
       "   House ID  Local Price  Bathrooms  Land Area  Living area  # Garages  \\\n",
       "0         1       4.9176        1.0      3.472        0.998        1.0   \n",
       "1         2       5.0208        1.0      3.531        1.500        2.0   \n",
       "2         3       4.5429        1.0      2.275        1.175        1.0   \n",
       "3         4       4.5573        1.0      4.050        1.232        1.0   \n",
       "4         5       5.0597        1.0      4.455        1.121        1.0   \n",
       "\n",
       "   # Rooms  # Bedrooms  Age of home  Construction type  Architecture type  \\\n",
       "0        7           4           42                  3                  1   \n",
       "1        7           4           62                  1                  1   \n",
       "2        6           3           40                  2                  1   \n",
       "3        6           3           54                  4                  1   \n",
       "4        6           3           42                  3                  1   \n",
       "\n",
       "   # Fire places  Price (1000$)  \n",
       "0              0           25.9  \n",
       "1              0           29.5  \n",
       "2              0           27.9  \n",
       "3              0           25.9  \n",
       "4              0           29.9  "
      ]
     },
     "execution_count": 9,
     "metadata": {},
     "output_type": "execute_result"
    }
   ],
   "source": [
    "#Import data\n",
    "h_data = pd.read_csv(r\"D:\\SEM3\\CS 5783 ML\\Assignment 1_Linear Regression\\Assignment1_Q2_Data.csv\")\n",
    "h_data.head()"
   ]
  },
  {
   "cell_type": "code",
   "execution_count": 10,
   "metadata": {},
   "outputs": [
    {
     "data": {
      "text/plain": [
       "(28, 13)"
      ]
     },
     "execution_count": 10,
     "metadata": {},
     "output_type": "execute_result"
    }
   ],
   "source": [
    "h_data.shape"
   ]
  },
  {
   "cell_type": "code",
   "execution_count": 12,
   "metadata": {},
   "outputs": [
    {
     "name": "stdout",
     "output_type": "stream",
     "text": [
      "20\n",
      "8\n"
     ]
    }
   ],
   "source": [
    "#70:30 train test split\n",
    "train_data=h_data.sample(frac=0.7, random_state=12345)\n",
    "test_data=h_data.drop(train_data.index)\n",
    "\n",
    "print(len(train_data))\n",
    "print(len(test_data))"
   ]
  },
  {
   "cell_type": "code",
   "execution_count": 13,
   "metadata": {},
   "outputs": [],
   "source": [
    "#creating x_train, y_train\n",
    "x_train=train_data.iloc[:,1:12].values\n",
    "y_train=train_data.iloc[:,12].values"
   ]
  },
  {
   "cell_type": "code",
   "execution_count": 26,
   "metadata": {},
   "outputs": [
    {
     "name": "stdout",
     "output_type": "stream",
     "text": [
      "(20, 12)\n"
     ]
    }
   ],
   "source": [
    "bias=np.ones((20,1))\n",
    "\n",
    "x_train_bias = np.c_[bias,x_train]\n",
    "print(x_train_bias.shape)"
   ]
  },
  {
   "cell_type": "code",
   "execution_count": 28,
   "metadata": {},
   "outputs": [
    {
     "name": "stdout",
     "output_type": "stream",
     "text": [
      "[13.64445191  2.96302702 -0.22724832 -0.09635988 10.87058122  2.04915075\n",
      " -1.70999684 -0.16870645 -0.17845892  1.08006051 -0.41473382  4.2851517 ]\n"
     ]
    }
   ],
   "source": [
    "weights = np.linalg.inv(x_train_bias.T.dot(x_train_bias)).dot(x_train_bias.T).dot(y_train)\n",
    "print(weights)"
   ]
  },
  {
   "cell_type": "code",
   "execution_count": 30,
   "metadata": {},
   "outputs": [],
   "source": [
    "#prediction\n",
    "y_pred =np.matmul(x_train_bias,weights)"
   ]
  },
  {
   "cell_type": "code",
   "execution_count": null,
   "metadata": {},
   "outputs": [],
   "source": [
    "x=np.arange(0,20,1)\n",
    "\n",
    "plt.plot(x_org,y_train,label='input')\n",
    "plt.plot(x_org,y_predicted,label='prediction')\n",
    "plt.xlabel('Rows')\n",
    "plt.ylabel('Price')\n",
    "plt.title('Model output for house price')\n",
    "plt.show()\n",
    "least_error=(((y_predicted-y_train)**2).sum())/20\n",
    "print(\"Least square error \"+str(least_error))"
   ]
  },
  {
   "cell_type": "code",
   "execution_count": 35,
   "metadata": {},
   "outputs": [
    {
     "data": {
      "text/plain": [
       "Text(0, 0.5, 'Price')"
      ]
     },
     "execution_count": 35,
     "metadata": {},
     "output_type": "execute_result"
    },
    {
     "data": {
      "image/png": "[encoded data removed]",
      "text/plain": [
       "<Figure size 432x288 with 1 Axes>"
      ]
     },
     "metadata": {
      "needs_background": "light"
     },
     "output_type": "display_data"
    }
   ],
   "source": [
    "x=np.arange(0,20,1)\n",
    "plt.plot(x,y_train,label='input')\n",
    "plt.xlabel('Rows')\n",
    "plt.ylabel('Price')"
   ]
  },
  {
   "cell_type": "code",
   "execution_count": 36,
   "metadata": {},
   "outputs": [
    {
     "data": {
      "text/plain": [
       "Text(0, 0.5, 'Price')"
      ]
     },
     "execution_count": 36,
     "metadata": {},
     "output_type": "execute_result"
    },
    {
     "data": {
      "image/png": "[encoded data removed]",
      "text/plain": [
       "<Figure size 432x288 with 1 Axes>"
      ]
     },
     "metadata": {
      "needs_background": "light"
     },
     "output_type": "display_data"
    }
   ],
   "source": [
    "plt.plot(x,y_pred,label='prediction')\n",
    "plt.xlabel('Rows')\n",
    "plt.ylabel('Price')"
   ]
  },
  {
   "cell_type": "code",
   "execution_count": 38,
   "metadata": {},
   "outputs": [
    {
     "data": {
      "image/png": "[encoded data removed]",
      "text/plain": [
       "<Figure size 432x288 with 1 Axes>"
      ]
     },
     "metadata": {
      "needs_background": "light"
     },
     "output_type": "display_data"
    }
   ],
   "source": [
    "plt.plot(x,y_train,label='input')\n",
    "plt.plot(x,y_pred,label='prediction')\n",
    "plt.xlabel('Rows')\n",
    "plt.ylabel('Price')\n",
    "plt.title('Output')\n",
    "plt.show()"
   ]
  },
  {
   "cell_type": "code",
   "execution_count": 42,
   "metadata": {},
   "outputs": [
    {
     "data": {
      "text/plain": [
       "3.9826793613183624"
      ]
     },
     "execution_count": 42,
     "metadata": {},
     "output_type": "execute_result"
    }
   ],
   "source": [
    "lse=(((y_pred-y_train)**2).sum())/20\n",
    "lse"
   ]
  },
  {
   "cell_type": "markdown",
   "metadata": {},
   "source": [
    "#### Least square error for the linear regression model to predict housing price is 3.98"
   ]
  },
  {
   "cell_type": "code",
   "execution_count": 43,
   "metadata": {},
   "outputs": [],
   "source": [
    "#checking on how well it works on test data\n",
    "#creating x_test, y_test\n",
    "x_test=test_data.iloc[:,1:12].values\n",
    "y_test=test_data.iloc[:,12].values"
   ]
  },
  {
   "cell_type": "code",
   "execution_count": 44,
   "metadata": {},
   "outputs": [],
   "source": [
    "bias=np.ones((8,1))\n",
    "y=np.reshape(y_test,(8,1))\n",
    "\n",
    "x_test_bias = np.c_[bias,x_test]"
   ]
  },
  {
   "cell_type": "code",
   "execution_count": 45,
   "metadata": {},
   "outputs": [],
   "source": [
    "y_pred_test=np.matmul(x_test_bias,weights)"
   ]
  },
  {
   "cell_type": "code",
   "execution_count": 46,
   "metadata": {},
   "outputs": [
    {
     "data": {
      "text/plain": [
       "[<matplotlib.lines.Line2D at 0x2dd3e62d508>]"
      ]
     },
     "execution_count": 46,
     "metadata": {},
     "output_type": "execute_result"
    },
    {
     "data": {
      "image/png": "[encoded data removed]",
      "text/plain": [
       "<Figure size 432x288 with 1 Axes>"
      ]
     },
     "metadata": {
      "needs_background": "light"
     },
     "output_type": "display_data"
    }
   ],
   "source": [
    "x_t=np.arange(0,8,1)\n",
    "\n",
    "plt.plot(x_t,y_test,label='input')"
   ]
  },
  {
   "cell_type": "code",
   "execution_count": 47,
   "metadata": {},
   "outputs": [
    {
     "data": {
      "text/plain": [
       "[<matplotlib.lines.Line2D at 0x2dd3e694848>]"
      ]
     },
     "execution_count": 47,
     "metadata": {},
     "output_type": "execute_result"
    },
    {
     "data": {
      "image/png": "[encoded data removed]",
      "text/plain": [
       "<Figure size 432x288 with 1 Axes>"
      ]
     },
     "metadata": {
      "needs_background": "light"
     },
     "output_type": "display_data"
    }
   ],
   "source": [
    "plt.plot(x_t,y_pred_test,label='prediction')"
   ]
  },
  {
   "cell_type": "code",
   "execution_count": 48,
   "metadata": {},
   "outputs": [
    {
     "data": {
      "image/png": "[encoded data removed]",
      "text/plain": [
       "<Figure size 432x288 with 1 Axes>"
      ]
     },
     "metadata": {
      "needs_background": "light"
     },
     "output_type": "display_data"
    }
   ],
   "source": [
    "x_t=np.arange(0,8,1)\n",
    "\n",
    "plt.plot(x_t,y_test,label='input')\n",
    "plt.plot(x_t,y_pred_test,label='prediction')\n",
    "plt.xlabel('Rows')\n",
    "plt.ylabel('Price')\n",
    "plt.title('Model output')\n",
    "plt.show()"
   ]
  },
  {
   "cell_type": "code",
   "execution_count": 50,
   "metadata": {},
   "outputs": [
    {
     "data": {
      "text/plain": [
       "58.1461006828504"
      ]
     },
     "execution_count": 50,
     "metadata": {},
     "output_type": "execute_result"
    }
   ],
   "source": [
    "lse=(((y_pred_test-y_test)**2).sum())/(8)\n",
    "lse"
   ]
  },
  {
   "cell_type": "markdown",
   "metadata": {},
   "source": [
    "#### Least square erroe for test data came out to be 58.146"
   ]
  },
  {
   "cell_type": "markdown",
   "metadata": {},
   "source": [
    "### Most Important & least important feature\n",
    "#### But to find out the most important feature we need standard Beta coefficients/weights. We can standardize the weights/Betas by multiplying it with std(x)/std(y)"
   ]
  },
  {
   "cell_type": "code",
   "execution_count": 51,
   "metadata": {},
   "outputs": [
    {
     "data": {
      "text/html": [
       "<div>\n",
       "<style scoped>\n",
       "    .dataframe tbody tr th:only-of-type {\n",
       "        vertical-align: middle;\n",
       "    }\n",
       "\n",
       "    .dataframe tbody tr th {\n",
       "        vertical-align: top;\n",
       "    }\n",
       "\n",
       "    .dataframe thead th {\n",
       "        text-align: right;\n",
       "    }\n",
       "</style>\n",
       "<table border=\"1\" class=\"dataframe\">\n",
       "  <thead>\n",
       "    <tr style=\"text-align: right;\">\n",
       "      <th></th>\n",
       "      <th>House ID</th>\n",
       "      <th>Local Price</th>\n",
       "      <th>Bathrooms</th>\n",
       "      <th>Land Area</th>\n",
       "      <th>Living area</th>\n",
       "      <th># Garages</th>\n",
       "      <th># Rooms</th>\n",
       "      <th># Bedrooms</th>\n",
       "      <th>Age of home</th>\n",
       "      <th>Construction type</th>\n",
       "      <th>Architecture type</th>\n",
       "      <th># Fire places</th>\n",
       "      <th>Price (1000$)</th>\n",
       "    </tr>\n",
       "  </thead>\n",
       "  <tbody>\n",
       "    <tr>\n",
       "      <th>count</th>\n",
       "      <td>20.000000</td>\n",
       "      <td>20.000000</td>\n",
       "      <td>20.000000</td>\n",
       "      <td>20.00000</td>\n",
       "      <td>20.00000</td>\n",
       "      <td>20.000000</td>\n",
       "      <td>20.000000</td>\n",
       "      <td>20.000000</td>\n",
       "      <td>20.000000</td>\n",
       "      <td>20.000000</td>\n",
       "      <td>20.000000</td>\n",
       "      <td>20.00000</td>\n",
       "      <td>20.000000</td>\n",
       "    </tr>\n",
       "    <tr>\n",
       "      <th>mean</th>\n",
       "      <td>14.950000</td>\n",
       "      <td>6.997805</td>\n",
       "      <td>1.250000</td>\n",
       "      <td>6.65309</td>\n",
       "      <td>1.50040</td>\n",
       "      <td>1.250000</td>\n",
       "      <td>6.600000</td>\n",
       "      <td>3.200000</td>\n",
       "      <td>36.950000</td>\n",
       "      <td>2.150000</td>\n",
       "      <td>1.200000</td>\n",
       "      <td>0.35000</td>\n",
       "      <td>37.230000</td>\n",
       "    </tr>\n",
       "    <tr>\n",
       "      <th>std</th>\n",
       "      <td>6.809243</td>\n",
       "      <td>2.590080</td>\n",
       "      <td>0.380443</td>\n",
       "      <td>2.04677</td>\n",
       "      <td>0.52043</td>\n",
       "      <td>0.697741</td>\n",
       "      <td>1.187656</td>\n",
       "      <td>0.695852</td>\n",
       "      <td>11.184929</td>\n",
       "      <td>1.268028</td>\n",
       "      <td>0.523148</td>\n",
       "      <td>0.48936</td>\n",
       "      <td>12.581277</td>\n",
       "    </tr>\n",
       "    <tr>\n",
       "      <th>min</th>\n",
       "      <td>1.000000</td>\n",
       "      <td>4.557300</td>\n",
       "      <td>1.000000</td>\n",
       "      <td>3.47200</td>\n",
       "      <td>0.97500</td>\n",
       "      <td>0.000000</td>\n",
       "      <td>5.000000</td>\n",
       "      <td>2.000000</td>\n",
       "      <td>17.000000</td>\n",
       "      <td>1.000000</td>\n",
       "      <td>1.000000</td>\n",
       "      <td>0.00000</td>\n",
       "      <td>25.900000</td>\n",
       "    </tr>\n",
       "    <tr>\n",
       "      <th>25%</th>\n",
       "      <td>10.500000</td>\n",
       "      <td>5.603900</td>\n",
       "      <td>1.000000</td>\n",
       "      <td>5.11250</td>\n",
       "      <td>1.23025</td>\n",
       "      <td>1.000000</td>\n",
       "      <td>6.000000</td>\n",
       "      <td>3.000000</td>\n",
       "      <td>30.000000</td>\n",
       "      <td>1.000000</td>\n",
       "      <td>1.000000</td>\n",
       "      <td>0.00000</td>\n",
       "      <td>30.675000</td>\n",
       "    </tr>\n",
       "    <tr>\n",
       "      <th>50%</th>\n",
       "      <td>15.500000</td>\n",
       "      <td>6.041250</td>\n",
       "      <td>1.000000</td>\n",
       "      <td>6.55050</td>\n",
       "      <td>1.49400</td>\n",
       "      <td>1.000000</td>\n",
       "      <td>6.000000</td>\n",
       "      <td>3.000000</td>\n",
       "      <td>36.000000</td>\n",
       "      <td>2.000000</td>\n",
       "      <td>1.000000</td>\n",
       "      <td>0.00000</td>\n",
       "      <td>36.400000</td>\n",
       "    </tr>\n",
       "    <tr>\n",
       "      <th>75%</th>\n",
       "      <td>20.250000</td>\n",
       "      <td>7.899675</td>\n",
       "      <td>1.500000</td>\n",
       "      <td>8.13750</td>\n",
       "      <td>1.65500</td>\n",
       "      <td>2.000000</td>\n",
       "      <td>7.000000</td>\n",
       "      <td>3.250000</td>\n",
       "      <td>46.500000</td>\n",
       "      <td>3.250000</td>\n",
       "      <td>1.000000</td>\n",
       "      <td>1.00000</td>\n",
       "      <td>39.300000</td>\n",
       "    </tr>\n",
       "    <tr>\n",
       "      <th>max</th>\n",
       "      <td>25.000000</td>\n",
       "      <td>16.420200</td>\n",
       "      <td>2.500000</td>\n",
       "      <td>9.89000</td>\n",
       "      <td>3.42000</td>\n",
       "      <td>2.000000</td>\n",
       "      <td>10.000000</td>\n",
       "      <td>5.000000</td>\n",
       "      <td>54.000000</td>\n",
       "      <td>4.000000</td>\n",
       "      <td>3.000000</td>\n",
       "      <td>1.00000</td>\n",
       "      <td>84.900000</td>\n",
       "    </tr>\n",
       "  </tbody>\n",
       "</table>\n",
       "</div>"
      ],
      "text/plain": [
       "        House ID  Local Price  Bathrooms  Land Area  Living area  # Garages  \\\n",
       "count  20.000000    20.000000  20.000000   20.00000     20.00000  20.000000   \n",
       "mean   14.950000     6.997805   1.250000    6.65309      1.50040   1.250000   \n",
       "std     6.809243     2.590080   0.380443    2.04677      0.52043   0.697741   \n",
       "min     1.000000     4.557300   1.000000    3.47200      0.97500   0.000000   \n",
       "25%    10.500000     5.603900   1.000000    5.11250      1.23025   1.000000   \n",
       "50%    15.500000     6.041250   1.000000    6.55050      1.49400   1.000000   \n",
       "75%    20.250000     7.899675   1.500000    8.13750      1.65500   2.000000   \n",
       "max    25.000000    16.420200   2.500000    9.89000      3.42000   2.000000   \n",
       "\n",
       "         # Rooms  # Bedrooms  Age of home  Construction type  \\\n",
       "count  20.000000   20.000000    20.000000          20.000000   \n",
       "mean    6.600000    3.200000    36.950000           2.150000   \n",
       "std     1.187656    0.695852    11.184929           1.268028   \n",
       "min     5.000000    2.000000    17.000000           1.000000   \n",
       "25%     6.000000    3.000000    30.000000           1.000000   \n",
       "50%     6.000000    3.000000    36.000000           2.000000   \n",
       "75%     7.000000    3.250000    46.500000           3.250000   \n",
       "max    10.000000    5.000000    54.000000           4.000000   \n",
       "\n",
       "       Architecture type  # Fire places  Price (1000$)  \n",
       "count          20.000000       20.00000      20.000000  \n",
       "mean            1.200000        0.35000      37.230000  \n",
       "std             0.523148        0.48936      12.581277  \n",
       "min             1.000000        0.00000      25.900000  \n",
       "25%             1.000000        0.00000      30.675000  \n",
       "50%             1.000000        0.00000      36.400000  \n",
       "75%             1.000000        1.00000      39.300000  \n",
       "max             3.000000        1.00000      84.900000  "
      ]
     },
     "execution_count": 51,
     "metadata": {},
     "output_type": "execute_result"
    }
   ],
   "source": [
    "# to find means and std\n",
    "train_data.describe()"
   ]
  },
  {
   "cell_type": "code",
   "execution_count": 52,
   "metadata": {},
   "outputs": [
    {
     "data": {
      "text/plain": [
       "array([13.64445191,  2.96302702, -0.22724832, -0.09635988, 10.87058122,\n",
       "        2.04915075, -1.70999684, -0.16870645, -0.17845892,  1.08006051,\n",
       "       -0.41473382,  4.2851517 ])"
      ]
     },
     "execution_count": 52,
     "metadata": {},
     "output_type": "execute_result"
    }
   ],
   "source": [
    "weights"
   ]
  },
  {
   "cell_type": "code",
   "execution_count": 91,
   "metadata": {},
   "outputs": [
    {
     "name": "stdout",
     "output_type": "stream",
     "text": [
      "1.6036504875256987\n",
      "-0.04678311499425694\n",
      "-0.01567619181960623\n",
      "0.4496663243583779\n",
      "0.11364319325103087\n",
      "-0.16142145244930542\n",
      "-0.009330906603948074\n",
      "-0.15865244439150972\n",
      "0.10885595861010611\n",
      "-0.017245242153507943\n",
      "0.16667480065115806\n"
     ]
    }
   ],
   "source": [
    "stw_local_price = 2.96302702*(6.809243/12.581277)\n",
    "print(stw_local_price)\n",
    "stw_bathrooms = -0.22724832*(2.590080/12.581277)\n",
    "print(stw_bathrooms)\n",
    "stw_landarea = -0.09635988*(2.04677/12.581277)\n",
    "print(stw_landarea)\n",
    "stw_living_area = 10.87058122*(0.52043/12.581277)\n",
    "print(stw_living_area)\n",
    "stw_garages = 2.04915075*(0.697741/12.581277)\n",
    "print(stw_garages)\n",
    "stw_room = -1.70999684*(1.187656/12.581277)\n",
    "print(stw_room)\n",
    "stw_bedrooms = -0.16870645*(0.695852/12.581277)\n",
    "print(stw_bedrooms)\n",
    "stw_age_of_home = -0.17845892*(11.184929/12.581277)\n",
    "print(stw_age_of_home)\n",
    "stw_const_type = 1.08006051*(1.268028/12.581277)\n",
    "print(stw_const_type)\n",
    "stw_arch_type = -0.41473382*(0.523148/12.581277)\n",
    "print(stw_arch_type)\n",
    "stw_fireplace = 4.2851517*(0.48936/12.581277)\n",
    "print(stw_fireplace)"
   ]
  },
  {
   "cell_type": "markdown",
   "metadata": {},
   "source": [
    "#### we can clearly see that the first feature is the most important feature with highes standardized beta coefficient/weight and the least important is the 7th variable with the least standardized beta coefficient."
   ]
  },
  {
   "cell_type": "markdown",
   "metadata": {},
   "source": [
    "#### Using only Most important feature"
   ]
  },
  {
   "cell_type": "code",
   "execution_count": 53,
   "metadata": {},
   "outputs": [],
   "source": [
    "x_train=train_data.iloc[:,1].values\n",
    "y_train=train_data.iloc[:,12].values"
   ]
  },
  {
   "cell_type": "code",
   "execution_count": 55,
   "metadata": {},
   "outputs": [],
   "source": [
    "bias=np.ones((20,1))\n",
    "\n",
    "x_train_bias = np.c_[np.ones((20,1)),x_train]\n",
    "weights = np.linalg.inv(x_train_bias.T.dot(x_train_bias)).dot(x_train_bias.T).dot(y_train)"
   ]
  },
  {
   "cell_type": "code",
   "execution_count": 57,
   "metadata": {},
   "outputs": [
    {
     "data": {
      "image/png": "[encoded data removed]",
      "text/plain": [
       "<Figure size 432x288 with 1 Axes>"
      ]
     },
     "metadata": {
      "needs_background": "light"
     },
     "output_type": "display_data"
    }
   ],
   "source": [
    "y_pred=np.matmul(x_train_bias,weights)\n",
    "\n",
    "\n",
    "x_1f=np.arange(0,20,1)\n",
    "\n",
    "plt.plot(x_1f,y_train,label='input')\n",
    "plt.plot(x_1f,y_pred,label='prediction')\n",
    "plt.xlabel('Rows')\n",
    "plt.ylabel('Price')\n",
    "plt.title('Model output')\n",
    "plt.show()"
   ]
  },
  {
   "cell_type": "code",
   "execution_count": 60,
   "metadata": {},
   "outputs": [
    {
     "data": {
      "text/plain": [
       "10.924897268773622"
      ]
     },
     "execution_count": 60,
     "metadata": {},
     "output_type": "execute_result"
    }
   ],
   "source": [
    "lse=(((y_pred-y_train)**2).sum())/(20)\n",
    "lse"
   ]
  },
  {
   "cell_type": "markdown",
   "metadata": {},
   "source": [
    "#### Least Square error for only 1 feature is 10.92"
   ]
  },
  {
   "cell_type": "code",
   "execution_count": 61,
   "metadata": {},
   "outputs": [],
   "source": [
    "#checking on test data\n",
    "#creating x_text, y_test\n",
    "x_test=test_data.iloc[:,1].values\n",
    "y_test=test_data.iloc[:,12].values"
   ]
  },
  {
   "cell_type": "code",
   "execution_count": 63,
   "metadata": {},
   "outputs": [],
   "source": [
    "bias=np.ones((8,1))\n",
    "x_test_bias = np.c_[np.ones((8,1)),x_test]\n",
    "\n",
    "y_pred_test=np.matmul(x_test_bias,weights)"
   ]
  },
  {
   "cell_type": "code",
   "execution_count": 64,
   "metadata": {},
   "outputs": [
    {
     "data": {
      "image/png": "[encoded data removed]",
      "text/plain": [
       "<Figure size 432x288 with 1 Axes>"
      ]
     },
     "metadata": {
      "needs_background": "light"
     },
     "output_type": "display_data"
    }
   ],
   "source": [
    "x_1f=np.arange(0,8,1)\n",
    "\n",
    "plt.plot(x_1f,y_test,label='input')\n",
    "plt.plot(x_1f,y_pred_test,label='prediction')\n",
    "plt.xlabel('Rows')\n",
    "plt.ylabel('Price')\n",
    "plt.title('Model output')\n",
    "plt.show()"
   ]
  },
  {
   "cell_type": "code",
   "execution_count": 67,
   "metadata": {},
   "outputs": [
    {
     "data": {
      "text/plain": [
       "74.6643710096758"
      ]
     },
     "execution_count": 67,
     "metadata": {},
     "output_type": "execute_result"
    }
   ],
   "source": [
    "lse=(((y_pred_test-y_test)**2).sum())/(8)\n",
    "lse"
   ]
  },
  {
   "cell_type": "markdown",
   "metadata": {},
   "source": [
    "#### Least Square error for only 1 feature on test data is 74.66"
   ]
  },
  {
   "cell_type": "markdown",
   "metadata": {},
   "source": [
    "### Dropping the least important variable"
   ]
  },
  {
   "cell_type": "code",
   "execution_count": 68,
   "metadata": {},
   "outputs": [],
   "source": [
    "x_train = train_data.iloc[:,1:12]\n",
    "x_train.drop(x_train.columns[7],axis=1,inplace=True)\n",
    "x_train=x_train.values"
   ]
  },
  {
   "cell_type": "code",
   "execution_count": 69,
   "metadata": {},
   "outputs": [
    {
     "data": {
      "text/plain": [
       "array([11.44200891,  3.3748815 ,  3.01240189, -0.06640142,  8.66552005,\n",
       "        2.00713822, -3.27373398,  0.58386579,  0.36340142,  0.874008  ,\n",
       "        3.55709366])"
      ]
     },
     "execution_count": 69,
     "metadata": {},
     "output_type": "execute_result"
    }
   ],
   "source": [
    "bias=np.ones((20,1))\n",
    "x_train_bias = np.c_[np.ones((20,1)),x_train]\n",
    "\n",
    "weights = np.linalg.inv(x_train_bias.T.dot(x_train_bias)).dot(x_train_bias.T).dot(y_train)\n",
    "weights"
   ]
  },
  {
   "cell_type": "code",
   "execution_count": 70,
   "metadata": {},
   "outputs": [],
   "source": [
    "y_pred=np.matmul(x_train_bias,weights)"
   ]
  },
  {
   "cell_type": "code",
   "execution_count": 71,
   "metadata": {},
   "outputs": [
    {
     "data": {
      "image/png": "[encoded data removed]",
      "text/plain": [
       "<Figure size 432x288 with 1 Axes>"
      ]
     },
     "metadata": {
      "needs_background": "light"
     },
     "output_type": "display_data"
    }
   ],
   "source": [
    "x_1r=np.arange(0,20,1)\n",
    "\n",
    "plt.plot(x_1r,y_train,label='input')\n",
    "plt.plot(x_1r,y_pred,label='prediction')\n",
    "plt.xlabel('Rows')\n",
    "plt.ylabel('Price')\n",
    "plt.title('Model output')\n",
    "plt.show()"
   ]
  },
  {
   "cell_type": "code",
   "execution_count": 74,
   "metadata": {},
   "outputs": [
    {
     "data": {
      "text/plain": [
       "5.33576904180155"
      ]
     },
     "execution_count": 74,
     "metadata": {},
     "output_type": "execute_result"
    }
   ],
   "source": [
    "lse=(((y_pred-y_train)**2).sum())/(20)\n",
    "lse"
   ]
  },
  {
   "cell_type": "markdown",
   "metadata": {},
   "source": [
    "#### Least Square error after removing least important feature is 5.33"
   ]
  },
  {
   "cell_type": "code",
   "execution_count": 77,
   "metadata": {},
   "outputs": [],
   "source": [
    "#checking on test split data\n",
    "#ctreating x_test, y_test\n",
    "x_test = test_data.iloc[:,1:12]\n",
    "x_test.drop(x_test.columns[7],axis=1,inplace=True)\n",
    "x_test=x_test.values\n",
    "y_test=test_data.iloc[:,12].values"
   ]
  },
  {
   "cell_type": "code",
   "execution_count": 78,
   "metadata": {},
   "outputs": [],
   "source": [
    "bias=np.ones((8,1))\n",
    "x_test_bias = np.c_[np.ones((8,1)),x_test]\n",
    "\n",
    "y_pred_test=np.matmul(x_test_bias,weights)"
   ]
  },
  {
   "cell_type": "code",
   "execution_count": 79,
   "metadata": {},
   "outputs": [
    {
     "data": {
      "image/png": "[encoded data removed]",
      "text/plain": [
       "<Figure size 432x288 with 1 Axes>"
      ]
     },
     "metadata": {
      "needs_background": "light"
     },
     "output_type": "display_data"
    }
   ],
   "source": [
    "x_1r=np.arange(0,8,1)\n",
    "\n",
    "plt.plot(x_1r,y_test,label='input')\n",
    "plt.plot(x_1r,y_pred_test,label='prediction')\n",
    "plt.xlabel('Rows')\n",
    "plt.ylabel('Price')\n",
    "plt.title('Model output')\n",
    "plt.show()"
   ]
  },
  {
   "cell_type": "code",
   "execution_count": 81,
   "metadata": {},
   "outputs": [
    {
     "data": {
      "text/plain": [
       "54.77931557820006"
      ]
     },
     "execution_count": 81,
     "metadata": {},
     "output_type": "execute_result"
    }
   ],
   "source": [
    "lse=(((y_pred_test-y_test)**2).mean())\n",
    "lse"
   ]
  },
  {
   "cell_type": "markdown",
   "metadata": {},
   "source": [
    "#### least square error when the least important variable is removed is 54.77"
   ]
  },
  {
   "cell_type": "markdown",
   "metadata": {},
   "source": [
    "#### When we used all features the lse was 58, with only 1 featire it increased to 74 which means only 1 important feature cannot help us in predicting price accurately. When we removed the least important feature the lse/model improved"
   ]
  },
  {
   "cell_type": "markdown",
   "metadata": {},
   "source": []
  }
 ],
 "metadata": {
  "colab": {
   "collapsed_sections": [],
   "provenance": []
  },
  "kernelspec": {
   "display_name": "Python 3",
   "language": "python",
   "name": "python3"
  },
  "language_info": {
   "codemirror_mode": {
    "name": "ipython",
    "version": 3
   },
   "file_extension": ".py",
   "mimetype": "text/x-python",
   "name": "python",
   "nbconvert_exporter": "python",
   "pygments_lexer": "ipython3",
   "version": "3.7.6"
  }
 },
 "nbformat": 4,
 "nbformat_minor": 5
}
