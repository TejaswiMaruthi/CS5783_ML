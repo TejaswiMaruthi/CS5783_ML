{
 "cells": [
  {
   "cell_type": "code",
   "execution_count": 1,
   "metadata": {},
   "outputs": [],
   "source": [
    "import numpy as np\n",
    "import pandas as pd\n",
    "import matplotlib.pyplot as plt\n",
    "import seaborn as sns"
   ]
  },
  {
   "cell_type": "code",
   "execution_count": 51,
   "metadata": {},
   "outputs": [],
   "source": [
    "from sklearn.metrics import confusion_matrix,accuracy_score\n",
    "from sklearn.preprocessing import StandardScaler\n",
    "from math import sqrt,exp,pi\n",
    "\n",
    "from sklearn.preprocessing import LabelEncoder\n",
    "from sklearn.tree import DecisionTreeClassifier\n",
    "from sklearn.tree import export_graphviz\n",
    "import graphviz\n"
   ]
  },
  {
   "cell_type": "code",
   "execution_count": 4,
   "metadata": {},
   "outputs": [
    {
     "data": {
      "text/plain": [
       "'C:\\\\Users\\\\tejas\\\\Downloads'"
      ]
     },
     "execution_count": 4,
     "metadata": {},
     "output_type": "execute_result"
    }
   ],
   "source": [
    "import os\n",
    "os.getcwd()"
   ]
  },
  {
   "cell_type": "code",
   "execution_count": 84,
   "metadata": {},
   "outputs": [],
   "source": [
    "os.chdir(r'/content/drive/MyDrive')"
   ]
  },
  {
   "cell_type": "code",
   "execution_count": 61,
   "metadata": {},
   "outputs": [],
   "source": [
    "train_data = pd.read_excel('Asssignment4_Data.xlsx',sheet_name='Train')\n",
    "test_data =  pd.read_excel('Asssignment4_Data.xlsx',sheet_name='Test')"
   ]
  },
  {
   "cell_type": "code",
   "execution_count": 62,
   "metadata": {},
   "outputs": [],
   "source": [
    "x_train = train_data.drop(['House ID','Construction type'],axis =1)\n",
    "y_train = train_data['Construction type']"
   ]
  },
  {
   "cell_type": "code",
   "execution_count": 63,
   "metadata": {},
   "outputs": [],
   "source": [
    "x_test = test_data.drop(['House ID','Construction type'],axis= 1)\n",
    "y_test = test_data['Construction type']"
   ]
  },
  {
   "cell_type": "markdown",
   "metadata": {},
   "source": [
    "# Question 1 - Naive Bayes"
   ]
  },
  {
   "cell_type": "code",
   "execution_count": 64,
   "metadata": {},
   "outputs": [],
   "source": [
    "class naive_bayes():\n",
    "  def __init__(self):\n",
    "    self.classes = {}\n",
    "    self.distribution_params = {}\n",
    "\n",
    "  # Mean\n",
    "  def mean(self,vectors):\n",
    "\t  return np.mean(np.array(vectors),axis=0)\n",
    "   \n",
    "  # Standard Deviation\n",
    "  def std(self,vectors):\n",
    "    return np.std(np.array(vectors),axis=0)\n",
    "\n",
    "  # Calculate Probability\n",
    "  def calculate_probability(self,x, mean, std):\n",
    "    exponent = np.exp(-((x-mean)**2 / (2 * std**2 )))\n",
    "    return((1 / (sqrt(2 * pi) * std))*exponent)\n",
    "\n",
    "  # Training the Model\n",
    "  def fit(self,x_train,y_train):\n",
    "    for vect,clas in zip(np.array(x_train),y_train):\n",
    "      if clas not in list(self.classes.keys()):\n",
    "        self.classes[clas] = list()\n",
    "        self.classes[clas].append(list(vect))\n",
    "      else:\n",
    "        self.classes[clas].append(list(vect))\n",
    "\n",
    "    keys = list(self.classes.keys())\n",
    "    for key in keys:\n",
    "      prob_key = len(self.classes[key])/len(x_train)\n",
    "      means = self.mean(self.classes[key])\n",
    "      stds  = self.std(self.classes[key])\n",
    "      self.distribution_params[key] = list()\n",
    "      self.distribution_params[key].append((means,stds,prob_key))\n",
    "    return(self.distribution_params)\n",
    "\n",
    "  # Predict Probablities and Class\n",
    "  def predict(self,x_test):\n",
    "    pred = []\n",
    "    result_probs = []\n",
    "    for vec in np.array(x_test):\n",
    "      classes = list(self.distribution_params.keys())\n",
    "      probabs = []\n",
    "      temp = {}\n",
    "      for class_ in classes:\n",
    "        means,stds,class_prob = self.distribution_params[class_][0]\n",
    "        prob = np.prod((self.calculate_probability(vec,means,stds)))*class_prob\n",
    "        probabs.append(prob)\n",
    "        temp[class_] = prob\n",
    "      # MAP\n",
    "      pred.append(classes[np.argsort(probabs)[-1]])\n",
    "      # Probabilities\n",
    "      result_probs.append(temp)\n",
    "\n",
    "    return(pred,result_probs)"
   ]
  },
  {
   "cell_type": "code",
   "execution_count": 65,
   "metadata": {},
   "outputs": [],
   "source": [
    "#Fiiting the model\n",
    "model = naive_bayes()\n",
    "mfit = model.fit(x_train,y_train)"
   ]
  },
  {
   "cell_type": "code",
   "execution_count": 66,
   "metadata": {},
   "outputs": [],
   "source": [
    "#Prediction\n",
    "output_prediction,prediction_prob = model.predict(x_test)"
   ]
  },
  {
   "cell_type": "code",
   "execution_count": 67,
   "metadata": {},
   "outputs": [
    {
     "data": {
      "text/plain": [
       "['House', 'Apartment', 'Apartment', 'Apartment', 'Condo']"
      ]
     },
     "execution_count": 67,
     "metadata": {},
     "output_type": "execute_result"
    }
   ],
   "source": [
    "output_prediction"
   ]
  },
  {
   "cell_type": "code",
   "execution_count": 68,
   "metadata": {},
   "outputs": [
    {
     "data": {
      "text/plain": [
       "[{'Apartment': 3.3329702414046057e-06,\n",
       "  'House': 2.2383257200154047e-05,\n",
       "  'Condo': 3.1493774835098834e-06},\n",
       " {'Apartment': 6.458538667459791e-07,\n",
       "  'House': 2.2866649189072155e-14,\n",
       "  'Condo': 3.401662412938181e-07},\n",
       " {'Apartment': 6.075887892129977e-08,\n",
       "  'House': 2.70519353178464e-10,\n",
       "  'Condo': 1.93427136089039e-08},\n",
       " {'Apartment': 1.761588088715833e-06,\n",
       "  'House': 1.931992729271351e-17,\n",
       "  'Condo': 1.6683949961126984e-06},\n",
       " {'Apartment': 5.263002155189463e-07,\n",
       "  'House': 8.811131914127028e-36,\n",
       "  'Condo': 6.010079401265222e-07}]"
      ]
     },
     "execution_count": 68,
     "metadata": {},
     "output_type": "execute_result"
    }
   ],
   "source": [
    "prediction_prob"
   ]
  },
  {
   "cell_type": "markdown",
   "metadata": {},
   "source": [
    "# Question 2 - Decision Tree"
   ]
  },
  {
   "cell_type": "markdown",
   "metadata": {},
   "source": [
    "### Use the default parameters:"
   ]
  },
  {
   "cell_type": "code",
   "execution_count": 22,
   "metadata": {},
   "outputs": [
    {
     "data": {
      "text/plain": [
       "DecisionTreeClassifier(ccp_alpha=0.0, class_weight=None, criterion='gini',\n",
       "                       max_depth=None, max_features=None, max_leaf_nodes=None,\n",
       "                       min_impurity_decrease=0.0, min_impurity_split=None,\n",
       "                       min_samples_leaf=1, min_samples_split=2,\n",
       "                       min_weight_fraction_leaf=0.0, presort='deprecated',\n",
       "                       random_state=123, splitter='best')"
      ]
     },
     "execution_count": 22,
     "metadata": {},
     "output_type": "execute_result"
    }
   ],
   "source": [
    "DT = DecisionTreeClassifier(criterion = 'gini', random_state=123)\n",
    "DT.fit(x_train, y_train)"
   ]
  },
  {
   "cell_type": "code",
   "execution_count": 28,
   "metadata": {},
   "outputs": [
    {
     "data": {
      "text/plain": [
       "array(['Apartment', 'Condo', 'House'], dtype=object)"
      ]
     },
     "execution_count": 28,
     "metadata": {},
     "output_type": "execute_result"
    }
   ],
   "source": [
    "DT.classes_"
   ]
  },
  {
   "cell_type": "markdown",
   "metadata": {},
   "source": [
    "### What is the accuracy on the training and testing set?"
   ]
  },
  {
   "cell_type": "code",
   "execution_count": 25,
   "metadata": {},
   "outputs": [
    {
     "name": "stdout",
     "output_type": "stream",
     "text": [
      "Accuracy on training set: 1.0\n",
      "Accuracy on Testing: 0.4\n"
     ]
    }
   ],
   "source": [
    "print('Accuracy on training set: {0}'.format(DT.score(x_train,y_train)))\n",
    "print('Accuracy on Testing: {0}'.format(DT.score(x_test,y_test)))"
   ]
  },
  {
   "cell_type": "markdown",
   "metadata": {},
   "source": [
    "### Confusion Matrix "
   ]
  },
  {
   "cell_type": "code",
   "execution_count": 33,
   "metadata": {},
   "outputs": [
    {
     "name": "stdout",
     "output_type": "stream",
     "text": [
      "[[7 0 0]\n",
      " [0 6 0]\n",
      " [0 0 7]]\n"
     ]
    },
    {
     "data": {
      "text/plain": [
       "<matplotlib.axes._subplots.AxesSubplot at 0x1c625b25108>"
      ]
     },
     "execution_count": 33,
     "metadata": {},
     "output_type": "execute_result"
    },
    {
     "data": {
      "image/png": "[encoded data removed]",
      "text/plain": [
       "<Figure size 432x288 with 2 Axes>"
      ]
     },
     "metadata": {
      "needs_background": "light"
     },
     "output_type": "display_data"
    }
   ],
   "source": [
    "#Train\n",
    "y_pred = DT.predict(x_train)\n",
    "c_mat = confusion_matrix(y_pred,y_train)\n",
    "print(c_mat)\n",
    "sns.heatmap(c_mat,annot=True)"
   ]
  },
  {
   "cell_type": "code",
   "execution_count": 34,
   "metadata": {},
   "outputs": [
    {
     "name": "stdout",
     "output_type": "stream",
     "text": [
      "[[2 0 0]\n",
      " [1 0 2]\n",
      " [0 0 0]]\n"
     ]
    },
    {
     "data": {
      "text/plain": [
       "<matplotlib.axes._subplots.AxesSubplot at 0x1c62354fc48>"
      ]
     },
     "execution_count": 34,
     "metadata": {},
     "output_type": "execute_result"
    },
    {
     "data": {
      "image/png": "[encoded data removed]",
      "text/plain": [
       "<Figure size 432x288 with 2 Axes>"
      ]
     },
     "metadata": {
      "needs_background": "light"
     },
     "output_type": "display_data"
    }
   ],
   "source": [
    "#Test\n",
    "y_pred = DT.predict(x_test)\n",
    "c_mat = confusion_matrix(y_pred,y_test)\n",
    "print(c_mat)\n",
    "sns.heatmap(c_mat,annot=True)"
   ]
  },
  {
   "cell_type": "markdown",
   "metadata": {},
   "source": [
    "## Model has accuracy of 1 i.e., 100% on training set and an accuracy of 0.4 i.e., 40% on test set. Clearly overfitting."
   ]
  },
  {
   "cell_type": "markdown",
   "metadata": {},
   "source": [
    "### What is the effect of restricting the maximum depth of the tree? Try different depths and find the best value:"
   ]
  },
  {
   "cell_type": "code",
   "execution_count": 36,
   "metadata": {},
   "outputs": [],
   "source": [
    "max_depths = np.arange(1,9)\n",
    "train_acc = []\n",
    "test_acc = []\n",
    "for depth in max_depths:\n",
    "    DT = DecisionTreeClassifier(random_state=123,max_depth=depth)\n",
    "    DT.fit(x_train, y_train)\n",
    "    train_acc.append(DT.score(x_train,y_train))\n",
    "    test_acc.append(DT.score(x_test,y_test))"
   ]
  },
  {
   "cell_type": "code",
   "execution_count": 40,
   "metadata": {},
   "outputs": [
    {
     "data": {
      "image/png": "[encoded data removed]",
      "text/plain": [
       "<Figure size 432x288 with 1 Axes>"
      ]
     },
     "metadata": {
      "needs_background": "light"
     },
     "output_type": "display_data"
    }
   ],
   "source": [
    "plt.plot(max_depths,train_acc,'y')\n",
    "plt.plot(max_depths,test_acc,'g')\n",
    "plt.title(\"Accuracy for different max depths\")\n",
    "plt.legend(['train','test'])\n",
    "# plt.ylim((0,3))\n",
    "plt.show()"
   ]
  },
  {
   "cell_type": "markdown",
   "metadata": {},
   "source": [
    "## As max depth increase the training accruracy incresed but the testing accuracy increased till max depth 2 and dropped flat after max depth 3"
   ]
  },
  {
   "cell_type": "markdown",
   "metadata": {},
   "source": [
    "### Best Value"
   ]
  },
  {
   "cell_type": "code",
   "execution_count": 41,
   "metadata": {},
   "outputs": [
    {
     "name": "stdout",
     "output_type": "stream",
     "text": [
      "Accuracy on training data: 0.75\n",
      "Accuracy on testing data: 0.8\n"
     ]
    }
   ],
   "source": [
    "DT = DecisionTreeClassifier(criterion = 'gini', random_state=123,max_depth=2)\n",
    "DT.fit(x_train, y_train)\n",
    "print('Accuracy on training data: {0}'.format(DT.score(x_train,y_train)))\n",
    "print('Accuracy on testing data: {0}'.format(DT.score(x_test,y_test)))"
   ]
  },
  {
   "cell_type": "markdown",
   "metadata": {},
   "source": [
    "## As we let the tree grow at max depth i.e., a fully grown tree, it overfits, it starts to memorize even the noise in the data, which is why it was performing best on training where as giving poor results for testing. By restricting the depth of the decision tree, we stop the model from overfitting, reducing complexity - decresing variance, increasing bias. As shown above when we restrict the max depth to 2, the training and test accuracies are 0.75, 0.8 respectively resulting in a more stable and reliable model."
   ]
  },
  {
   "cell_type": "markdown",
   "metadata": {},
   "source": [
    "### Visualize the resulting tree:"
   ]
  },
  {
   "cell_type": "markdown",
   "metadata": {},
   "source": [
    "#### Max depth tree:"
   ]
  },
  {
   "cell_type": "code",
   "execution_count": 47,
   "metadata": {},
   "outputs": [
    {
     "data": {
      "image/svg+xml": [
       "<?xml version=\"1.0\" encoding=\"UTF-8\" standalone=\"no\"?>\r\n",
       "<!DOCTYPE svg PUBLIC \"-//W3C//DTD SVG 1.1//EN\"\r\n",
       " \"http://www.w3.org/Graphics/SVG/1.1/DTD/svg11.dtd\">\r\n",
       "<!-- Generated by graphviz version 2.38.0 (20140413.2041)\r\n",
       " -->\r\n",
       "<!-- Title: Tree Pages: 1 -->\r\n",
       "<svg width=\"705pt\" height=\"581pt\"\r\n",
       " viewBox=\"0.00 0.00 705.00 581.00\" xmlns=\"http://www.w3.org/2000/svg\" xmlns:xlink=\"http://www.w3.org/1999/xlink\">\r\n",
       "<g id=\"graph0\" class=\"graph\" transform=\"scale(1 1) rotate(0) translate(4 577)\">\r\n",
       "<title>Tree</title>\r\n",
       "<polygon fill=\"white\" stroke=\"none\" points=\"-4,4 -4,-577 701,-577 701,4 -4,4\"/>\r\n",
       "<!-- 0 -->\r\n",
       "<g id=\"node1\" class=\"node\"><title>0</title>\r\n",
       "<polygon fill=\"#ffffff\" stroke=\"black\" points=\"434,-573 297,-573 297,-505 434,-505 434,-573\"/>\r\n",
       "<text text-anchor=\"middle\" x=\"365.5\" y=\"-557.8\" font-family=\"Times New Roman,serif\" font-size=\"14.00\">Age of home &lt;= 36.0</text>\r\n",
       "<text text-anchor=\"middle\" x=\"365.5\" y=\"-542.8\" font-family=\"Times New Roman,serif\" font-size=\"14.00\">gini = 0.665</text>\r\n",
       "<text text-anchor=\"middle\" x=\"365.5\" y=\"-527.8\" font-family=\"Times New Roman,serif\" font-size=\"14.00\">samples = 20</text>\r\n",
       "<text text-anchor=\"middle\" x=\"365.5\" y=\"-512.8\" font-family=\"Times New Roman,serif\" font-size=\"14.00\">value = [7, 6, 7]</text>\r\n",
       "</g>\r\n",
       "<!-- 1 -->\r\n",
       "<g id=\"node2\" class=\"node\"><title>1</title>\r\n",
       "<polygon fill=\"#c09cf2\" stroke=\"black\" points=\"358,-469 223,-469 223,-401 358,-401 358,-469\"/>\r\n",
       "<text text-anchor=\"middle\" x=\"290.5\" y=\"-453.8\" font-family=\"Times New Roman,serif\" font-size=\"14.00\">Local Price &lt;= 8.411</text>\r\n",
       "<text text-anchor=\"middle\" x=\"290.5\" y=\"-438.8\" font-family=\"Times New Roman,serif\" font-size=\"14.00\">gini = 0.56</text>\r\n",
       "<text text-anchor=\"middle\" x=\"290.5\" y=\"-423.8\" font-family=\"Times New Roman,serif\" font-size=\"14.00\">samples = 10</text>\r\n",
       "<text text-anchor=\"middle\" x=\"290.5\" y=\"-408.8\" font-family=\"Times New Roman,serif\" font-size=\"14.00\">value = [2, 2, 6]</text>\r\n",
       "</g>\r\n",
       "<!-- 0&#45;&gt;1 -->\r\n",
       "<g id=\"edge1\" class=\"edge\"><title>0&#45;&gt;1</title>\r\n",
       "<path fill=\"none\" stroke=\"black\" d=\"M341.15,-504.884C334.731,-496.154 327.724,-486.625 321.025,-477.514\"/>\r\n",
       "<polygon fill=\"black\" stroke=\"black\" points=\"323.729,-475.283 314.985,-469.299 318.089,-479.429 323.729,-475.283\"/>\r\n",
       "<text text-anchor=\"middle\" x=\"311.215\" y=\"-490.313\" font-family=\"Times New Roman,serif\" font-size=\"14.00\">True</text>\r\n",
       "</g>\r\n",
       "<!-- 10 -->\r\n",
       "<g id=\"node11\" class=\"node\"><title>10</title>\r\n",
       "<polygon fill=\"#fbeade\" stroke=\"black\" points=\"504.5,-469 376.5,-469 376.5,-401 504.5,-401 504.5,-469\"/>\r\n",
       "<text text-anchor=\"middle\" x=\"440.5\" y=\"-453.8\" font-family=\"Times New Roman,serif\" font-size=\"14.00\">Local Price &lt;= 4.55</text>\r\n",
       "<text text-anchor=\"middle\" x=\"440.5\" y=\"-438.8\" font-family=\"Times New Roman,serif\" font-size=\"14.00\">gini = 0.58</text>\r\n",
       "<text text-anchor=\"middle\" x=\"440.5\" y=\"-423.8\" font-family=\"Times New Roman,serif\" font-size=\"14.00\">samples = 10</text>\r\n",
       "<text text-anchor=\"middle\" x=\"440.5\" y=\"-408.8\" font-family=\"Times New Roman,serif\" font-size=\"14.00\">value = [5, 4, 1]</text>\r\n",
       "</g>\r\n",
       "<!-- 0&#45;&gt;10 -->\r\n",
       "<g id=\"edge10\" class=\"edge\"><title>0&#45;&gt;10</title>\r\n",
       "<path fill=\"none\" stroke=\"black\" d=\"M389.85,-504.884C396.269,-496.154 403.276,-486.625 409.975,-477.514\"/>\r\n",
       "<polygon fill=\"black\" stroke=\"black\" points=\"412.911,-479.429 416.015,-469.299 407.271,-475.283 412.911,-479.429\"/>\r\n",
       "<text text-anchor=\"middle\" x=\"419.785\" y=\"-490.313\" font-family=\"Times New Roman,serif\" font-size=\"14.00\">False</text>\r\n",
       "</g>\r\n",
       "<!-- 2 -->\r\n",
       "<g id=\"node3\" class=\"node\"><title>2</title>\r\n",
       "<polygon fill=\"#ab7bee\" stroke=\"black\" points=\"227,-365 90,-365 90,-297 227,-297 227,-365\"/>\r\n",
       "<text text-anchor=\"middle\" x=\"158.5\" y=\"-349.8\" font-family=\"Times New Roman,serif\" font-size=\"14.00\">Age of home &lt;= 19.5</text>\r\n",
       "<text text-anchor=\"middle\" x=\"158.5\" y=\"-334.8\" font-family=\"Times New Roman,serif\" font-size=\"14.00\">gini = 0.375</text>\r\n",
       "<text text-anchor=\"middle\" x=\"158.5\" y=\"-319.8\" font-family=\"Times New Roman,serif\" font-size=\"14.00\">samples = 8</text>\r\n",
       "<text text-anchor=\"middle\" x=\"158.5\" y=\"-304.8\" font-family=\"Times New Roman,serif\" font-size=\"14.00\">value = [0, 2, 6]</text>\r\n",
       "</g>\r\n",
       "<!-- 1&#45;&gt;2 -->\r\n",
       "<g id=\"edge2\" class=\"edge\"><title>1&#45;&gt;2</title>\r\n",
       "<path fill=\"none\" stroke=\"black\" d=\"M247.643,-400.884C235.54,-391.531 222.247,-381.259 209.706,-371.568\"/>\r\n",
       "<polygon fill=\"black\" stroke=\"black\" points=\"211.646,-368.644 201.593,-365.299 207.366,-374.183 211.646,-368.644\"/>\r\n",
       "</g>\r\n",
       "<!-- 9 -->\r\n",
       "<g id=\"node10\" class=\"node\"><title>9</title>\r\n",
       "<polygon fill=\"#e58139\" stroke=\"black\" points=\"350,-357.5 245,-357.5 245,-304.5 350,-304.5 350,-357.5\"/>\r\n",
       "<text text-anchor=\"middle\" x=\"297.5\" y=\"-342.3\" font-family=\"Times New Roman,serif\" font-size=\"14.00\">gini = 0.0</text>\r\n",
       "<text text-anchor=\"middle\" x=\"297.5\" y=\"-327.3\" font-family=\"Times New Roman,serif\" font-size=\"14.00\">samples = 2</text>\r\n",
       "<text text-anchor=\"middle\" x=\"297.5\" y=\"-312.3\" font-family=\"Times New Roman,serif\" font-size=\"14.00\">value = [2, 0, 0]</text>\r\n",
       "</g>\r\n",
       "<!-- 1&#45;&gt;9 -->\r\n",
       "<g id=\"edge9\" class=\"edge\"><title>1&#45;&gt;9</title>\r\n",
       "<path fill=\"none\" stroke=\"black\" d=\"M292.773,-400.884C293.505,-390.216 294.319,-378.352 295.062,-367.519\"/>\r\n",
       "<polygon fill=\"black\" stroke=\"black\" points=\"298.556,-367.736 295.749,-357.52 291.572,-367.257 298.556,-367.736\"/>\r\n",
       "</g>\r\n",
       "<!-- 3 -->\r\n",
       "<g id=\"node4\" class=\"node\"><title>3</title>\r\n",
       "<polygon fill=\"#39e581\" stroke=\"black\" points=\"105,-253.5 0,-253.5 0,-200.5 105,-200.5 105,-253.5\"/>\r\n",
       "<text text-anchor=\"middle\" x=\"52.5\" y=\"-238.3\" font-family=\"Times New Roman,serif\" font-size=\"14.00\">gini = 0.0</text>\r\n",
       "<text text-anchor=\"middle\" x=\"52.5\" y=\"-223.3\" font-family=\"Times New Roman,serif\" font-size=\"14.00\">samples = 1</text>\r\n",
       "<text text-anchor=\"middle\" x=\"52.5\" y=\"-208.3\" font-family=\"Times New Roman,serif\" font-size=\"14.00\">value = [0, 1, 0]</text>\r\n",
       "</g>\r\n",
       "<!-- 2&#45;&gt;3 -->\r\n",
       "<g id=\"edge3\" class=\"edge\"><title>2&#45;&gt;3</title>\r\n",
       "<path fill=\"none\" stroke=\"black\" d=\"M124.085,-296.884C111.97,-285.226 98.3716,-272.141 86.3073,-260.532\"/>\r\n",
       "<polygon fill=\"black\" stroke=\"black\" points=\"88.6533,-257.932 79.0207,-253.52 83.7996,-262.976 88.6533,-257.932\"/>\r\n",
       "</g>\r\n",
       "<!-- 4 -->\r\n",
       "<g id=\"node5\" class=\"node\"><title>4</title>\r\n",
       "<polygon fill=\"#965ae9\" stroke=\"black\" points=\"245.5,-261 123.5,-261 123.5,-193 245.5,-193 245.5,-261\"/>\r\n",
       "<text text-anchor=\"middle\" x=\"184.5\" y=\"-245.8\" font-family=\"Times New Roman,serif\" font-size=\"14.00\"># Garages &lt;= 1.75</text>\r\n",
       "<text text-anchor=\"middle\" x=\"184.5\" y=\"-230.8\" font-family=\"Times New Roman,serif\" font-size=\"14.00\">gini = 0.245</text>\r\n",
       "<text text-anchor=\"middle\" x=\"184.5\" y=\"-215.8\" font-family=\"Times New Roman,serif\" font-size=\"14.00\">samples = 7</text>\r\n",
       "<text text-anchor=\"middle\" x=\"184.5\" y=\"-200.8\" font-family=\"Times New Roman,serif\" font-size=\"14.00\">value = [0, 1, 6]</text>\r\n",
       "</g>\r\n",
       "<!-- 2&#45;&gt;4 -->\r\n",
       "<g id=\"edge4\" class=\"edge\"><title>2&#45;&gt;4</title>\r\n",
       "<path fill=\"none\" stroke=\"black\" d=\"M166.941,-296.884C169.03,-288.689 171.299,-279.789 173.49,-271.192\"/>\r\n",
       "<polygon fill=\"black\" stroke=\"black\" points=\"176.933,-271.854 176.012,-261.299 170.15,-270.125 176.933,-271.854\"/>\r\n",
       "</g>\r\n",
       "<!-- 5 -->\r\n",
       "<g id=\"node6\" class=\"node\"><title>5</title>\r\n",
       "<polygon fill=\"#8139e5\" stroke=\"black\" points=\"207,-149.5 102,-149.5 102,-96.5 207,-96.5 207,-149.5\"/>\r\n",
       "<text text-anchor=\"middle\" x=\"154.5\" y=\"-134.3\" font-family=\"Times New Roman,serif\" font-size=\"14.00\">gini = 0.0</text>\r\n",
       "<text text-anchor=\"middle\" x=\"154.5\" y=\"-119.3\" font-family=\"Times New Roman,serif\" font-size=\"14.00\">samples = 5</text>\r\n",
       "<text text-anchor=\"middle\" x=\"154.5\" y=\"-104.3\" font-family=\"Times New Roman,serif\" font-size=\"14.00\">value = [0, 0, 5]</text>\r\n",
       "</g>\r\n",
       "<!-- 4&#45;&gt;5 -->\r\n",
       "<g id=\"edge5\" class=\"edge\"><title>4&#45;&gt;5</title>\r\n",
       "<path fill=\"none\" stroke=\"black\" d=\"M174.76,-192.884C171.59,-182.106 168.061,-170.108 164.848,-159.184\"/>\r\n",
       "<polygon fill=\"black\" stroke=\"black\" points=\"168.185,-158.126 162.006,-149.52 161.47,-160.101 168.185,-158.126\"/>\r\n",
       "</g>\r\n",
       "<!-- 6 -->\r\n",
       "<g id=\"node7\" class=\"node\"><title>6</title>\r\n",
       "<polygon fill=\"#ffffff\" stroke=\"black\" points=\"360,-157 225,-157 225,-89 360,-89 360,-157\"/>\r\n",
       "<text text-anchor=\"middle\" x=\"292.5\" y=\"-141.8\" font-family=\"Times New Roman,serif\" font-size=\"14.00\">Local Price &lt;= 5.894</text>\r\n",
       "<text text-anchor=\"middle\" x=\"292.5\" y=\"-126.8\" font-family=\"Times New Roman,serif\" font-size=\"14.00\">gini = 0.5</text>\r\n",
       "<text text-anchor=\"middle\" x=\"292.5\" y=\"-111.8\" font-family=\"Times New Roman,serif\" font-size=\"14.00\">samples = 2</text>\r\n",
       "<text text-anchor=\"middle\" x=\"292.5\" y=\"-96.8\" font-family=\"Times New Roman,serif\" font-size=\"14.00\">value = [0, 1, 1]</text>\r\n",
       "</g>\r\n",
       "<!-- 4&#45;&gt;6 -->\r\n",
       "<g id=\"edge6\" class=\"edge\"><title>4&#45;&gt;6</title>\r\n",
       "<path fill=\"none\" stroke=\"black\" d=\"M219.565,-192.884C229.184,-183.798 239.722,-173.845 249.723,-164.4\"/>\r\n",
       "<polygon fill=\"black\" stroke=\"black\" points=\"252.375,-166.71 257.242,-157.299 247.569,-161.621 252.375,-166.71\"/>\r\n",
       "</g>\r\n",
       "<!-- 7 -->\r\n",
       "<g id=\"node8\" class=\"node\"><title>7</title>\r\n",
       "<polygon fill=\"#8139e5\" stroke=\"black\" points=\"283,-53 178,-53 178,-0 283,-0 283,-53\"/>\r\n",
       "<text text-anchor=\"middle\" x=\"230.5\" y=\"-37.8\" font-family=\"Times New Roman,serif\" font-size=\"14.00\">gini = 0.0</text>\r\n",
       "<text text-anchor=\"middle\" x=\"230.5\" y=\"-22.8\" font-family=\"Times New Roman,serif\" font-size=\"14.00\">samples = 1</text>\r\n",
       "<text text-anchor=\"middle\" x=\"230.5\" y=\"-7.8\" font-family=\"Times New Roman,serif\" font-size=\"14.00\">value = [0, 0, 1]</text>\r\n",
       "</g>\r\n",
       "<!-- 6&#45;&gt;7 -->\r\n",
       "<g id=\"edge7\" class=\"edge\"><title>6&#45;&gt;7</title>\r\n",
       "<path fill=\"none\" stroke=\"black\" d=\"M270.815,-88.9485C265.054,-80.1664 258.819,-70.6629 253.014,-61.815\"/>\r\n",
       "<polygon fill=\"black\" stroke=\"black\" points=\"255.797,-59.6779 247.385,-53.2367 249.945,-63.5178 255.797,-59.6779\"/>\r\n",
       "</g>\r\n",
       "<!-- 8 -->\r\n",
       "<g id=\"node9\" class=\"node\"><title>8</title>\r\n",
       "<polygon fill=\"#39e581\" stroke=\"black\" points=\"406,-53 301,-53 301,-0 406,-0 406,-53\"/>\r\n",
       "<text text-anchor=\"middle\" x=\"353.5\" y=\"-37.8\" font-family=\"Times New Roman,serif\" font-size=\"14.00\">gini = 0.0</text>\r\n",
       "<text text-anchor=\"middle\" x=\"353.5\" y=\"-22.8\" font-family=\"Times New Roman,serif\" font-size=\"14.00\">samples = 1</text>\r\n",
       "<text text-anchor=\"middle\" x=\"353.5\" y=\"-7.8\" font-family=\"Times New Roman,serif\" font-size=\"14.00\">value = [0, 1, 0]</text>\r\n",
       "</g>\r\n",
       "<!-- 6&#45;&gt;8 -->\r\n",
       "<g id=\"edge8\" class=\"edge\"><title>6&#45;&gt;8</title>\r\n",
       "<path fill=\"none\" stroke=\"black\" d=\"M313.835,-88.9485C319.504,-80.1664 325.638,-70.6629 331.35,-61.815\"/>\r\n",
       "<polygon fill=\"black\" stroke=\"black\" points=\"334.404,-63.5365 336.887,-53.2367 328.523,-59.7402 334.404,-63.5365\"/>\r\n",
       "</g>\r\n",
       "<!-- 11 -->\r\n",
       "<g id=\"node12\" class=\"node\"><title>11</title>\r\n",
       "<polygon fill=\"#39e581\" stroke=\"black\" points=\"486,-357.5 381,-357.5 381,-304.5 486,-304.5 486,-357.5\"/>\r\n",
       "<text text-anchor=\"middle\" x=\"433.5\" y=\"-342.3\" font-family=\"Times New Roman,serif\" font-size=\"14.00\">gini = 0.0</text>\r\n",
       "<text text-anchor=\"middle\" x=\"433.5\" y=\"-327.3\" font-family=\"Times New Roman,serif\" font-size=\"14.00\">samples = 2</text>\r\n",
       "<text text-anchor=\"middle\" x=\"433.5\" y=\"-312.3\" font-family=\"Times New Roman,serif\" font-size=\"14.00\">value = [0, 2, 0]</text>\r\n",
       "</g>\r\n",
       "<!-- 10&#45;&gt;11 -->\r\n",
       "<g id=\"edge11\" class=\"edge\"><title>10&#45;&gt;11</title>\r\n",
       "<path fill=\"none\" stroke=\"black\" d=\"M438.227,-400.884C437.495,-390.216 436.681,-378.352 435.938,-367.519\"/>\r\n",
       "<polygon fill=\"black\" stroke=\"black\" points=\"439.428,-367.257 435.251,-357.52 432.444,-367.736 439.428,-367.257\"/>\r\n",
       "</g>\r\n",
       "<!-- 12 -->\r\n",
       "<g id=\"node13\" class=\"node\"><title>12</title>\r\n",
       "<polygon fill=\"#f2c09c\" stroke=\"black\" points=\"620.5,-365 504.5,-365 504.5,-297 620.5,-297 620.5,-365\"/>\r\n",
       "<text text-anchor=\"middle\" x=\"562.5\" y=\"-349.8\" font-family=\"Times New Roman,serif\" font-size=\"14.00\">Land Area &lt;= 5.5</text>\r\n",
       "<text text-anchor=\"middle\" x=\"562.5\" y=\"-334.8\" font-family=\"Times New Roman,serif\" font-size=\"14.00\">gini = 0.531</text>\r\n",
       "<text text-anchor=\"middle\" x=\"562.5\" y=\"-319.8\" font-family=\"Times New Roman,serif\" font-size=\"14.00\">samples = 8</text>\r\n",
       "<text text-anchor=\"middle\" x=\"562.5\" y=\"-304.8\" font-family=\"Times New Roman,serif\" font-size=\"14.00\">value = [5, 2, 1]</text>\r\n",
       "</g>\r\n",
       "<!-- 10&#45;&gt;12 -->\r\n",
       "<g id=\"edge12\" class=\"edge\"><title>10&#45;&gt;12</title>\r\n",
       "<path fill=\"none\" stroke=\"black\" d=\"M480.11,-400.884C491.19,-391.62 503.348,-381.455 514.842,-371.845\"/>\r\n",
       "<polygon fill=\"black\" stroke=\"black\" points=\"517.244,-374.399 522.671,-365.299 512.754,-369.028 517.244,-374.399\"/>\r\n",
       "</g>\r\n",
       "<!-- 13 -->\r\n",
       "<g id=\"node14\" class=\"node\"><title>13</title>\r\n",
       "<polygon fill=\"#ea9a61\" stroke=\"black\" points=\"574,-261 437,-261 437,-193 574,-193 574,-261\"/>\r\n",
       "<text text-anchor=\"middle\" x=\"505.5\" y=\"-245.8\" font-family=\"Times New Roman,serif\" font-size=\"14.00\">Age of home &lt;= 58.0</text>\r\n",
       "<text text-anchor=\"middle\" x=\"505.5\" y=\"-230.8\" font-family=\"Times New Roman,serif\" font-size=\"14.00\">gini = 0.278</text>\r\n",
       "<text text-anchor=\"middle\" x=\"505.5\" y=\"-215.8\" font-family=\"Times New Roman,serif\" font-size=\"14.00\">samples = 6</text>\r\n",
       "<text text-anchor=\"middle\" x=\"505.5\" y=\"-200.8\" font-family=\"Times New Roman,serif\" font-size=\"14.00\">value = [5, 0, 1]</text>\r\n",
       "</g>\r\n",
       "<!-- 12&#45;&gt;13 -->\r\n",
       "<g id=\"edge13\" class=\"edge\"><title>12&#45;&gt;13</title>\r\n",
       "<path fill=\"none\" stroke=\"black\" d=\"M543.994,-296.884C539.215,-288.332 534.007,-279.013 529.011,-270.072\"/>\r\n",
       "<polygon fill=\"black\" stroke=\"black\" points=\"532.042,-268.321 524.108,-261.299 525.931,-271.736 532.042,-268.321\"/>\r\n",
       "</g>\r\n",
       "<!-- 16 -->\r\n",
       "<g id=\"node17\" class=\"node\"><title>16</title>\r\n",
       "<polygon fill=\"#39e581\" stroke=\"black\" points=\"697,-253.5 592,-253.5 592,-200.5 697,-200.5 697,-253.5\"/>\r\n",
       "<text text-anchor=\"middle\" x=\"644.5\" y=\"-238.3\" font-family=\"Times New Roman,serif\" font-size=\"14.00\">gini = 0.0</text>\r\n",
       "<text text-anchor=\"middle\" x=\"644.5\" y=\"-223.3\" font-family=\"Times New Roman,serif\" font-size=\"14.00\">samples = 2</text>\r\n",
       "<text text-anchor=\"middle\" x=\"644.5\" y=\"-208.3\" font-family=\"Times New Roman,serif\" font-size=\"14.00\">value = [0, 2, 0]</text>\r\n",
       "</g>\r\n",
       "<!-- 12&#45;&gt;16 -->\r\n",
       "<g id=\"edge16\" class=\"edge\"><title>12&#45;&gt;16</title>\r\n",
       "<path fill=\"none\" stroke=\"black\" d=\"M589.123,-296.884C598.23,-285.556 608.42,-272.88 617.552,-261.521\"/>\r\n",
       "<polygon fill=\"black\" stroke=\"black\" points=\"620.446,-263.507 623.984,-253.52 614.991,-259.121 620.446,-263.507\"/>\r\n",
       "</g>\r\n",
       "<!-- 14 -->\r\n",
       "<g id=\"node15\" class=\"node\"><title>14</title>\r\n",
       "<polygon fill=\"#e58139\" stroke=\"black\" points=\"533,-149.5 428,-149.5 428,-96.5 533,-96.5 533,-149.5\"/>\r\n",
       "<text text-anchor=\"middle\" x=\"480.5\" y=\"-134.3\" font-family=\"Times New Roman,serif\" font-size=\"14.00\">gini = 0.0</text>\r\n",
       "<text text-anchor=\"middle\" x=\"480.5\" y=\"-119.3\" font-family=\"Times New Roman,serif\" font-size=\"14.00\">samples = 5</text>\r\n",
       "<text text-anchor=\"middle\" x=\"480.5\" y=\"-104.3\" font-family=\"Times New Roman,serif\" font-size=\"14.00\">value = [5, 0, 0]</text>\r\n",
       "</g>\r\n",
       "<!-- 13&#45;&gt;14 -->\r\n",
       "<g id=\"edge14\" class=\"edge\"><title>13&#45;&gt;14</title>\r\n",
       "<path fill=\"none\" stroke=\"black\" d=\"M497.383,-192.884C494.769,-182.216 491.861,-170.352 489.206,-159.519\"/>\r\n",
       "<polygon fill=\"black\" stroke=\"black\" points=\"492.535,-158.399 486.755,-149.52 485.736,-160.066 492.535,-158.399\"/>\r\n",
       "</g>\r\n",
       "<!-- 15 -->\r\n",
       "<g id=\"node16\" class=\"node\"><title>15</title>\r\n",
       "<polygon fill=\"#8139e5\" stroke=\"black\" points=\"656,-149.5 551,-149.5 551,-96.5 656,-96.5 656,-149.5\"/>\r\n",
       "<text text-anchor=\"middle\" x=\"603.5\" y=\"-134.3\" font-family=\"Times New Roman,serif\" font-size=\"14.00\">gini = 0.0</text>\r\n",
       "<text text-anchor=\"middle\" x=\"603.5\" y=\"-119.3\" font-family=\"Times New Roman,serif\" font-size=\"14.00\">samples = 1</text>\r\n",
       "<text text-anchor=\"middle\" x=\"603.5\" y=\"-104.3\" font-family=\"Times New Roman,serif\" font-size=\"14.00\">value = [0, 0, 1]</text>\r\n",
       "</g>\r\n",
       "<!-- 13&#45;&gt;15 -->\r\n",
       "<g id=\"edge15\" class=\"edge\"><title>13&#45;&gt;15</title>\r\n",
       "<path fill=\"none\" stroke=\"black\" d=\"M537.318,-192.884C548.413,-181.336 560.853,-168.387 571.928,-156.86\"/>\r\n",
       "<polygon fill=\"black\" stroke=\"black\" points=\"574.576,-159.156 578.981,-149.52 569.529,-154.306 574.576,-159.156\"/>\r\n",
       "</g>\r\n",
       "</g>\r\n",
       "</svg>\r\n"
      ],
      "text/plain": [
       "<graphviz.files.Source at 0x1c625e42788>"
      ]
     },
     "execution_count": 47,
     "metadata": {},
     "output_type": "execute_result"
    }
   ],
   "source": [
    "DT = DecisionTreeClassifier(criterion = 'gini', random_state=123)\n",
    "DT.fit(x_train, y_train)\n",
    "data = export_graphviz(DT, out_file=None, \n",
    "                                feature_names=list(x_train.columns),  \n",
    "                                filled=True)\n",
    "graphviz.Source(data, format=\"png\")"
   ]
  },
  {
   "cell_type": "code",
   "execution_count": 50,
   "metadata": {},
   "outputs": [
    {
     "data": {
      "image/svg+xml": [
       "<?xml version=\"1.0\" encoding=\"UTF-8\" standalone=\"no\"?>\r\n",
       "<!DOCTYPE svg PUBLIC \"-//W3C//DTD SVG 1.1//EN\"\r\n",
       " \"http://www.w3.org/Graphics/SVG/1.1/DTD/svg11.dtd\">\r\n",
       "<!-- Generated by graphviz version 2.38.0 (20140413.2041)\r\n",
       " -->\r\n",
       "<!-- Title: Tree Pages: 1 -->\r\n",
       "<svg width=\"495pt\" height=\"269pt\"\r\n",
       " viewBox=\"0.00 0.00 495.00 269.00\" xmlns=\"http://www.w3.org/2000/svg\" xmlns:xlink=\"http://www.w3.org/1999/xlink\">\r\n",
       "<g id=\"graph0\" class=\"graph\" transform=\"scale(1 1) rotate(0) translate(4 265)\">\r\n",
       "<title>Tree</title>\r\n",
       "<polygon fill=\"white\" stroke=\"none\" points=\"-4,4 -4,-265 491,-265 491,4 -4,4\"/>\r\n",
       "<!-- 0 -->\r\n",
       "<g id=\"node1\" class=\"node\"><title>0</title>\r\n",
       "<polygon fill=\"#ffffff\" stroke=\"black\" points=\"312,-261 175,-261 175,-193 312,-193 312,-261\"/>\r\n",
       "<text text-anchor=\"middle\" x=\"243.5\" y=\"-245.8\" font-family=\"Times New Roman,serif\" font-size=\"14.00\">Age of home &lt;= 36.0</text>\r\n",
       "<text text-anchor=\"middle\" x=\"243.5\" y=\"-230.8\" font-family=\"Times New Roman,serif\" font-size=\"14.00\">gini = 0.665</text>\r\n",
       "<text text-anchor=\"middle\" x=\"243.5\" y=\"-215.8\" font-family=\"Times New Roman,serif\" font-size=\"14.00\">samples = 20</text>\r\n",
       "<text text-anchor=\"middle\" x=\"243.5\" y=\"-200.8\" font-family=\"Times New Roman,serif\" font-size=\"14.00\">value = [7, 6, 7]</text>\r\n",
       "</g>\r\n",
       "<!-- 1 -->\r\n",
       "<g id=\"node2\" class=\"node\"><title>1</title>\r\n",
       "<polygon fill=\"#c09cf2\" stroke=\"black\" points=\"236,-157 101,-157 101,-89 236,-89 236,-157\"/>\r\n",
       "<text text-anchor=\"middle\" x=\"168.5\" y=\"-141.8\" font-family=\"Times New Roman,serif\" font-size=\"14.00\">Local Price &lt;= 8.411</text>\r\n",
       "<text text-anchor=\"middle\" x=\"168.5\" y=\"-126.8\" font-family=\"Times New Roman,serif\" font-size=\"14.00\">gini = 0.56</text>\r\n",
       "<text text-anchor=\"middle\" x=\"168.5\" y=\"-111.8\" font-family=\"Times New Roman,serif\" font-size=\"14.00\">samples = 10</text>\r\n",
       "<text text-anchor=\"middle\" x=\"168.5\" y=\"-96.8\" font-family=\"Times New Roman,serif\" font-size=\"14.00\">value = [2, 2, 6]</text>\r\n",
       "</g>\r\n",
       "<!-- 0&#45;&gt;1 -->\r\n",
       "<g id=\"edge1\" class=\"edge\"><title>0&#45;&gt;1</title>\r\n",
       "<path fill=\"none\" stroke=\"black\" d=\"M219.15,-192.884C212.731,-184.154 205.724,-174.625 199.025,-165.514\"/>\r\n",
       "<polygon fill=\"black\" stroke=\"black\" points=\"201.729,-163.283 192.985,-157.299 196.089,-167.429 201.729,-163.283\"/>\r\n",
       "<text text-anchor=\"middle\" x=\"189.215\" y=\"-178.313\" font-family=\"Times New Roman,serif\" font-size=\"14.00\">True</text>\r\n",
       "</g>\r\n",
       "<!-- 4 -->\r\n",
       "<g id=\"node5\" class=\"node\"><title>4</title>\r\n",
       "<polygon fill=\"#fbeade\" stroke=\"black\" points=\"382.5,-157 254.5,-157 254.5,-89 382.5,-89 382.5,-157\"/>\r\n",
       "<text text-anchor=\"middle\" x=\"318.5\" y=\"-141.8\" font-family=\"Times New Roman,serif\" font-size=\"14.00\">Local Price &lt;= 4.55</text>\r\n",
       "<text text-anchor=\"middle\" x=\"318.5\" y=\"-126.8\" font-family=\"Times New Roman,serif\" font-size=\"14.00\">gini = 0.58</text>\r\n",
       "<text text-anchor=\"middle\" x=\"318.5\" y=\"-111.8\" font-family=\"Times New Roman,serif\" font-size=\"14.00\">samples = 10</text>\r\n",
       "<text text-anchor=\"middle\" x=\"318.5\" y=\"-96.8\" font-family=\"Times New Roman,serif\" font-size=\"14.00\">value = [5, 4, 1]</text>\r\n",
       "</g>\r\n",
       "<!-- 0&#45;&gt;4 -->\r\n",
       "<g id=\"edge4\" class=\"edge\"><title>0&#45;&gt;4</title>\r\n",
       "<path fill=\"none\" stroke=\"black\" d=\"M267.85,-192.884C274.269,-184.154 281.276,-174.625 287.975,-165.514\"/>\r\n",
       "<polygon fill=\"black\" stroke=\"black\" points=\"290.911,-167.429 294.015,-157.299 285.271,-163.283 290.911,-167.429\"/>\r\n",
       "<text text-anchor=\"middle\" x=\"297.785\" y=\"-178.313\" font-family=\"Times New Roman,serif\" font-size=\"14.00\">False</text>\r\n",
       "</g>\r\n",
       "<!-- 2 -->\r\n",
       "<g id=\"node3\" class=\"node\"><title>2</title>\r\n",
       "<polygon fill=\"#ab7bee\" stroke=\"black\" points=\"105,-53 0,-53 0,-0 105,-0 105,-53\"/>\r\n",
       "<text text-anchor=\"middle\" x=\"52.5\" y=\"-37.8\" font-family=\"Times New Roman,serif\" font-size=\"14.00\">gini = 0.375</text>\r\n",
       "<text text-anchor=\"middle\" x=\"52.5\" y=\"-22.8\" font-family=\"Times New Roman,serif\" font-size=\"14.00\">samples = 8</text>\r\n",
       "<text text-anchor=\"middle\" x=\"52.5\" y=\"-7.8\" font-family=\"Times New Roman,serif\" font-size=\"14.00\">value = [0, 2, 6]</text>\r\n",
       "</g>\r\n",
       "<!-- 1&#45;&gt;2 -->\r\n",
       "<g id=\"edge2\" class=\"edge\"><title>1&#45;&gt;2</title>\r\n",
       "<path fill=\"none\" stroke=\"black\" d=\"M127.929,-88.9485C116.25,-79.4346 103.533,-69.074 91.9247,-59.6175\"/>\r\n",
       "<polygon fill=\"black\" stroke=\"black\" points=\"94.0557,-56.8392 84.0921,-53.2367 89.6345,-62.2663 94.0557,-56.8392\"/>\r\n",
       "</g>\r\n",
       "<!-- 3 -->\r\n",
       "<g id=\"node4\" class=\"node\"><title>3</title>\r\n",
       "<polygon fill=\"#e58139\" stroke=\"black\" points=\"228,-53 123,-53 123,-0 228,-0 228,-53\"/>\r\n",
       "<text text-anchor=\"middle\" x=\"175.5\" y=\"-37.8\" font-family=\"Times New Roman,serif\" font-size=\"14.00\">gini = 0.0</text>\r\n",
       "<text text-anchor=\"middle\" x=\"175.5\" y=\"-22.8\" font-family=\"Times New Roman,serif\" font-size=\"14.00\">samples = 2</text>\r\n",
       "<text text-anchor=\"middle\" x=\"175.5\" y=\"-7.8\" font-family=\"Times New Roman,serif\" font-size=\"14.00\">value = [2, 0, 0]</text>\r\n",
       "</g>\r\n",
       "<!-- 1&#45;&gt;3 -->\r\n",
       "<g id=\"edge3\" class=\"edge\"><title>1&#45;&gt;3</title>\r\n",
       "<path fill=\"none\" stroke=\"black\" d=\"M170.948,-88.9485C171.558,-80.7153 172.215,-71.848 172.835,-63.4814\"/>\r\n",
       "<polygon fill=\"black\" stroke=\"black\" points=\"176.345,-63.468 173.594,-53.2367 169.364,-62.9508 176.345,-63.468\"/>\r\n",
       "</g>\r\n",
       "<!-- 5 -->\r\n",
       "<g id=\"node6\" class=\"node\"><title>5</title>\r\n",
       "<polygon fill=\"#39e581\" stroke=\"black\" points=\"364,-53 259,-53 259,-0 364,-0 364,-53\"/>\r\n",
       "<text text-anchor=\"middle\" x=\"311.5\" y=\"-37.8\" font-family=\"Times New Roman,serif\" font-size=\"14.00\">gini = 0.0</text>\r\n",
       "<text text-anchor=\"middle\" x=\"311.5\" y=\"-22.8\" font-family=\"Times New Roman,serif\" font-size=\"14.00\">samples = 2</text>\r\n",
       "<text text-anchor=\"middle\" x=\"311.5\" y=\"-7.8\" font-family=\"Times New Roman,serif\" font-size=\"14.00\">value = [0, 2, 0]</text>\r\n",
       "</g>\r\n",
       "<!-- 4&#45;&gt;5 -->\r\n",
       "<g id=\"edge5\" class=\"edge\"><title>4&#45;&gt;5</title>\r\n",
       "<path fill=\"none\" stroke=\"black\" d=\"M316.052,-88.9485C315.442,-80.7153 314.785,-71.848 314.165,-63.4814\"/>\r\n",
       "<polygon fill=\"black\" stroke=\"black\" points=\"317.636,-62.9508 313.406,-53.2367 310.655,-63.468 317.636,-62.9508\"/>\r\n",
       "</g>\r\n",
       "<!-- 6 -->\r\n",
       "<g id=\"node7\" class=\"node\"><title>6</title>\r\n",
       "<polygon fill=\"#f2c09c\" stroke=\"black\" points=\"487,-53 382,-53 382,-0 487,-0 487,-53\"/>\r\n",
       "<text text-anchor=\"middle\" x=\"434.5\" y=\"-37.8\" font-family=\"Times New Roman,serif\" font-size=\"14.00\">gini = 0.531</text>\r\n",
       "<text text-anchor=\"middle\" x=\"434.5\" y=\"-22.8\" font-family=\"Times New Roman,serif\" font-size=\"14.00\">samples = 8</text>\r\n",
       "<text text-anchor=\"middle\" x=\"434.5\" y=\"-7.8\" font-family=\"Times New Roman,serif\" font-size=\"14.00\">value = [5, 2, 1]</text>\r\n",
       "</g>\r\n",
       "<!-- 4&#45;&gt;6 -->\r\n",
       "<g id=\"edge6\" class=\"edge\"><title>4&#45;&gt;6</title>\r\n",
       "<path fill=\"none\" stroke=\"black\" d=\"M359.071,-88.9485C370.75,-79.4346 383.467,-69.074 395.075,-59.6175\"/>\r\n",
       "<polygon fill=\"black\" stroke=\"black\" points=\"397.365,-62.2663 402.908,-53.2367 392.944,-56.8392 397.365,-62.2663\"/>\r\n",
       "</g>\r\n",
       "</g>\r\n",
       "</svg>\r\n"
      ],
      "text/plain": [
       "<graphviz.files.Source at 0x1c622e7e0c8>"
      ]
     },
     "execution_count": 50,
     "metadata": {},
     "output_type": "execute_result"
    }
   ],
   "source": [
    "DT = DecisionTreeClassifier(criterion = 'gini', random_state=123, max_depth=2)\n",
    "DT.fit(x_train, y_train)\n",
    "data = export_graphviz(DT, out_file=None, \n",
    "                                feature_names=list(x_train.columns),  \n",
    "                                filled=True)\n",
    "graphviz.Source(data, format=\"png\")"
   ]
  },
  {
   "cell_type": "markdown",
   "metadata": {},
   "source": [
    "## In the given sample example, age of home is 23 which is <= 36 true and the local price is 9.03 which is greater than 8.41. So the data is classfied into the orange leaf of '' gini = 0.0 and samples = 2, value = [2,0,0]''"
   ]
  },
  {
   "cell_type": "markdown",
   "metadata": {},
   "source": [
    "# Question 3 - knn"
   ]
  },
  {
   "cell_type": "code",
   "execution_count": 70,
   "metadata": {},
   "outputs": [],
   "source": [
    "#Strandardization\n",
    "x_train = StandardScaler().fit_transform(x_train)\n",
    "x_test = StandardScaler().fit_transform(x_test)"
   ]
  },
  {
   "cell_type": "code",
   "execution_count": 74,
   "metadata": {},
   "outputs": [],
   "source": [
    "class KNN():\n",
    "  def __init__(self,neighbours):\n",
    "    self.neighbours = neighbours\n",
    "\n",
    "  def fit(self,x_train,y_train):\n",
    "    self.vectors = x_train\n",
    "    self.classes = y_train\n",
    "\n",
    "  def predict(self,x_test):\n",
    "    final_labels = []\n",
    "    for vector in x_test:\n",
    "        distances = []\n",
    "        for stored_vector in self.vectors:\n",
    "            distances.append(np.linalg.norm(vector-stored_vector))\n",
    "        distances = np.array(distances)\n",
    "        dist = np.argsort(distances)[:self.neighbours]\n",
    "        \n",
    "        #Labels of the K datapoints from above\n",
    "        labels = self.classes[dist]\n",
    "      \n",
    "        #find unique values in array along with their counts\n",
    "        vals, counts = np.unique(labels, return_counts=True)\n",
    "        \n",
    "        # Majority Vote\n",
    "        mode_value = np.argwhere(counts == np.max(counts))\n",
    "        if len(mode_value) == 1:\n",
    "            temp = (vals[mode_value].tolist())\n",
    "            final_labels.append(temp[0][0])\n",
    "        else:\n",
    "            final_labels.append(list(labels)[0])\n",
    "\n",
    "    return(final_labels)"
   ]
  },
  {
   "cell_type": "code",
   "execution_count": 75,
   "metadata": {},
   "outputs": [
    {
     "data": {
      "text/plain": [
       "['Apartment', 'Apartment', 'House', 'Apartment', 'House']"
      ]
     },
     "execution_count": 75,
     "metadata": {},
     "output_type": "execute_result"
    }
   ],
   "source": [
    "#Fitting model\n",
    "model = KNN(neighbours=5)\n",
    "model.fit(x_train,y_train)\n",
    "model.predict(x_test)"
   ]
  },
  {
   "cell_type": "markdown",
   "metadata": {},
   "source": [
    "### Accuracy for different number of neighbors:"
   ]
  },
  {
   "cell_type": "code",
   "execution_count": 76,
   "metadata": {},
   "outputs": [],
   "source": [
    "neighbours = np.arange(1,6)\n",
    "acc = []\n",
    "for k in neighbours:\n",
    "    model = KNN(neighbours=k)\n",
    "    model.fit(x_train,y_train)\n",
    "    y_pred = model.predict(x_test)\n",
    "    acc.append(accuracy_score(y_test,y_pred))"
   ]
  },
  {
   "cell_type": "code",
   "execution_count": 81,
   "metadata": {},
   "outputs": [
    {
     "data": {
      "image/png": "[encoded data removed]",
      "text/plain": [
       "<Figure size 432x288 with 1 Axes>"
      ]
     },
     "metadata": {
      "needs_background": "light"
     },
     "output_type": "display_data"
    }
   ],
   "source": [
    "plt.plot(neighbours,acc,'orange')\n",
    "plt.title(\"Accuracy for different k\")\n",
    "plt.show()"
   ]
  },
  {
   "cell_type": "markdown",
   "metadata": {},
   "source": [
    "## As number of neighbours increased the accuracy stayed constant at 0.4 till 3 neighbours. Accuracy then increased and futher decresed with maximum accuracy at 4 neighbours. So k = 4 is the optimal number of neighbours"
   ]
  },
  {
   "cell_type": "code",
   "execution_count": null,
   "metadata": {},
   "outputs": [],
   "source": []
  }
 ],
 "metadata": {
  "kernelspec": {
   "display_name": "Python 3",
   "language": "python",
   "name": "python3"
  },
  "language_info": {
   "codemirror_mode": {
    "name": "ipython",
    "version": 3
   },
   "file_extension": ".py",
   "mimetype": "text/x-python",
   "name": "python",
   "nbconvert_exporter": "python",
   "pygments_lexer": "ipython3",
   "version": "3.7.6"
  }
 },
 "nbformat": 4,
 "nbformat_minor": 4
}
